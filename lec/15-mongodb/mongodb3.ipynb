{
 "cells": [
  {
   "cell_type": "markdown",
   "id": "76b7259f-7636-4a5f-bc1d-14e53c20bc7b",
   "metadata": {},
   "source": [
    "## MongoDB"
   ]
  },
  {
   "cell_type": "code",
   "execution_count": null,
   "id": "ecf47526-0bd9-498e-aa07-b9b847c01746",
   "metadata": {},
   "outputs": [],
   "source": [
    "# import statements\n",
    "import os\n",
    "from pymongo import MongoClient\n",
    "import bson\n",
    "from datetime import datetime, timedelta"
   ]
  },
  {
   "cell_type": "markdown",
   "id": "b2dc037e-0ff1-4924-9186-6efbbf3dc6d7",
   "metadata": {},
   "source": [
    "### Connection establishment"
   ]
  },
  {
   "cell_type": "code",
   "execution_count": null,
   "id": "397cd947-3033-4fa1-b738-264ee76eeaef",
   "metadata": {},
   "outputs": [],
   "source": [
    "client = MongoClient('mongodb://localhost:27017/')\n",
    "db = client.sample_training"
   ]
  },
  {
   "cell_type": "code",
   "execution_count": null,
   "id": "bb4e1910-f907-4367-9451-6cca094c5768",
   "metadata": {},
   "outputs": [],
   "source": [
    "# directory where the JSON files are stored\n",
    "json_dir = 'sample_training'\n",
    "json_files = [f for f in os.listdir(json_dir) if f.endswith(\".json\")]\n",
    "collections = [f.replace(\".json\", \"\") for f in json_files]\n",
    "collections"
   ]
  },
  {
   "cell_type": "code",
   "execution_count": null,
   "id": "f4e512c4-2a03-4c9e-8eac-678ff0d2e376",
   "metadata": {},
   "outputs": [],
   "source": [
    "for idx, json_file in enumerate(json_files):\n",
    "    with open(os.path.join(json_dir, json_file), 'r') as f:\n",
    "        for line in f:\n",
    "            data = bson.json_util.loads(line.strip())\n",
    "            db[collections[idx]].insert_one(data)\n",
    "        \n",
    "        print(f\"Loaded {json_file} into the '{collections[idx]}' collection.\")"
   ]
  },
  {
   "cell_type": "code",
   "execution_count": null,
   "id": "564a58ba-65d3-4d35-8862-e46870e2434a",
   "metadata": {},
   "outputs": [],
   "source": [
    "db.list_collection_names()"
   ]
  },
  {
   "cell_type": "markdown",
   "id": "d91ef08f-7c47-43b4-8fca-b77bf5b7dea8",
   "metadata": {},
   "source": [
    "#### Q: Find all inspections that either occurred in Manhattan or Brooklyn.\n",
    "\n",
    "- equivalent to:\n",
    "```\n",
    "    SELECT * FROM <TABLE NAME>\n",
    "    WHERE <SOME COLUMN1> = <SOME VALUE> OR\n",
    "        <SOME COLUMN 2> >= <SOME VALUE1> AND <SOME COLUMN2> <= <SOME VALUE 2>\n",
    "```"
   ]
  },
  {
   "cell_type": "code",
   "execution_count": null,
   "id": "958cff19-d5cc-4155-b2f4-a3b94b9c7051",
   "metadata": {},
   "outputs": [],
   "source": [
    "cursor = db.inspections.find({\n",
    "    \"$or\": [\n",
    "        { \"address.city\": \"MANHTTAN\" },\n",
    "        { \"address.city\": \"BROOKLYN\" }\n",
    "    ]\n",
    "})\n",
    "\n",
    "ny_la_inspections = list(cursor)\n",
    "ny_la_inspections"
   ]
  },
  {
   "cell_type": "markdown",
   "id": "975196ed-44c6-4e98-9c0f-720680b0f15a",
   "metadata": {},
   "source": [
    "### Mongodb comparison operators\n",
    "\n",
    "- `$eq`: Matches values that are equal to a specified value.\n",
    "- `$gt`: Matches values that are greater than a specified value.\n",
    "- `$gte`: Matches values that are greater than or equal to a specified value.\n",
    "- `$in`: Matches any of the values specified in an array.\n",
    "- `$lt`: Matches values that are less than a specified value.\n",
    "- `$lte`: Matches values that are less than or equal to a specified value.\n",
    "- `$ne`: Matches all values that are not equal to a specified value.\n",
    "- `$nin`: Matches none of the values specified in an array.\n",
    "\n",
    "Documentation: https://www.mongodb.com/docs/manual/reference/operator/query-comparison/"
   ]
  },
  {
   "cell_type": "markdown",
   "id": "a1024ad2-72e3-486b-ac6e-fa1d40185b7e",
   "metadata": {},
   "source": [
    "### `limit()` method\n",
    "\n",
    "- specify the maximum number of documents the cursor will return\n",
    "- documentation: https://www.mongodb.com/docs/manual/reference/method/cursor.limit/#mongodb-method-cursor.limit\n",
    "\n",
    "#### Q: Find the first five trips.\n",
    "\n",
    "- equivalent to: `SELECT * FROM <TABLE NAME> LIMIT <N>`"
   ]
  },
  {
   "cell_type": "code",
   "execution_count": null,
   "id": "179f45c2-68ce-4817-8897-e191c2a78467",
   "metadata": {},
   "outputs": [],
   "source": [
    "five_trips = list(db.trips.find().limit(5))\n",
    "five_trips"
   ]
  },
  {
   "cell_type": "markdown",
   "id": "5e92280b-e0e8-4bed-9bd6-acd74e7bcf43",
   "metadata": {},
   "source": [
    "### Sorting using `sort` method\n",
    "\n",
    "### `sort()` method\n",
    "\n",
    "- Specify in the sort parameter the field or fields to sort by and a value of 1 or -1 to specify an ascending or descending sort respectively.\n",
    "- documentation: https://www.mongodb.com/docs/manual/reference/method/cursor.sort/#mongodb-method-cursor.sort\n",
    "\n",
    "### `$regex`\n",
    "- documentation: https://www.mongodb.com/docs/manual/reference/operator/query/regex/\n",
    "\n",
    "#### Q: Find all inspections that occurred in 2015 and sort them by ascending order of `id`.\n",
    "\n",
    "- equivalent to: `SELECT * FROM <TABLE NAME> WHERE <SOME COL> LIKE <SOME SEARCH TERM> ORDER BY <SOME COL> ASC`"
   ]
  },
  {
   "cell_type": "code",
   "execution_count": null,
   "id": "674d057f-a5cd-43f7-8861-7a7c77f0fe33",
   "metadata": {},
   "outputs": [],
   "source": [
    "inspections_2015 = db.inspections.find({\n",
    "    \"date\": {\"$regex\": \"2015\"}\n",
    "}).sort(\"id\", 1)  # 1 for ascending order\n",
    "list(inspections_2015)"
   ]
  },
  {
   "cell_type": "markdown",
   "id": "1fb91391-0fd7-43e4-9a72-40acc0705518",
   "metadata": {},
   "source": [
    "Sort the same using descending order."
   ]
  },
  {
   "cell_type": "code",
   "execution_count": null,
   "id": "fd4b15d0-c6da-4bab-a17a-ffab3dca43ac",
   "metadata": {},
   "outputs": [],
   "source": [
    "inspections_2015 = db.inspections.find({\n",
    "    \"date\": {\"$regex\": \"2015\"}\n",
    "}).sort(\"id\", -1)  # 1 for ascending order\n",
    "list(inspections_2015)"
   ]
  },
  {
   "cell_type": "markdown",
   "id": "8d6c89c2-60d1-4384-90aa-86f6b0f613eb",
   "metadata": {},
   "source": [
    "#### Q: Find all inspections on all incorporated businesses."
   ]
  },
  {
   "cell_type": "code",
   "execution_count": null,
   "id": "91edc325-7151-46ea-89a0-a12ca755823b",
   "metadata": {},
   "outputs": [],
   "source": [
    "inc_inspections = db.inspections.find({\n",
    "    \"business_name\": {\"$regex\": \"INC$|INC\\\\.$\"}\n",
    "})\n",
    "list(inc_inspections)[-3:]"
   ]
  },
  {
   "cell_type": "markdown",
   "id": "4f8d877d-c450-45c0-8103-7f6b4bec26b2",
   "metadata": {},
   "source": [
    "### `findOne(query, projection, options)`\n",
    "\n",
    "- Fetches the first document that matches the query\n",
    "- documentation: https://www.mongodb.com/docs/manual/reference/method/db.collection.findOne/\n",
    "- **IMPORTANT**: In Python API, you must replace camelcase with `_`. That is, method name is `find_one`.\n",
    "\n",
    "#### Q: Find the first trip."
   ]
  },
  {
   "cell_type": "code",
   "execution_count": null,
   "id": "2470ac16-a9d4-4778-bc8e-a79da4d1546c",
   "metadata": {},
   "outputs": [],
   "source": [
    "trip = db.trips.find_one()\n",
    "trip"
   ]
  },
  {
   "cell_type": "markdown",
   "id": "e2246483-632b-4716-b6f8-c059eb592c23",
   "metadata": {},
   "source": [
    "### MongoDB shell `mongosh`\n",
    "\n",
    "```\n",
    "docker exec -it <container name> mongosh\n",
    "show dbs\n",
    "use sample_training\n",
    "show collections\n",
    "db.trips.find().limit(5).pretty()\n",
    "```"
   ]
  },
  {
   "cell_type": "markdown",
   "id": "0eb1c126-8ec5-4092-9c73-5d3492e01722",
   "metadata": {},
   "source": [
    "### `db.collection.countDocuments(query, options)`\n",
    "\n",
    "- Returns an integer for the number of documents that match the query of the collection or view.\n",
    "- documentation: https://www.mongodb.com/docs/manual/reference/method/db.collection.countDocuments/\n",
    "\n",
    "#### Q: How many trips are in the trips collection?"
   ]
  },
  {
   "cell_type": "code",
   "execution_count": null,
   "id": "2f591a6b-3851-4ea9-9c20-346a4d22e017",
   "metadata": {},
   "outputs": [],
   "source": [
    "db.trips.count_documents({})"
   ]
  },
  {
   "cell_type": "markdown",
   "id": "b3e118d6-f3dd-445c-8213-230862af49a3",
   "metadata": {},
   "source": [
    "#### Q: How many trips were taken by people born after the year 1988?"
   ]
  },
  {
   "cell_type": "code",
   "execution_count": null,
   "id": "31b77154-9196-4b76-8e17-0076aa455eeb",
   "metadata": {},
   "outputs": [],
   "source": [
    "db.trips.count_documents({ \"birth year\": { \"$gt\": 1988 } })"
   ]
  },
  {
   "cell_type": "markdown",
   "id": "f1cdbc6d-5daf-4bd9-bd5f-7f2f98eb7e91",
   "metadata": {},
   "source": [
    "### AirBnb Listings and Reviews\n",
    "\n",
    "Source: https://www.mongodb.com/docs/atlas/sample-data/sample-airbnb/"
   ]
  },
  {
   "cell_type": "code",
   "execution_count": null,
   "id": "c6194705-c390-4290-8fd6-a411250b35a0",
   "metadata": {},
   "outputs": [],
   "source": [
    "db = client.sample_airbnb"
   ]
  },
  {
   "cell_type": "code",
   "execution_count": null,
   "id": "bb3ac0d2-fb9c-4741-9353-bbb33fe99069",
   "metadata": {},
   "outputs": [],
   "source": [
    "# directory where the JSON files are stored\n",
    "json_dir = 'sample_airbnb'\n",
    "json_files = [f for f in os.listdir(json_dir) if f.endswith(\".json\")]\n",
    "collections = [f.replace(\".json\", \"\") for f in json_files]\n",
    "collections"
   ]
  },
  {
   "cell_type": "code",
   "execution_count": null,
   "id": "2842f385-277e-43d5-8553-e162fbb59ccd",
   "metadata": {},
   "outputs": [],
   "source": [
    "for idx, json_file in enumerate(json_files):\n",
    "    with open(os.path.join(json_dir, json_file), 'r') as f:\n",
    "        for line in f:\n",
    "            data = bson.json_util.loads(line.strip())\n",
    "            db[collections[idx]].insert_one(data)\n",
    "        \n",
    "        print(f\"Loaded {json_file} into the '{collections[idx]}' collection.\")"
   ]
  },
  {
   "cell_type": "code",
   "execution_count": null,
   "id": "e185cfb0-4fc8-45dc-b16a-06188ef20b66",
   "metadata": {},
   "outputs": [],
   "source": [
    "db.list_collection_names()"
   ]
  },
  {
   "cell_type": "code",
   "execution_count": null,
   "id": "bbcb7359-2ef8-4ead-ba7d-4c66114cf9f7",
   "metadata": {},
   "outputs": [],
   "source": [
    "#db.listingsAndReviews.find_one({}, {\"_id\": 0})"
   ]
  },
  {
   "cell_type": "markdown",
   "id": "886a7a1e-3f01-48c6-afbc-c695dec5d32c",
   "metadata": {},
   "source": [
    "### Mongodb logical operators\n",
    "\n",
    "- `$and`: Joins query clauses with a logical AND returns all documents that match the conditions of both clauses.\n",
    "- `$not`: Inverts the effect of a query predicate and returns documents that do not match the query predicate.\n",
    "- `$nor`: Joins query clauses with a logical NOR returns all documents that fail to match both clauses.\n",
    "- `$or`: Joins query clauses with a logical OR returns all documents that match the conditions of either clause.\n",
    "\n",
    "Documentation: https://www.mongodb.com/docs/manual/reference/operator/query-logical/"
   ]
  },
  {
   "cell_type": "markdown",
   "id": "547e1b39-3fab-4c4c-ba26-5d6c961a5e03",
   "metadata": {},
   "source": [
    "#### Q: Find listings where the price is 100 and the number of bedrooms is 2."
   ]
  },
  {
   "cell_type": "markdown",
   "id": "46f42ef2-81ba-47cb-bb7d-9cd1c6f44f83",
   "metadata": {},
   "source": [
    "Default logical operator is `$and`."
   ]
  },
  {
   "cell_type": "code",
   "execution_count": null,
   "id": "8fc958fd-3432-4642-9d93-5d435886592e",
   "metadata": {},
   "outputs": [],
   "source": [
    "cursor = db.listingsAndReviews.find(\n",
    "    {\"price\": 100, \"bedrooms\": 2},\n",
    "    {\"name\": 1, \"price\": 1, \"bedrooms\": 1, \"_id\": 0}\n",
    ")\n",
    "listings = list(cursor)\n",
    "listings[:5]"
   ]
  },
  {
   "cell_type": "markdown",
   "id": "e4ac7d67-c8e5-4a11-b0ed-713c7b1e18f3",
   "metadata": {},
   "source": [
    "You could also explicitly make it clear that `$and` operator is being applied."
   ]
  },
  {
   "cell_type": "code",
   "execution_count": null,
   "id": "e42ac07c-f794-42ee-b688-33cf7da7eeb4",
   "metadata": {},
   "outputs": [],
   "source": [
    "cursor = db.listingsAndReviews.find(\n",
    "    {\"$and\": [{\"price\": 100}, {\"bedrooms\": 2}]},\n",
    "    {\"name\": 1, \"price\": 1, \"bedrooms\": 1, \"_id\": 0}\n",
    ")\n",
    "listings = list(cursor)\n",
    "listings[:5]"
   ]
  },
  {
   "cell_type": "markdown",
   "id": "c2ee324d-5402-46de-9b70-5605100eb7dc",
   "metadata": {},
   "source": [
    "#### Q: Find listings where the price is 100 or the number of bedrooms is 2."
   ]
  },
  {
   "cell_type": "code",
   "execution_count": null,
   "id": "8ad5d19e-975f-43fb-9672-355186355daa",
   "metadata": {},
   "outputs": [],
   "source": [
    "cursor = db.listingsAndReviews.find(\n",
    "    {\"$or\": [{\"price\": 100}, {\"bedrooms\": 2}]},\n",
    "    {\"name\": 1, \"price\": 1, \"bedrooms\": 1, \"_id\": 0}\n",
    ")\n",
    "listings = list(cursor)\n",
    "listings[:5]"
   ]
  },
  {
   "cell_type": "markdown",
   "id": "e78d7fd3-751d-4aeb-a94a-72b12d873678",
   "metadata": {},
   "source": [
    "#### Q: Find listings where the price is not greater than 100."
   ]
  },
  {
   "cell_type": "code",
   "execution_count": null,
   "id": "28cf4177-0413-43c7-a84c-80a26741a7a7",
   "metadata": {},
   "outputs": [],
   "source": [
    "cursor = db.listingsAndReviews.find(\n",
    "    {\"price\": {\"$not\": {\"$gt\": 100}}},\n",
    "    {\"name\": 1, \"price\": 1, \"_id\": 0}\n",
    ")\n",
    "listings = list(cursor)\n",
    "listings[:5]"
   ]
  },
  {
   "cell_type": "markdown",
   "id": "3a309ee6-3680-4b04-9a1e-af5253fb7186",
   "metadata": {},
   "source": [
    "Of course, you can solve this without using the `$not` operator too."
   ]
  },
  {
   "cell_type": "code",
   "execution_count": null,
   "id": "34a209dc-4fef-459e-b28a-e614a4758448",
   "metadata": {},
   "outputs": [],
   "source": [
    "cursor = db.listingsAndReviews.find(\n",
    "    {\"price\": {\"$lte\": 100}},\n",
    "    {\"name\": 1, \"price\": 1, \"_id\": 0}\n",
    ")\n",
    "listings = list(cursor)\n",
    "listings[:5]"
   ]
  },
  {
   "cell_type": "markdown",
   "id": "1345e59e-43ae-4dea-8654-c51ca6c8d839",
   "metadata": {},
   "source": [
    "#### Q: Find listings where the price is neither 100 nor 200."
   ]
  },
  {
   "cell_type": "code",
   "execution_count": null,
   "id": "695326cf-2d1a-492e-9fe0-70465e5971cc",
   "metadata": {},
   "outputs": [],
   "source": [
    "cursor = db.listingsAndReviews.find(\n",
    "    {\"$nor\": [{\"price\": 100}, {\"price\": 200}]},\n",
    "    {\"name\": 1, \"price\": 1, \"bedrooms\": 1, \"_id\": 0}\n",
    ")\n",
    "listings = list(cursor)\n",
    "listings[:5]"
   ]
  },
  {
   "cell_type": "markdown",
   "id": "fd31fa05-d2df-42ac-8db2-1c23734487fd",
   "metadata": {},
   "source": [
    "### Mongodb element query operators\n",
    "\n",
    "- `$exists` (`True` or `False`): Matches documents that have the specified field.\n",
    "- `$type`: Selects documents if a field is of the specified type.\n",
    "\n",
    "Documentation: https://www.mongodb.com/docs/manual/reference/operator/query-element/"
   ]
  },
  {
   "cell_type": "markdown",
   "id": "fbf0e6ce-1835-475a-bc8e-e40b06ca51f4",
   "metadata": {},
   "source": [
    "#### Q: Find listings where the `cleaning_fee` field exists."
   ]
  },
  {
   "cell_type": "code",
   "execution_count": null,
   "id": "5f48a5c3-558e-4e61-8921-8b9982bc51b6",
   "metadata": {},
   "outputs": [],
   "source": [
    "cursor = db.listingsAndReviews.find(\n",
    "    {\"cleaning_fee\": {\"$exists\": True}}, \n",
    "    {\"name\": 1, \"cleaning_fee\": 1, \"_id\": 0}\n",
    ")\n",
    "listings = list(cursor)\n",
    "len(listings)"
   ]
  },
  {
   "cell_type": "code",
   "execution_count": null,
   "id": "e69b2bd5-b7a2-4627-8226-129ce45eddde",
   "metadata": {},
   "outputs": [],
   "source": [
    "cursor = db.listingsAndReviews.find(\n",
    "    {\"cleaning_fee\": {\"$exists\": False}}, \n",
    "    {\"name\": 1, \"cleaning_fee\": 1, \"_id\": 0}\n",
    ")\n",
    "listings = list(cursor)\n",
    "len(listings)"
   ]
  },
  {
   "cell_type": "markdown",
   "id": "5049fb76-abb5-47e5-9e4e-dadca5f48f4c",
   "metadata": {},
   "source": [
    "List of types documentation: https://www.mongodb.com/docs/manual/reference/operator/query/type/#mongodb-query-op.-type"
   ]
  },
  {
   "cell_type": "markdown",
   "id": "58ba3364-bfc4-46ec-b167-8953e28b0058",
   "metadata": {},
   "source": [
    "#### Q: Find listings where the price is stored as decimal."
   ]
  },
  {
   "cell_type": "code",
   "execution_count": null,
   "id": "afc50c30-279b-4410-9382-84c1b109342d",
   "metadata": {},
   "outputs": [],
   "source": [
    "cursor = db.listingsAndReviews.find(\n",
    "    {\"price\": {\"$type\": \"decimal\"}}, \n",
    "    {\"name\": 1, \"price\": 1, \"_id\": 0}\n",
    ")\n",
    "listings = list(cursor)\n",
    "len(listings)"
   ]
  },
  {
   "cell_type": "markdown",
   "id": "abb496f8-ac2a-4207-8796-b9ef9d11a754",
   "metadata": {},
   "source": [
    "### Mongodb evaluation query operators\n",
    "\n",
    "- `$regex`: Selects documents where values match a specified regular expression.\n",
    "- `$expr`: Allows use of aggregation expressions within the query language.\n",
    "- `$mod`: Performs a modulo operation on the value of a field and selects documents with a specified result.\n",
    "\n",
    "Documentation: https://www.mongodb.com/docs/manual/reference/operator/query-logical/"
   ]
  },
  {
   "cell_type": "markdown",
   "id": "55bb2d00-0577-48a8-b387-25c0cf348cbc",
   "metadata": {},
   "source": [
    "#### Q: Find all listings where extra_people is more than twice of guests_included."
   ]
  },
  {
   "cell_type": "code",
   "execution_count": null,
   "id": "4b5f26cc-6cc1-4ff0-ba72-fc93890841b1",
   "metadata": {},
   "outputs": [],
   "source": [
    "cursor = db.listingsAndReviews.find(\n",
    "    {\n",
    "        \"$expr\": {\n",
    "            \"$gt\": [\"$extra_people\", {\n",
    "                \"$multiply\": [\"$guests_included\", 2]\n",
    "            }]\n",
    "        }\n",
    "    },\n",
    "    {\"name\": 1, \"extra_people\": 1, \"guests_included\": 1, \"_id\": 0}\n",
    ")\n",
    "listings = list(cursor)\n",
    "listings[:1]"
   ]
  },
  {
   "cell_type": "markdown",
   "id": "f5d7777a-5cc2-4369-8a37-9506ed8e95e7",
   "metadata": {},
   "source": [
    "#### Q: Find listings where the last_review date is within the last 30 days.\n",
    "For the purpose of this question, let's assume current day is March 11th 2019. Last review date from the dataset. \n",
    "\n",
    "**Self-assesment**: Try writing code to figure this out!"
   ]
  },
  {
   "cell_type": "code",
   "execution_count": null,
   "id": "d52eb832-1552-4d84-97f1-5b55f4fe2953",
   "metadata": {},
   "outputs": [],
   "source": [
    "march_11_2019 = datetime(2019, 3, 11, 0, 0)\n",
    "thirty_days_ago = march_11_2019 - timedelta(days=30)\n",
    "\n",
    "cursor = db.listingsAndReviews.find(\n",
    "    {\n",
    "        \"$expr\": {\n",
    "            \"$gt\": [\"$last_review\", thirty_days_ago]\n",
    "        }\n",
    "    },\n",
    "    {\"name\": 1, \"last_review\": 1, \"_id\": 0}\n",
    ")\n",
    "listings = list(cursor)\n",
    "listings[:5]"
   ]
  },
  {
   "cell_type": "markdown",
   "id": "11241731-8232-4557-bc24-256ae7c840fa",
   "metadata": {},
   "source": [
    "#### Q: Find listings where the price is a multiple of 5."
   ]
  },
  {
   "cell_type": "code",
   "execution_count": null,
   "id": "1dfbc917-f41b-4092-8c0e-8b6fa55e0203",
   "metadata": {},
   "outputs": [],
   "source": [
    "cursor = db.listingsAndReviews.find(\n",
    "    {\"price\": {\"$mod\": [5, 0]}},\n",
    "    {\"name\": 1, \"price\": 1, \"_id\": 0}\n",
    ")\n",
    "listings = list(cursor)\n",
    "listings[:3]"
   ]
  },
  {
   "cell_type": "markdown",
   "id": "2b547347-9e0e-487c-bc37-4f2ccd0f86d6",
   "metadata": {},
   "source": [
    "### Array Query Operators\n",
    "\n",
    "- `$all`: Matches arrays that contain all elements specified in the query.\n",
    "- `$elemMatch`: Selects documents if at least one element in the array field matches all the specified $elemMatch conditions.\n",
    "- `$size`: Selects documents if the array field is a specified size.\n",
    "\n",
    "- documentation: https://www.mongodb.com/docs/manual/reference/operator/query-array/"
   ]
  },
  {
   "cell_type": "markdown",
   "id": "56e677a0-8252-4652-ae51-29fd2557f7be",
   "metadata": {},
   "source": [
    "#### Q: Find the name the amenities of listings where the number of amenities is exactly 5."
   ]
  },
  {
   "cell_type": "code",
   "execution_count": null,
   "id": "0435ef97-9415-4f0d-9600-23e2e691ea12",
   "metadata": {},
   "outputs": [],
   "source": [
    "cursor = db.listingsAndReviews.find(\n",
    "    {\"amenities\": {\"$size\": 5}},\n",
    "    {\"name\": 1, \"amenities\": 1, \"_id\": 0}\n",
    ")\n",
    "listings = list(cursor)\n",
    "listings[:3]"
   ]
  },
  {
   "cell_type": "markdown",
   "id": "e2a9ff8e-987b-4bc4-ad02-ee7a2a634853",
   "metadata": {},
   "source": [
    "#### Q: Find the name the amenities of all listings that have \"Pack ’n Play/travel crib\"."
   ]
  },
  {
   "cell_type": "code",
   "execution_count": null,
   "id": "2bb9d68e-1f21-4251-be5d-7a9078113bcc",
   "metadata": {},
   "outputs": [],
   "source": [
    "cursor = db.listingsAndReviews.find(\n",
    "    {\n",
    "        \"amenities\": {\n",
    "            \"$in\": [\"Pack ’n Play/travel crib\"]\n",
    "        }\n",
    "    },\n",
    "    {\"name\": 1, \"amenities\": 1, \"_id\": 0}\n",
    ")\n",
    "listings = list(cursor)\n",
    "listings[:1]"
   ]
  },
  {
   "cell_type": "markdown",
   "id": "5b97ba83-c663-4218-b65c-2a140d7bf0a8",
   "metadata": {},
   "source": [
    "#### Q: Find the name the amenities of all listings that have \"Pack ’n Play/travel crib\" and \"High chair\"."
   ]
  },
  {
   "cell_type": "code",
   "execution_count": null,
   "id": "5d27744d-c2f1-4f01-8fa3-a3eec773c827",
   "metadata": {},
   "outputs": [],
   "source": [
    "cursor = db.listingsAndReviews.find(\n",
    "    {\n",
    "        \"amenities\": {\n",
    "            \"$all\": [\"Pack ’n Play/travel crib\", \"High chair\"]\n",
    "        }\n",
    "    },\n",
    "    {\"name\": 1, \"amenities\": 1, \"_id\": 0}\n",
    ")\n",
    "listings = list(cursor)\n",
    "listings[:1]"
   ]
  },
  {
   "cell_type": "markdown",
   "id": "66f48a80-0e4f-475a-8c49-05aacbc371b2",
   "metadata": {},
   "source": [
    "#### Q: Find the name the amenities of listings that have at least one of: \"Pack ’n Play/travel crib\", \"High chair\"."
   ]
  },
  {
   "cell_type": "code",
   "execution_count": null,
   "id": "f1b22c93-4b8b-4e2a-bac3-5fc294488e09",
   "metadata": {},
   "outputs": [],
   "source": [
    "cursor = db.listingsAndReviews.find(\n",
    "    {\n",
    "        \"amenities\": {\n",
    "            \"$elemMatch\": {\n",
    "                \"$in\": [\"Pack ’n Play/travel crib\", \"High chair\"]}\n",
    "        }\n",
    "    },\n",
    "    {\"name\": 1, \"amenities\": 1, \"_id\": 0}\n",
    ")\n",
    "listings = list(cursor)\n",
    "listings[:1]"
   ]
  },
  {
   "cell_type": "markdown",
   "id": "b01a6243-602e-4286-a802-c85d58ccdaad",
   "metadata": {},
   "source": [
    "#### Q: Find all listings with at least 10 amenities."
   ]
  },
  {
   "cell_type": "code",
   "execution_count": null,
   "id": "4b5b7060-8aa2-4c6e-af13-4de567931888",
   "metadata": {},
   "outputs": [],
   "source": [
    "cursor = db.listingsAndReviews.find(\n",
    "    {\n",
    "        \"$expr\": {\n",
    "            \"$gte\": [{\"$size\": \"$amenities\"}, 10] \n",
    "        }\n",
    "    },\n",
    "    {\"name\": 1, \"amenities\": 1, \"_id\": 0}\n",
    ")\n",
    "listings = list(cursor)\n",
    "listings[:2]"
   ]
  },
  {
   "cell_type": "markdown",
   "id": "2b2ed77c-7d4d-4bca-93a6-e4afbd382345",
   "metadata": {},
   "source": [
    "### Mongodb projection operators\n",
    "\n",
    "- `$slice`: Limits the number of elements in an array that appear in the query results.\n",
    "    - Positive \\<N\\>: Slices first N elements.\n",
    "    - Negative \\<N\\>: Slices last N elements.\n",
    "    - **IMPORTANT NOTE:** Slicing is applied inside projection and not inside the query aka selection."
   ]
  },
  {
   "cell_type": "markdown",
   "id": "b84746fd-b330-45d3-a3c0-eb0c523ff63c",
   "metadata": {},
   "source": [
    "#### Q: Find the first 3 amenities for each listing."
   ]
  },
  {
   "cell_type": "code",
   "execution_count": null,
   "id": "b6d38a3c-9e97-4bf6-a641-34a84ed3a4a7",
   "metadata": {},
   "outputs": [],
   "source": [
    "cursor = db.listingsAndReviews.find({},\n",
    "    {\"name\": 1, \"amenities\": {\"$slice\": 3}, \"_id\": 0}\n",
    ")\n",
    "listings = list(cursor)\n",
    "listings[:1]"
   ]
  },
  {
   "cell_type": "markdown",
   "id": "581a80ab-950a-4bf9-bcc1-b910c9c070cc",
   "metadata": {},
   "source": [
    "#### Q: Find the last 3 amenities for each listing."
   ]
  },
  {
   "cell_type": "code",
   "execution_count": null,
   "id": "281a448c-b3f7-44b4-871b-d18910429748",
   "metadata": {},
   "outputs": [],
   "source": [
    "cursor = db.listingsAndReviews.find({},\n",
    "    {\"name\": 1, \"amenities\": {\"$slice\": -3}, \"_id\": 0}\n",
    ")\n",
    "listings = list(cursor)\n",
    "listings[:1]"
   ]
  },
  {
   "cell_type": "markdown",
   "id": "01a5c6c5-3187-43a7-bd5f-23e6a4fde6d5",
   "metadata": {},
   "source": [
    "### Analytics dataset\n",
    "\n",
    "Source: https://www.mongodb.com/docs/atlas/sample-data/sample-analytics/"
   ]
  },
  {
   "cell_type": "code",
   "execution_count": null,
   "id": "3c16042d-4856-4533-8329-8282f1536849",
   "metadata": {},
   "outputs": [],
   "source": [
    "db = client.sample_analytics"
   ]
  },
  {
   "cell_type": "code",
   "execution_count": null,
   "id": "6bc64542-4ddf-4f15-b213-1ef64b7562f9",
   "metadata": {},
   "outputs": [],
   "source": [
    "# directory where the JSON files are stored\n",
    "json_dir = 'sample_analytics'\n",
    "json_files = [f for f in os.listdir(json_dir) if f.endswith(\".json\")]\n",
    "collections = [f.replace(\".json\", \"\") for f in json_files]\n",
    "collections"
   ]
  },
  {
   "cell_type": "code",
   "execution_count": null,
   "id": "0e6cd74b-dd19-46f8-ad3b-1b65f74c49e9",
   "metadata": {},
   "outputs": [],
   "source": [
    "for idx, json_file in enumerate(json_files):\n",
    "    with open(os.path.join(json_dir, json_file), 'r') as f:\n",
    "        for line in f:\n",
    "            data = bson.json_util.loads(line.strip())\n",
    "            db[collections[idx]].insert_one(data)\n",
    "        \n",
    "        print(f\"Loaded {json_file} into the '{collections[idx]}' collection.\")"
   ]
  },
  {
   "cell_type": "markdown",
   "id": "ab46f4ce-a440-49fd-9472-d95dc86474cd",
   "metadata": {},
   "source": [
    "### Combining information from multiple collections"
   ]
  },
  {
   "cell_type": "markdown",
   "id": "b0efe551-4d26-46b7-8d88-397ca53e30ec",
   "metadata": {},
   "source": [
    "#### Q: Find all transactions made by customers born in 1988."
   ]
  },
  {
   "cell_type": "markdown",
   "id": "7c7accf8-5656-43c5-a9ba-cd67b841e527",
   "metadata": {},
   "source": [
    "Let's first find relevant information from customers collection."
   ]
  },
  {
   "cell_type": "code",
   "execution_count": null,
   "id": "4873b00a-4f8c-4b07-a408-50935ee97796",
   "metadata": {},
   "outputs": [],
   "source": [
    "start_date = datetime(1988, 1, 1)\n",
    "end_date = datetime(1989, 1, 1)\n",
    "\n",
    "born_in_1988 = db.customers.find(\n",
    "    {\n",
    "        \"birthdate\": {\n",
    "            \"$gte\": start_date, \"$lt\": end_date\n",
    "        }\n",
    "    }, \n",
    "    {\"accounts\": 1, \"birthdate\": 1, \"_id\": 1})\n",
    "born_in_1988 = list(born_in_1988)"
   ]
  },
  {
   "cell_type": "code",
   "execution_count": null,
   "id": "e3b5b411-da32-48ff-9826-e4dcefa50406",
   "metadata": {},
   "outputs": [],
   "source": [
    "all_accounts = []\n",
    "\n",
    "for customer in born_in_1988:\n",
    "    accounts = customer[\"accounts\"]\n",
    "    all_accounts.extend(accounts)"
   ]
  },
  {
   "cell_type": "code",
   "execution_count": null,
   "id": "4e6bec50-2abf-4683-b2ef-89aa1d671e2c",
   "metadata": {},
   "outputs": [],
   "source": [
    "transactions = db.transactions.find({\"account_id\": {\"$in\": all_accounts}})\n",
    "transactions = list(transactions)\n",
    "transactions[:1]"
   ]
  },
  {
   "cell_type": "code",
   "execution_count": null,
   "id": "d3f0e24f-1ec4-4a68-b6f9-f3dd44afca05",
   "metadata": {},
   "outputs": [],
   "source": []
  }
 ],
 "metadata": {
  "kernelspec": {
   "display_name": "Python 3 (ipykernel)",
   "language": "python",
   "name": "python3"
  },
  "language_info": {
   "codemirror_mode": {
    "name": "ipython",
    "version": 3
   },
   "file_extension": ".py",
   "mimetype": "text/x-python",
   "name": "python",
   "nbconvert_exporter": "python",
   "pygments_lexer": "ipython3",
   "version": "3.10.12"
  }
 },
 "nbformat": 4,
 "nbformat_minor": 5
}
