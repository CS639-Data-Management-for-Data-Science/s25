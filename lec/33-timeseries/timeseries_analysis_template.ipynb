{
 "cells": [
  {
   "cell_type": "code",
   "execution_count": null,
   "id": "841975c5-8a37-494c-8cd5-ba17c61b8f45",
   "metadata": {},
   "outputs": [],
   "source": [
    "import sys\n",
    "!{sys.executable} -m pip install tqdm"
   ]
  },
  {
   "cell_type": "code",
   "execution_count": null,
   "id": "dfbb7190-37fc-4f77-bfad-ce72237d92bd",
   "metadata": {},
   "outputs": [],
   "source": [
    "import pandas as pd\n",
    "import numpy as np\n",
    "import matplotlib.pyplot as plt\n",
    "import os\n",
    "# new import statements\n"
   ]
  },
  {
   "cell_type": "markdown",
   "id": "32ab9956-1d5b-4a31-809b-7a21ea86160b",
   "metadata": {},
   "source": [
    "### Retailrocket recommender system dataset\n",
    "\n",
    "Source: https://www.kaggle.com/retailrocket/ecommerce-dataset"
   ]
  },
  {
   "cell_type": "markdown",
   "id": "35f6d898-108e-46e4-8ea2-0628fc5375ea",
   "metadata": {},
   "source": [
    "Load the dataset files."
   ]
  },
  {
   "cell_type": "code",
   "execution_count": null,
   "id": "bcca2cd5-7f27-485d-80b7-68d1e24f4c3f",
   "metadata": {},
   "outputs": [],
   "source": [
    "events = pd.read_csv(os.path.join(\\\n",
    "    '..', 'timeseries_lec_data', 'events.csv'))\n",
    "item_properties = pd.read_csv(os.path.join(\\\n",
    "    '..', 'timeseries_lec_data', 'item_properties_part1.csv'))\n",
    "category_tree = pd.read_csv(os.path.join(\\\n",
    "    '..', 'timeseries_lec_data', 'category_tree.csv'))"
   ]
  },
  {
   "cell_type": "code",
   "execution_count": null,
   "id": "01fd0ab3-0f87-4cae-ae6a-28cf289498f1",
   "metadata": {},
   "outputs": [],
   "source": [
    "events['event_datetime'] = pd.to_datetime(events['timestamp'], unit='ms')\n",
    "events['event_date'] = events['event_datetime'].dt.date\n",
    "events"
   ]
  },
  {
   "cell_type": "code",
   "execution_count": null,
   "id": "8f3deb63-562e-43cb-a981-aa74bf7405d2",
   "metadata": {},
   "outputs": [],
   "source": [
    "item_properties"
   ]
  },
  {
   "cell_type": "code",
   "execution_count": null,
   "id": "827fffa1-1b9d-4fb8-bb33-4eee8fc7302b",
   "metadata": {},
   "outputs": [],
   "source": [
    "category_tree"
   ]
  },
  {
   "cell_type": "markdown",
   "id": "c706bcfc-6e7f-4013-9c10-0ccc26b57529",
   "metadata": {},
   "source": [
    "#### Q1: What is the Spearman correlation between the number of \"view\" events and the number of \"addtocart\" events per item?"
   ]
  },
  {
   "cell_type": "code",
   "execution_count": null,
   "id": "967d3f12-59a5-4a23-acd9-47001807d6bd",
   "metadata": {},
   "outputs": [],
   "source": [
    "# Filtering: view / addtocart events\n",
    "view_events = events[events['event'] == 'view']\n",
    "addtocart_events = events[events['event'] == 'addtocart']\n",
    "\n",
    "# Item count\n",
    "view_counts = view_events['itemid'].value_counts()\n",
    "addtocart_counts = addtocart_events['itemid'].value_counts()\n",
    "\n",
    "# Count DataFrames\n",
    "view_df = view_counts.reset_index().rename(columns=\\\n",
    "                                           {'count': 'view_count'})\n",
    "addtocart_df = addtocart_counts.reset_index().rename(columns=\\\n",
    "                                                     {'count': 'addtocart_count'})\n",
    "\n",
    "# Single merged DataFrame\n",
    "merged_df = pd.merge(view_df, addtocart_df, on='itemid', how='inner')"
   ]
  },
  {
   "cell_type": "code",
   "execution_count": null,
   "id": "e66c8d53-1aa2-484d-a78a-38c491a70cd3",
   "metadata": {},
   "outputs": [],
   "source": [
    "spearman_corr = merged_df['view_count'].corr(merged_df['addtocart_count'],\\\n",
    "                                             method='spearman')\n",
    "spearman_corr"
   ]
  },
  {
   "cell_type": "markdown",
   "id": "dc7726fd-3a7e-470f-bac3-b2a306f39a92",
   "metadata": {},
   "source": [
    "#### Q2: Create a scatter plot with ordinary least squares' trend line to show correlation between the number of \"view\" events and the number of \"addtocart\" events per item. "
   ]
  },
  {
   "cell_type": "code",
   "execution_count": null,
   "id": "2fe6ccc7-decb-4833-aa4c-7a5925270317",
   "metadata": {},
   "outputs": [],
   "source": []
  },
  {
   "cell_type": "markdown",
   "id": "03cf61aa-058b-4684-a930-4253114096f1",
   "metadata": {},
   "source": [
    "#### Q3: Plot a line chart of the number of events (view, transaction, etc.) over time, color-coded by the event type."
   ]
  },
  {
   "cell_type": "code",
   "execution_count": null,
   "id": "5db550be-9c47-45fe-95ba-02d41ac8939d",
   "metadata": {},
   "outputs": [],
   "source": [
    "events_grouped = \n",
    "\n",
    "fig = \n",
    "              color='event', \n",
    "              title=\"Event counts over time (by event type)\", \n",
    "              labels={'event_count': 'Number of events', 'event_date': 'Date'})\n",
    "fig.write_html('events_vs_date.html')\n",
    "fig.show()"
   ]
  },
  {
   "cell_type": "markdown",
   "id": "dca78d27-08e1-4f8e-9aca-18f93c83ded9",
   "metadata": {},
   "source": [
    "#### pandas `resample` method\n",
    "\n",
    "Documentation: https://pandas.pydata.org/docs/reference/api/pandas.DataFrame.resample.html"
   ]
  },
  {
   "cell_type": "markdown",
   "id": "6b9908a3-513c-49c9-ad00-c5a471d362da",
   "metadata": {},
   "source": [
    "#### Q4: Calculate the monthly count number of events and create a line chart."
   ]
  },
  {
   "cell_type": "code",
   "execution_count": null,
   "id": "122007e4-f136-4732-9535-b9307e495ee2",
   "metadata": {},
   "outputs": [],
   "source": [
    "events"
   ]
  },
  {
   "cell_type": "code",
   "execution_count": null,
   "id": "bc06e9f5-b3df-4095-ab2f-2bbb302c7d0b",
   "metadata": {},
   "outputs": [],
   "source": [
    "# Set timestamp as the index, resample to Month-Start, and calculate the count of number of events\n",
    "\n",
    "# 'ME' --- Month-End also would work for montly statistics\n",
    "\n",
    "\n",
    "fig = px.line(\n",
    "\n",
    "    color='year', \n",
    "    title=\"Monthly total event counts\",\n",
    "    labels={'event_datetime': 'Month', 'event_count': 'Average Events', 'year': 'Year'}\n",
    ")\n",
    "fig.show()"
   ]
  },
  {
   "cell_type": "markdown",
   "id": "e7998f2b-4acc-4f8b-a51e-a8273123e663",
   "metadata": {},
   "source": [
    "#### Q5: Calculate the total number of events per day of the week for each year and visualize the trend with a line chart."
   ]
  },
  {
   "cell_type": "code",
   "execution_count": null,
   "id": "9c207985-0040-4dad-a1bc-a954fc5c50d9",
   "metadata": {},
   "outputs": [],
   "source": [
    "events_v2 = events.copy()\n",
    "\n",
    "events_v2['year'] = \n",
    "events_v2['dayofweek'] = \n",
    "# Add 1 to make Monday = 1, Sunday = 7\n",
    "\n",
    "\n",
    "fig = px.line(\n",
    "    \n",
    "    title=\"Total events per day of the week\",\n",
    "    labels={'dayofweek': 'Day of Week (1=Monday, 7=Sunday)', 'event_count': 'Total Events'}\n",
    ")\n",
    "fig.show()"
   ]
  },
  {
   "cell_type": "code",
   "execution_count": null,
   "id": "1106e0e5-8d3f-44e8-81e2-bba11352f719",
   "metadata": {},
   "outputs": [],
   "source": [
    "events"
   ]
  },
  {
   "cell_type": "markdown",
   "id": "2f641cbe-1be6-4ce0-877b-f7f30a11fa90",
   "metadata": {},
   "source": [
    "#### Q6: Aggregate the number of events per day and plot the trend for the total number of events over time."
   ]
  },
  {
   "cell_type": "code",
   "execution_count": null,
   "id": "fbaf9e39-5629-47ca-9d6f-caef1eb452df",
   "metadata": {},
   "outputs": [],
   "source": [
    "\n",
    "\n",
    "fig = px.line(\n",
    "    events_per_day, \n",
    "    x='event_datetime', \n",
    "    y='event_count', \n",
    "    title=\"Total events per day\", \n",
    "    labels={'event_datetime': 'Date', 'event_count': 'Total Events'}\n",
    ")\n",
    "fig.show()"
   ]
  },
  {
   "cell_type": "markdown",
   "id": "8609fde0-d2f4-4e3a-accf-7b4e790b6a26",
   "metadata": {},
   "source": [
    "### One-hot encoding\n",
    "\n",
    "One-hot encoding is a method for converting categorical data (non-numeric data that can take on a limited number of values, e.g., \"view\", \"addtocart\", \"transaction\") into a numerical format that machine learning algorithms can understand\n",
    "\n",
    "#### `pandas get_dummies` function\n",
    "\n",
    "Documentation: https://pandas.pydata.org/docs/reference/api/pandas.get_dummies.html"
   ]
  },
  {
   "cell_type": "markdown",
   "id": "4b621938-193c-44e0-843a-c4dffe967a42",
   "metadata": {},
   "source": [
    "#### Q7: One-hot encode the events data"
   ]
  },
  {
   "cell_type": "markdown",
   "id": "296eff40-a4fb-4f04-b8be-c34ce80c7524",
   "metadata": {},
   "source": [
    "Let's first determine the type of `event` column."
   ]
  },
  {
   "cell_type": "code",
   "execution_count": null,
   "id": "62ed2909-692a-4977-95fc-6045af51f162",
   "metadata": {},
   "outputs": [],
   "source": [
    "print()"
   ]
  },
  {
   "cell_type": "markdown",
   "id": "788fba7b-e655-4cbc-9aec-310168ff5bff",
   "metadata": {},
   "source": [
    "Explore all the `events` DataFrame column datatypes."
   ]
  },
  {
   "cell_type": "code",
   "execution_count": null,
   "id": "c5c264bb-95bc-4e9f-b493-6f26be2c1b4d",
   "metadata": {},
   "outputs": [],
   "source": [
    "events.head()"
   ]
  },
  {
   "cell_type": "code",
   "execution_count": null,
   "id": "acccb4c9-d1b3-4bed-be82-0a9ca52235d1",
   "metadata": {},
   "outputs": [],
   "source": []
  },
  {
   "cell_type": "markdown",
   "id": "d509504a-3519-4444-9875-d546d710a9a8",
   "metadata": {},
   "source": [
    "Let's drop `event_date` column."
   ]
  },
  {
   "cell_type": "code",
   "execution_count": null,
   "id": "290bcf3f-a1a5-4b38-a5bf-71cb18b96e94",
   "metadata": {},
   "outputs": [],
   "source": []
  },
  {
   "cell_type": "code",
   "execution_count": null,
   "id": "b7e0263b-719d-44d6-8df3-16cfcf081ca3",
   "metadata": {},
   "outputs": [],
   "source": [
    "def one_hot_encoder(df: pd.DataFrame, nan_as_category: bool = True) -> Tuple[pd.DataFrame, List[str]]:\n",
    "    \"\"\"\n",
    "    One-hot encode categorical columns in the given DataFrame.\n",
    "    \n",
    "    Parameters:\n",
    "        df (pd.DataFrame): The input DataFrame.\n",
    "        nan_as_category (bool): Whether to include NaN as a separate category.\n",
    "    \n",
    "    Returns:\n",
    "        Tuple[pd.DataFrame, List[str]]: The transformed DataFrame and the list of new column names.\n",
    "    \"\"\"\n",
    "    "
   ]
  },
  {
   "cell_type": "code",
   "execution_count": null,
   "id": "9d5a327b-044a-482f-a594-6f4e37ce72f2",
   "metadata": {},
   "outputs": [],
   "source": [
    "events"
   ]
  },
  {
   "cell_type": "code",
   "execution_count": null,
   "id": "d514ed45-3502-4bc0-9050-78366719b75e",
   "metadata": {},
   "outputs": [],
   "source": []
  },
  {
   "cell_type": "markdown",
   "id": "d9d1e0ed-22ac-4065-a269-a7297f01a02a",
   "metadata": {},
   "source": [
    "## Statistical model for timeseries analysis\n",
    "\n",
    "### 1. Exponential Moving Average (EMA)\n",
    "EMA is a quantitative technique used as a forecasting model for time series analysis. It is a statistical method used to smooth time-series data by giving more weight to recent observations and less weight to older ones. It's useful in scenarios where recent data points are considered more relevant and informative. Typical use case scenarios include financial time-series analysis or e-commerce product popularity prediction.\n",
    "\n",
    "#### Q8: Use an Exponential Moving Average (EMA) model to calculate the average itemid view counts per category in the events dataset. Calculate the EMA for each category over a specified span."
   ]
  },
  {
   "cell_type": "code",
   "execution_count": null,
   "id": "34fe4c76-1cab-454c-9a3e-260a72daef1b",
   "metadata": {},
   "outputs": [],
   "source": [
    "item_properties"
   ]
  },
  {
   "cell_type": "markdown",
   "id": "96599c59-6124-4c9a-a711-d6b4d822bca3",
   "metadata": {},
   "source": [
    "#### Filter `item_properties` to get only rows where `property` is 'categoryid'."
   ]
  },
  {
   "cell_type": "code",
   "execution_count": null,
   "id": "a1923b59-8f04-42e3-9b29-73b8682c1f16",
   "metadata": {},
   "outputs": [],
   "source": [
    "category_items = \n",
    "# 'value' column contains the category IDs, so let's rename value to categoryid\n",
    "# category_items\n",
    "category_items"
   ]
  },
  {
   "cell_type": "markdown",
   "id": "43d78301-9d7f-4fbc-8fec-06e769d667a9",
   "metadata": {},
   "source": [
    "#### Type conversion to `int`."
   ]
  },
  {
   "cell_type": "code",
   "execution_count": null,
   "id": "2af22ace-a622-477c-9c29-cb31192eeeaa",
   "metadata": {},
   "outputs": [],
   "source": [
    "category_items['categoryid'] = \n",
    "category_tree['categoryid'] = "
   ]
  },
  {
   "cell_type": "markdown",
   "id": "8eafce12-dccb-4995-b6af-ea7fb493a322",
   "metadata": {},
   "source": [
    "#### Merge `category_items` with `category_tree` to get `parentid` (product family) for each category."
   ]
  },
  {
   "cell_type": "code",
   "execution_count": null,
   "id": "53ad165a-37e0-44f8-a3b5-ef8af10941f1",
   "metadata": {},
   "outputs": [],
   "source": [
    "category_items = \n",
    "category_items"
   ]
  },
  {
   "cell_type": "markdown",
   "id": "79be9593-9c2b-4eaf-bf3e-0774127e2351",
   "metadata": {},
   "source": [
    "#### Compute the unique category ids (product families)."
   ]
  },
  {
   "cell_type": "code",
   "execution_count": null,
   "id": "18c774e0-a25e-4e83-b044-866f7327cd6b",
   "metadata": {},
   "outputs": [],
   "source": [
    "categories = \n",
    "categories"
   ]
  },
  {
   "cell_type": "markdown",
   "id": "cac591f1-30d7-4224-ba7f-b48e9a7e87d3",
   "metadata": {},
   "source": [
    "#### Create a dataframe to store the results"
   ]
  },
  {
   "cell_type": "code",
   "execution_count": null,
   "id": "9dd8d763-3140-436c-b2bc-80e642b339d0",
   "metadata": {},
   "outputs": [],
   "source": [
    "results = \n",
    "results"
   ]
  },
  {
   "cell_type": "markdown",
   "id": "e0d955dc-079a-4589-8f12-150d2809c01b",
   "metadata": {},
   "source": [
    "#### Compute EMA for view event counts"
   ]
  },
  {
   "cell_type": "code",
   "execution_count": null,
   "id": "4408318e-882e-43b4-9665-a8c942723037",
   "metadata": {},
   "outputs": [],
   "source": [
    "results_list = []\n",
    "\n",
    "for category in tqdm(categories, total=len(categories)):\n",
    "    # get the itemids associated with the current category\n",
    "    category_items_for_category = \n",
    "    \n",
    "#     # filter the events dataset for the current category's items and 'view' events\n",
    "#     category_events = \n",
    "    \n",
    "#     # group by timestamp to get the view counts per timestamp\n",
    "#     view_counts = \n",
    "    \n",
    "#     # apply the Exponential Moving Average (EMA) with a span of 16 to smooth the view counts\n",
    "#     ema_values = \n",
    "    \n",
    "#     # store the results with the EMA values for the category\n",
    "#     category_results = \n",
    "    \n",
    "#     # append the current category's results to the results list\n",
    "#     results_list.append(category_results)\n",
    "\n",
    "# # concatenate all the results into a single DataFrame\n",
    "# results = "
   ]
  },
  {
   "cell_type": "code",
   "execution_count": null,
   "id": "33895206-1a42-4f86-86b4-48a12017560e",
   "metadata": {},
   "outputs": [],
   "source": [
    "results"
   ]
  }
 ],
 "metadata": {
  "kernelspec": {
   "display_name": "Python 3 (ipykernel)",
   "language": "python",
   "name": "python3"
  },
  "language_info": {
   "codemirror_mode": {
    "name": "ipython",
    "version": 3
   },
   "file_extension": ".py",
   "mimetype": "text/x-python",
   "name": "python",
   "nbconvert_exporter": "python",
   "pygments_lexer": "ipython3",
   "version": "3.10.12"
  }
 },
 "nbformat": 4,
 "nbformat_minor": 5
}
