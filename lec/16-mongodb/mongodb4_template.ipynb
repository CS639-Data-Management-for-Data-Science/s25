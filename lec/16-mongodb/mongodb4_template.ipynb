{
 "cells": [
  {
   "cell_type": "markdown",
   "id": "76b7259f-7636-4a5f-bc1d-14e53c20bc7b",
   "metadata": {},
   "source": [
    "## MongoDB 1"
   ]
  },
  {
   "cell_type": "code",
   "execution_count": null,
   "id": "ecf47526-0bd9-498e-aa07-b9b847c01746",
   "metadata": {},
   "outputs": [],
   "source": [
    "# import statements\n",
    "import os\n",
    "from pymongo import MongoClient\n",
    "import bson\n",
    "from datetime import datetime, timedelta"
   ]
  },
  {
   "cell_type": "markdown",
   "id": "b2dc037e-0ff1-4924-9186-6efbbf3dc6d7",
   "metadata": {},
   "source": [
    "### Connection establishment"
   ]
  },
  {
   "cell_type": "code",
   "execution_count": null,
   "id": "397cd947-3033-4fa1-b738-264ee76eeaef",
   "metadata": {},
   "outputs": [],
   "source": [
    "client = MongoClient('mongodb://localhost:27017/')"
   ]
  },
  {
   "cell_type": "code",
   "execution_count": null,
   "id": "c6194705-c390-4290-8fd6-a411250b35a0",
   "metadata": {},
   "outputs": [],
   "source": [
    "db = client.sample_airbnb"
   ]
  },
  {
   "cell_type": "code",
   "execution_count": null,
   "id": "e185cfb0-4fc8-45dc-b16a-06188ef20b66",
   "metadata": {},
   "outputs": [],
   "source": [
    "db.list_collection_names()"
   ]
  },
  {
   "cell_type": "code",
   "execution_count": null,
   "id": "bbcb7359-2ef8-4ead-ba7d-4c66114cf9f7",
   "metadata": {},
   "outputs": [],
   "source": [
    "#db.listingsAndReviews.find_one({}, {\"_id\": 0})"
   ]
  },
  {
   "cell_type": "markdown",
   "id": "575705d9-f97a-4f0a-933b-5a9231ece4c8",
   "metadata": {},
   "source": [
    "### Mongodb evaluation query operators\n",
    "\n",
    "- `$regex`: Selects documents where values match a specified regular expression.\n",
    "- `$expr`: Allows use of aggregation expressions within the query language.\n",
    "- `$mod`: Performs a modulo operation on the value of a field and selects documents with a specified result.\n",
    "\n",
    "Documentation: https://www.mongodb.com/docs/manual/reference/operator/query-logical/"
   ]
  },
  {
   "cell_type": "markdown",
   "id": "d9cb5c51-9299-47e6-a132-99ef83483313",
   "metadata": {},
   "source": [
    "#### Q: Find all listings where extra_people is more than twice of guests_included."
   ]
  },
  {
   "cell_type": "code",
   "execution_count": null,
   "id": "6048874d-d438-4fe8-9b66-57ab67d58fbb",
   "metadata": {},
   "outputs": [],
   "source": [
    "cursor = db.listingsAndReviews.find(\n",
    "    {\n",
    "      \n",
    "    },\n",
    "    {\"name\": 1, \"extra_people\": 1, \"guests_included\": 1, \"_id\": 0}\n",
    ")\n",
    "listings = list(cursor)\n",
    "listings[:1]"
   ]
  },
  {
   "cell_type": "markdown",
   "id": "bebf365c-248e-437d-8f0c-f85b88cd736e",
   "metadata": {},
   "source": [
    "#### Q: Find listings where the last_review date is within the last 30 days.\n",
    "For the purpose of this question, let's assume current day is March 11th 2019. Last review date from the dataset. \n",
    "\n",
    "**Self-assesment**: Try writing code to figure this out!"
   ]
  },
  {
   "cell_type": "code",
   "execution_count": null,
   "id": "d094266b-dff8-46a7-9f79-a88ecf81a78e",
   "metadata": {},
   "outputs": [],
   "source": [
    "march_11_2019 = \n",
    "thirty_days_ago = \n",
    "\n",
    "cursor = db.listingsAndReviews.find(\n",
    "    {\n",
    "        \n",
    "    },\n",
    "    {\"name\": 1, \"last_review\": 1, \"_id\": 0}\n",
    ")\n",
    "listings = list(cursor)\n",
    "listings[:5]"
   ]
  },
  {
   "cell_type": "markdown",
   "id": "c73cb161-ddca-4004-9b5c-5258407ffbab",
   "metadata": {},
   "source": [
    "#### Q: Find listings where the price is a multiple of 5."
   ]
  },
  {
   "cell_type": "code",
   "execution_count": null,
   "id": "194f55b9-fcfd-4110-872c-97648878af48",
   "metadata": {},
   "outputs": [],
   "source": [
    "cursor = db.listingsAndReviews.find(\n",
    "    {},\n",
    "    {\"name\": 1, \"price\": 1, \"_id\": 0}\n",
    ")\n",
    "listings = list(cursor)\n",
    "listings[:3]"
   ]
  },
  {
   "cell_type": "markdown",
   "id": "2b547347-9e0e-487c-bc37-4f2ccd0f86d6",
   "metadata": {},
   "source": [
    "### Array Query Operators\n",
    "\n",
    "- `$all`: Matches arrays that contain all elements specified in the query.\n",
    "- `$elemMatch`: Selects documents if at least one element in the array field matches all the specified $elemMatch conditions.\n",
    "- `$size`: Selects documents if the array field is a specified size.\n",
    "\n",
    "- documentation: https://www.mongodb.com/docs/manual/reference/operator/query-array/"
   ]
  },
  {
   "cell_type": "markdown",
   "id": "56e677a0-8252-4652-ae51-29fd2557f7be",
   "metadata": {},
   "source": [
    "#### Q: Find the name the amenities of listings where the number of amenities is exactly 5."
   ]
  },
  {
   "cell_type": "code",
   "execution_count": null,
   "id": "0435ef97-9415-4f0d-9600-23e2e691ea12",
   "metadata": {},
   "outputs": [],
   "source": [
    "cursor = db.listingsAndReviews.find(\n",
    "    {},\n",
    "    {\"name\": 1, \"amenities\": 1, \"_id\": 0}\n",
    ")\n",
    "listings = list(cursor)\n",
    "listings[:3]"
   ]
  },
  {
   "cell_type": "markdown",
   "id": "e2a9ff8e-987b-4bc4-ad02-ee7a2a634853",
   "metadata": {},
   "source": [
    "#### Q: Find the name the amenities of all listings that have \"Pack ’n Play/travel crib\"."
   ]
  },
  {
   "cell_type": "markdown",
   "id": "abc44865-bab4-4a1a-84ce-7b9c827055ec",
   "metadata": {},
   "source": [
    "#### Review: `$in` comparison operator: Matches any of the values specified in an array."
   ]
  },
  {
   "cell_type": "code",
   "execution_count": null,
   "id": "2bb9d68e-1f21-4251-be5d-7a9078113bcc",
   "metadata": {},
   "outputs": [],
   "source": [
    "cursor = db.listingsAndReviews.find(\n",
    "    {\n",
    "        \n",
    "    },\n",
    "    {\"name\": 1, \"amenities\": 1, \"_id\": 0}\n",
    ")\n",
    "listings = list(cursor)\n",
    "listings[:1]"
   ]
  },
  {
   "cell_type": "markdown",
   "id": "5b97ba83-c663-4218-b65c-2a140d7bf0a8",
   "metadata": {},
   "source": [
    "#### Q: Find the name the amenities of all listings that have \"Pack ’n Play/travel crib\" and \"High chair\"."
   ]
  },
  {
   "cell_type": "code",
   "execution_count": null,
   "id": "5d27744d-c2f1-4f01-8fa3-a3eec773c827",
   "metadata": {},
   "outputs": [],
   "source": [
    "cursor = db.listingsAndReviews.find(\n",
    "    {\n",
    "        \n",
    "    },\n",
    "    {\"name\": 1, \"amenities\": 1, \"_id\": 0}\n",
    ")\n",
    "listings = list(cursor)\n",
    "listings[:1]"
   ]
  },
  {
   "cell_type": "markdown",
   "id": "66f48a80-0e4f-475a-8c49-05aacbc371b2",
   "metadata": {},
   "source": [
    "#### Q: Find the name the amenities of listings that have at least one of: \"Pack ’n Play/travel crib\", \"High chair\"."
   ]
  },
  {
   "cell_type": "code",
   "execution_count": null,
   "id": "f1b22c93-4b8b-4e2a-bac3-5fc294488e09",
   "metadata": {},
   "outputs": [],
   "source": [
    "cursor = db.listingsAndReviews.find(\n",
    "    {\n",
    "        \n",
    "    },\n",
    "    {\"name\": 1, \"amenities\": 1, \"_id\": 0}\n",
    ")\n",
    "listings = list(cursor)\n",
    "listings[:1]"
   ]
  },
  {
   "cell_type": "markdown",
   "id": "b01a6243-602e-4286-a802-c85d58ccdaad",
   "metadata": {},
   "source": [
    "#### Q: Find all listings with at least 10 amenities."
   ]
  },
  {
   "cell_type": "code",
   "execution_count": null,
   "id": "4b5b7060-8aa2-4c6e-af13-4de567931888",
   "metadata": {},
   "outputs": [],
   "source": [
    "cursor = db.listingsAndReviews.find(\n",
    "    {\n",
    "        \n",
    "    },\n",
    "    {\"name\": 1, \"amenities\": 1, \"_id\": 0}\n",
    ")\n",
    "listings = list(cursor)\n",
    "listings[:2]"
   ]
  },
  {
   "cell_type": "markdown",
   "id": "2b2ed77c-7d4d-4bca-93a6-e4afbd382345",
   "metadata": {},
   "source": [
    "### Mongodb projection operators\n",
    "\n",
    "- `$slice`: Limits the number of elements in an array that appear in the query results.\n",
    "    - Positive \\<N\\>: Slices first N elements.\n",
    "    - Negative \\<N\\>: Slices last N elements.\n",
    "    - **IMPORTANT NOTE:** Slicing is applied inside projection and not inside the query aka selection."
   ]
  },
  {
   "cell_type": "markdown",
   "id": "b84746fd-b330-45d3-a3c0-eb0c523ff63c",
   "metadata": {},
   "source": [
    "#### Q: Find the first 3 amenities for each listing."
   ]
  },
  {
   "cell_type": "code",
   "execution_count": null,
   "id": "b6d38a3c-9e97-4bf6-a641-34a84ed3a4a7",
   "metadata": {},
   "outputs": [],
   "source": [
    "cursor = db.listingsAndReviews.find({},\n",
    "    {\"name\": 1, \"amenities\": ???, \"_id\": 0}\n",
    ")\n",
    "listings = list(cursor)\n",
    "listings[:1]"
   ]
  },
  {
   "cell_type": "markdown",
   "id": "581a80ab-950a-4bf9-bcc1-b910c9c070cc",
   "metadata": {},
   "source": [
    "#### Q: Find the last 3 amenities for each listing."
   ]
  },
  {
   "cell_type": "code",
   "execution_count": null,
   "id": "281a448c-b3f7-44b4-871b-d18910429748",
   "metadata": {},
   "outputs": [],
   "source": [
    "cursor = db.listingsAndReviews.find({},\n",
    "    {\"name\": 1, \"amenities\": {\"$slice\": 3}, \"_id\": 0}\n",
    ")\n",
    "listings = list(cursor)\n",
    "listings[:1]"
   ]
  },
  {
   "cell_type": "markdown",
   "id": "01a5c6c5-3187-43a7-bd5f-23e6a4fde6d5",
   "metadata": {},
   "source": [
    "### Analytics dataset\n",
    "\n",
    "Source: https://www.mongodb.com/docs/atlas/sample-data/sample-analytics/"
   ]
  },
  {
   "cell_type": "code",
   "execution_count": null,
   "id": "3c16042d-4856-4533-8329-8282f1536849",
   "metadata": {},
   "outputs": [],
   "source": [
    "db = client.sample_analytics"
   ]
  },
  {
   "cell_type": "code",
   "execution_count": null,
   "id": "6bc64542-4ddf-4f15-b213-1ef64b7562f9",
   "metadata": {},
   "outputs": [],
   "source": [
    "# directory where the JSON files are stored\n",
    "json_dir = 'sample_analytics'\n",
    "json_files = [f for f in os.listdir(json_dir) if f.endswith(\".json\")]\n",
    "collections = [f.replace(\".json\", \"\") for f in json_files]\n",
    "collections"
   ]
  },
  {
   "cell_type": "code",
   "execution_count": null,
   "id": "0e6cd74b-dd19-46f8-ad3b-1b65f74c49e9",
   "metadata": {},
   "outputs": [],
   "source": [
    "for idx, json_file in enumerate(json_files):\n",
    "    with open(os.path.join(json_dir, json_file), 'r') as f:\n",
    "        for line in f:\n",
    "            data = bson.json_util.loads(line.strip())\n",
    "            db[collections[idx]].insert_one(data)\n",
    "        \n",
    "        print(f\"Loaded {json_file} into the '{collections[idx]}' collection.\")"
   ]
  },
  {
   "cell_type": "markdown",
   "id": "ab46f4ce-a440-49fd-9472-d95dc86474cd",
   "metadata": {},
   "source": [
    "### Combining information from multiple collections"
   ]
  },
  {
   "cell_type": "markdown",
   "id": "b0efe551-4d26-46b7-8d88-397ca53e30ec",
   "metadata": {},
   "source": [
    "#### Q: Find all transactions made by customers born in 1988."
   ]
  },
  {
   "cell_type": "markdown",
   "id": "7c7accf8-5656-43c5-a9ba-cd67b841e527",
   "metadata": {},
   "source": [
    "Let's first find relevant information from customers collection."
   ]
  },
  {
   "cell_type": "code",
   "execution_count": null,
   "id": "4873b00a-4f8c-4b07-a408-50935ee97796",
   "metadata": {},
   "outputs": [],
   "source": [
    "start_date = datetime(1988, 1, 1)\n",
    "end_date = datetime(1989, 1, 1)\n",
    "\n",
    "born_in_1988 = db.???.find()\n",
    "born_in_1988 = list(born_in_1988)"
   ]
  },
  {
   "cell_type": "code",
   "execution_count": null,
   "id": "e3b5b411-da32-48ff-9826-e4dcefa50406",
   "metadata": {},
   "outputs": [],
   "source": [
    "all_accounts = []\n",
    "\n"
   ]
  },
  {
   "cell_type": "code",
   "execution_count": null,
   "id": "4e6bec50-2abf-4683-b2ef-89aa1d671e2c",
   "metadata": {},
   "outputs": [],
   "source": [
    "transactions = db.???.find()\n",
    "transactions = list(transactions)\n",
    "transactions[:1]"
   ]
  },
  {
   "cell_type": "markdown",
   "id": "632f3d7e-a385-435c-808c-50c057638b6f",
   "metadata": {},
   "source": [
    "### Aggregation Operations\n",
    "\n",
    "- Use cases:\n",
    "    1. Group values from multiple documents together.\n",
    "    2. Perform operations on the grouped data to return a single result.\n",
    "    3. Analyze data changes over time.\n",
    "- documentation: https://www.mongodb.com/docs/manual/aggregation/\n",
    "- Two types:\n",
    "    1. Single Purpose Aggregation Methods\n",
    "    2. Aggregation Pipelines"
   ]
  },
  {
   "cell_type": "markdown",
   "id": "321ba5df-d8cf-4433-9e4b-2f18250af87d",
   "metadata": {},
   "source": [
    "### 1. Single Purpose Aggregation Methods\n",
    "\n",
    "- `db.collection.estimatedDocumentCount(options)`: Returns an approximate count of the documents in a collection or a view.\n",
    "    - does not take a query filter and instead uses metadata to return the count for a collection.\n",
    "    - more efficient than the countDocuments() method because it does not scan the documents in the collection; instead, it returns the count based on the collection metadata.\n",
    "- `db.collection.countDocuments(query, options)`: Returns a count of the number of documents in a collection or a view.\n",
    "- `db.collection.distinct(field, query, options)`: Returns an array of documents that have distinct values for the specified field."
   ]
  },
  {
   "cell_type": "code",
   "execution_count": null,
   "id": "6edd44b7-31e5-4427-9dc5-477e2b652b58",
   "metadata": {},
   "outputs": [],
   "source": [
    "# fast estimate of count of documents\n",
    "db.listingsAndReviews."
   ]
  },
  {
   "cell_type": "markdown",
   "id": "046e85e3-beb7-482c-8514-dc856165e24b",
   "metadata": {},
   "source": [
    "#### Q: What are the distinct property types?"
   ]
  },
  {
   "cell_type": "code",
   "execution_count": null,
   "id": "39ce88a3-39fc-4523-bdbb-0db780bf95d5",
   "metadata": {},
   "outputs": [],
   "source": [
    "db.listingsAndReviews."
   ]
  },
  {
   "cell_type": "markdown",
   "id": "fd67b741-d6c8-4b69-81a5-0f567b539a1e",
   "metadata": {},
   "source": [
    "#### Q: What are the distinct property types in United States?"
   ]
  },
  {
   "cell_type": "code",
   "execution_count": null,
   "id": "71c5e610-da53-4bcd-bbbd-4eaddb33391d",
   "metadata": {},
   "outputs": [],
   "source": [
    "db.listingsAndReviews."
   ]
  },
  {
   "cell_type": "markdown",
   "id": "35fffcfa-008f-48d5-bad8-860b35fc8f86",
   "metadata": {},
   "source": [
    "#### Q: What are all the suburbs in the United States where we have property listings?"
   ]
  },
  {
   "cell_type": "code",
   "execution_count": null,
   "id": "68b16490-1b23-4a21-ac47-9bf99f944d36",
   "metadata": {},
   "outputs": [],
   "source": [
    "db.listingsAndReviews."
   ]
  },
  {
   "cell_type": "markdown",
   "id": "6d7e7e94-a5b5-438b-9864-26df1a6cbb00",
   "metadata": {},
   "source": [
    "### 2. Aggregation Pipelines\n",
    "\n",
    "- An aggregation pipeline consists of one or more stages that process documents:\n",
    "    - Each stage performs an operation on the input documents. For example, a stage can filter documents, group documents, and calculate values.\n",
    "    - The documents that are output from a stage are passed to the next stage.\n",
    "    - An aggregation pipeline can return results for groups of documents. For example, return the total, average, maximum, and minimum values.\n",
    "\n",
    "### `db.collection.aggregate(pipeline, options)`\n",
    "\n",
    "- Calculates aggregate values for the data in a collection or a view.\n",
    "- Returns:\t\n",
    "    - A cursor for the documents produced by the final stage of the aggregation pipeline.\n",
    "    - If the pipeline includes the `explain` option, the query returns a document that provides details on the processing of the aggregation operation.\n",
    "\n",
    "### Building a pipeline\n",
    "\n",
    "### 1. `$match`\n",
    "- Filters documents based on a specified query predicate. Matched documents are passed to the next pipeline stage.\n",
    "- Syntax: `{ $match: { <query predicate> } }`\n",
    "\n",
    "### 2. `$group`\n",
    "- The $group stage separates documents into groups according to a \"group key\". The output is one document for each unique group key.\n",
    "- A group key is often a field, or group of fields. The group key can also be the result of an expression. Use the `_id` field in the `$group` pipeline stage to set the group key. \n",
    "- In the `$group` stage output, the `_id` field is set to the group key for that document.\n",
    "- Syntax:\n",
    "```\n",
    "{\n",
    " $group:\n",
    "   {\n",
    "     _id: <expression>, // Group key\n",
    "     <field1>: { <accumulator1> : <expression1> },\n",
    "     ...\n",
    "   }\n",
    " }\n",
    "```\n",
    "\n",
    "### 3. `$project`\n",
    "- Passes along the documents with the requested fields to the next stage in the pipeline. The specified fields can be existing fields from the input documents or newly computed fields."
   ]
  },
  {
   "cell_type": "markdown",
   "id": "24b7a017-1e42-4c1f-a97c-54e38c1e1834",
   "metadata": {},
   "source": [
    "#### Q: Find the average price (rounded to two decimal places) of all \"Entire home/apt\" (`room_type`) listings. "
   ]
  },
  {
   "cell_type": "markdown",
   "id": "ef864cb5-0f4a-4c2c-8244-5dee61086af3",
   "metadata": {},
   "source": [
    "What kind of grouping do we want to create here? All documents should be part of a single group because we are querying based on a specific room type. How do we mention this? \n",
    "\n",
    "- `_id: None` - meaning that all documents are treated as belonging to a single group, effectively removing the grouping by any field and aggregating over the entire dataset."
   ]
  },
  {
   "cell_type": "code",
   "execution_count": null,
   "id": "152b6199-2399-4332-bb02-6825573b3772",
   "metadata": {},
   "outputs": [],
   "source": [
    "pipeline = [\n",
    "    \n",
    "]\n",
    "avg_price = list(db.listingsAndReviews.???)\n",
    "avg_price"
   ]
  },
  {
   "cell_type": "code",
   "execution_count": null,
   "id": "01ad8d5a-309b-4788-8b35-9cebcd003183",
   "metadata": {},
   "outputs": [],
   "source": [
    "pipeline = [\n",
    "    \n",
    "]\n",
    "avg_price = list(db.listingsAndReviews.aggregate(pipeline))\n",
    "avg_price"
   ]
  },
  {
   "cell_type": "markdown",
   "id": "f8cd9d20-1ed6-46a4-86e8-18f1be891e60",
   "metadata": {},
   "source": [
    "#### Q: Find the average price (rounded to two decimal places) of all `room_type` listings. "
   ]
  },
  {
   "cell_type": "code",
   "execution_count": null,
   "id": "49c5b327-1ca1-4eb8-80c1-f3fcab31cf0b",
   "metadata": {},
   "outputs": [],
   "source": [
    "pipeline = [\n",
    "\n",
    "]\n",
    "avg_price = list(db.listingsAndReviews.aggregate(pipeline))\n",
    "avg_price"
   ]
  },
  {
   "cell_type": "markdown",
   "id": "da090f26-5063-47e4-9b36-9dcbd7668e32",
   "metadata": {},
   "source": [
    "#### Q: Find the top 2 hosts who have the most listings."
   ]
  },
  {
   "cell_type": "markdown",
   "id": "813be3ef-2e7a-4b4a-8ffc-55cd058ed604",
   "metadata": {},
   "source": [
    "How can you explore a complex document?"
   ]
  },
  {
   "cell_type": "code",
   "execution_count": null,
   "id": "85c24849-9e30-4bb7-8bee-1048a4495743",
   "metadata": {},
   "outputs": [],
   "source": []
  },
  {
   "cell_type": "markdown",
   "id": "db913440-b3d0-411b-a2e6-54cf3b6a1a29",
   "metadata": {},
   "source": [
    "### More pipeline stages\n",
    "\n",
    "4. `$sort`: Reorders the document stream by a specified sort key. Only the order changes; the documents remain unmodified. For each input document, outputs one document.\n",
    "5. `$limit`: Passes the first n documents unmodified to the pipeline where n is the specified limit. For each input document, outputs either one document (for the first n documents) or zero documents (after the first n documents).\n",
    "- documentation: https://www.mongodb.com/docs/manual/reference/operator/aggregation-pipeline/#std-label-aggregation-pipeline-operator-reference"
   ]
  },
  {
   "cell_type": "code",
   "execution_count": null,
   "id": "fddece0f-a5c1-42af-a424-6f4821b1280d",
   "metadata": {},
   "outputs": [],
   "source": [
    "pipeline = [\n",
    "    \n",
    "]\n",
    "top_hosts = list(db.listingsAndReviews.aggregate(pipeline))\n",
    "top_hosts"
   ]
  },
  {
   "cell_type": "markdown",
   "id": "993f445c-f9df-46a7-8d4f-ae7ee9605eba",
   "metadata": {},
   "source": [
    "### More pipeline stages\n",
    "\n",
    "6. `$lookup`: Performs a left outer join to another collection in the same database to filter in documents from the \"joined\" collection for processing.\n",
    "- Syntax:\n",
    "```\n",
    "{\n",
    "   $lookup:\n",
    "     {\n",
    "       from: <collection to join>,\n",
    "       localField: <field from the input documents>,\n",
    "       foreignField: <field from the documents of the \"from\" collection>,\n",
    "       as: <output array field>\n",
    "     }\n",
    "}\n",
    "```\n",
    "\n",
    "7. `$unwind`: Deconstructs an array field from the input documents to output a document for each element. Each output document replaces the array with an element value. For each input document, outputs n documents where n is the number of array elements and can be zero for an empty array.\n",
    "- Syntax: `{ $unwind: <field path> }`"
   ]
  },
  {
   "cell_type": "markdown",
   "id": "ae4db76e-b411-4dc1-87c2-c9cb1017db5a",
   "metadata": {},
   "source": [
    "#### Q: List all customers along with their transactions. For each customer, include their account name and the details of each transaction they made. If a customer has no transactions, still include them in the results."
   ]
  },
  {
   "cell_type": "code",
   "execution_count": null,
   "id": "1ce453cd-d5e4-472a-ac37-29e522748113",
   "metadata": {},
   "outputs": [],
   "source": [
    "db = client.sample_analytics"
   ]
  },
  {
   "cell_type": "code",
   "execution_count": null,
   "id": "5aa9c379-bb8d-4cb9-aa08-a7b86a26ed05",
   "metadata": {},
   "outputs": [],
   "source": [
    "db.accounts.find_one()"
   ]
  },
  {
   "cell_type": "code",
   "execution_count": null,
   "id": "53da3286-ae92-40ab-b4ba-b5c4cdc04320",
   "metadata": {},
   "outputs": [],
   "source": [
    "db.customers.find_one()"
   ]
  },
  {
   "cell_type": "markdown",
   "id": "caa7b1dd-70bf-417f-8e15-640c9ff8245d",
   "metadata": {},
   "source": [
    "#### Q: List all accounts with customer names and corresponding limits."
   ]
  },
  {
   "cell_type": "code",
   "execution_count": null,
   "id": "25d49fa4-e2d3-42f7-91d7-d925e43f00d6",
   "metadata": {},
   "outputs": [],
   "source": [
    "pipeline = [\n",
    "\n",
    "]\n",
    "\n",
    "merged_results = list(db.customers.aggregate(pipeline))\n",
    "\n",
    "first = merged_results[0]\n",
    "print(f\"Customer Name: {first['name']}, Account ID: {first['account_details']['account_id']}, Limit: {first['account_details']['limit']}\")"
   ]
  },
  {
   "cell_type": "markdown",
   "id": "57112f4f-27c0-4776-8ee2-d9a69256527e",
   "metadata": {},
   "source": [
    "### More pipeline stages\n",
    "\n",
    "8. `$addFields`: Adds new fields to documents. Similar to `$project`, `$addFields` reshapes each document in the stream; specifically, by adding new fields to output documents that contain both the existing fields from the input documents and the newly added fields."
   ]
  },
  {
   "cell_type": "markdown",
   "id": "1bd01212-8d10-4602-85bf-b145fe33289f",
   "metadata": {},
   "source": [
    "#### Q: Add a field called \"account_status\" with value \"High\" if account limit is greater than 9000 and \"Low\" otherwise."
   ]
  },
  {
   "cell_type": "code",
   "execution_count": null,
   "id": "20ab6593-925f-47fb-8b52-066cf0140e3b",
   "metadata": {},
   "outputs": [],
   "source": [
    "pipeline = [\n",
    "\n",
    "]\n",
    "\n",
    "# Execute the aggregation query\n",
    "accounts = list(db.accounts.aggregate(pipeline))\n",
    "accounts[:2]"
   ]
  },
  {
   "cell_type": "markdown",
   "id": "297bf8d7-d7ab-49e0-9b68-487b5f5375e7",
   "metadata": {},
   "source": [
    "### More about array methods\n",
    "\n",
    "- `$addToSet`: The `$addToSet` operator adds a value to an array unless the value is already present, in which case $addToSet does nothing to that array."
   ]
  },
  {
   "cell_type": "markdown",
   "id": "9dd124c2-1bfd-4a77-aa60-d206e70b27c1",
   "metadata": {},
   "source": [
    "### Geospatial Query Operators\n",
    "\n",
    "- documentation: https://www.mongodb.com/docs/manual/reference/operator/query-geospatial/\n",
    "\n",
    "### Query selectors\n",
    "\n",
    "- `$geoIntersects`: Selects geometries that intersect with a GeoJSON geometry. The 2dsphere index supports `$geoIntersects`.\n",
    "- `$geoWithin`: Selects geometries within a bounding GeoJSON geometry. The 2dsphere and 2d indexes support `$geoWithin`.\n",
    "- `$near`: Returns geospatial objects in proximity to a point. Requires a geospatial index. The 2dsphere and 2d indexes support `$near`.\n",
    "- `$nearSphere`:Returns geospatial objects in proximity to a point on a sphere. Requires a geospatial index. The 2dsphere and 2d indexes support `$nearSphere`.\n",
    "\n",
    "### Geometry Specifiers\n",
    "\n",
    "- `$geometry`: The `$geometry` operator specifies a GeoJSON geometry for use with the following geospatial query operators: `$geoWithin`, `$geoIntersects`, `$near`, and `$nearSphere`. `$geometry` uses EPSG:4326 as the default coordinate reference system (CRS).\n",
    "- `$maxDistance`: Specifies a maximum distance to limit the results of $near and $nearSphere queries. The 2dsphere and 2d indexes support $maxDistance."
   ]
  },
  {
   "cell_type": "code",
   "execution_count": null,
   "id": "9e01e0d9-38b0-44fb-943c-a49c3c024395",
   "metadata": {},
   "outputs": [],
   "source": []
  }
 ],
 "metadata": {
  "kernelspec": {
   "display_name": "Python 3 (ipykernel)",
   "language": "python",
   "name": "python3"
  },
  "language_info": {
   "codemirror_mode": {
    "name": "ipython",
    "version": 3
   },
   "file_extension": ".py",
   "mimetype": "text/x-python",
   "name": "python",
   "nbconvert_exporter": "python",
   "pygments_lexer": "ipython3",
   "version": "3.10.12"
  }
 },
 "nbformat": 4,
 "nbformat_minor": 5
}
