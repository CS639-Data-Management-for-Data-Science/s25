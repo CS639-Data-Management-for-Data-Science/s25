{
 "cells": [
  {
   "cell_type": "markdown",
   "id": "76b7259f-7636-4a5f-bc1d-14e53c20bc7b",
   "metadata": {},
   "source": [
    "## MongoDB 1"
   ]
  },
  {
   "cell_type": "code",
   "execution_count": null,
   "id": "ecf47526-0bd9-498e-aa07-b9b847c01746",
   "metadata": {},
   "outputs": [],
   "source": [
    "# import statements\n",
    "import os\n",
    "from pymongo import MongoClient\n",
    "import bson\n",
    "from datetime import datetime"
   ]
  },
  {
   "cell_type": "markdown",
   "id": "b2dc037e-0ff1-4924-9186-6efbbf3dc6d7",
   "metadata": {},
   "source": [
    "### Connection establishment"
   ]
  },
  {
   "cell_type": "code",
   "execution_count": null,
   "id": "397cd947-3033-4fa1-b738-264ee76eeaef",
   "metadata": {},
   "outputs": [],
   "source": [
    "client = MongoClient('mongodb://localhost:27017/')"
   ]
  },
  {
   "cell_type": "code",
   "execution_count": null,
   "id": "175936ba-d1d5-4b9a-8dc1-17f379ac3c78",
   "metadata": {},
   "outputs": [],
   "source": [
    "client.server_info()"
   ]
  },
  {
   "cell_type": "markdown",
   "id": "62b35eeb-6a07-451b-b65d-fab184197b51",
   "metadata": {},
   "source": [
    "### MongoDB sample datasets\n",
    "\n",
    "- Source: https://www.mongodb.com/docs/atlas/sample-data/sample-training/"
   ]
  },
  {
   "cell_type": "markdown",
   "id": "5f590522-63e1-4258-acab-0d67b9c92169",
   "metadata": {},
   "source": [
    "### Lazy database creation\n",
    "\n",
    "- creation of a reference to the database\n",
    "- actual creation doesn't happen until you perform a write operation like inserting a document\n",
    "- the database does not physically exist on the server until then"
   ]
  },
  {
   "cell_type": "code",
   "execution_count": null,
   "id": "156ff6b6-a684-4e14-862c-7962cdee01fc",
   "metadata": {},
   "outputs": [],
   "source": [
    "db = client.sample_training"
   ]
  },
  {
   "cell_type": "code",
   "execution_count": null,
   "id": "bb4e1910-f907-4367-9451-6cca094c5768",
   "metadata": {},
   "outputs": [],
   "source": [
    "# directory where the JSON files are stored\n",
    "json_dir = 'sample_training'\n",
    "json_files = [f for f in os.listdir(json_dir) if f.endswith(\".json\")]\n",
    "collections = [f.replace(\".json\", \"\") for f in json_files]\n",
    "collections"
   ]
  },
  {
   "cell_type": "code",
   "execution_count": null,
   "id": "f4e512c4-2a03-4c9e-8eac-678ff0d2e376",
   "metadata": {},
   "outputs": [],
   "source": [
    "for idx, json_file in enumerate(json_files):\n",
    "    with open(os.path.join(json_dir, json_file), 'r') as f:\n",
    "        for line in f:\n",
    "            data = bson.json_util.loads(line.strip())\n",
    "            db[collections[idx]].insert_one(data)\n",
    "        \n",
    "        print(f\"Loaded {json_file} into the '{collections[idx]}' collection.\")"
   ]
  },
  {
   "cell_type": "markdown",
   "id": "86003a68-6f88-4da5-be0f-a1759261178e",
   "metadata": {},
   "source": [
    "### Verify collection names"
   ]
  },
  {
   "cell_type": "code",
   "execution_count": null,
   "id": "564a58ba-65d3-4d35-8862-e46870e2434a",
   "metadata": {},
   "outputs": [],
   "source": [
    "db.list_collection_names()"
   ]
  },
  {
   "cell_type": "markdown",
   "id": "e12a51fa-d2fa-4b39-9ee8-3482b6532e48",
   "metadata": {},
   "source": [
    "### MongoDB API: Querying documents\n",
    "\n",
    "#### Select all documents in a collection `db.collection.find(query, projection, options)`\n",
    "\n",
    "- retrieves all documents from a collection\n",
    "- equivalent to `SELECT * FROM <TABLE>` SQL query\n",
    "- creates a cursor for a query that can be used to iterate over results from MongoDB\n",
    "- `query`:\n",
    "    - selection filter\n",
    "    - `{ <field1>: <value>, <field2>: {conditions} ... }`\n",
    "- `projection`:\n",
    "    - determines which fields are returned in the matching documents\n",
    "    - `{ <field1>: <value>, <field2>: <value> ... }`\n",
    "- documentation: https://www.mongodb.com/docs/manual/reference/method/db.collection.find/ "
   ]
  },
  {
   "cell_type": "markdown",
   "id": "ef439236-c142-441a-849c-19a8e1bb9e8b",
   "metadata": {},
   "source": [
    "Let's explore `trips` collection."
   ]
  },
  {
   "cell_type": "code",
   "execution_count": null,
   "id": "78467868-5b71-45ac-a436-7533d3f723b7",
   "metadata": {},
   "outputs": [],
   "source": [
    "cursor = db.trips.find({})\n",
    "cursor"
   ]
  },
  {
   "cell_type": "code",
   "execution_count": null,
   "id": "c7cbe3a2-dfda-4660-b681-682abd5bf23c",
   "metadata": {},
   "outputs": [],
   "source": [
    "cursor = db.trips.find({})\n",
    "trips = list(cursor)\n",
    "trips[:3]"
   ]
  },
  {
   "cell_type": "markdown",
   "id": "ce9c77b0-2e75-46e7-a8d7-e92ced49a64e",
   "metadata": {},
   "source": [
    "Let's explore `inspections` collection."
   ]
  },
  {
   "cell_type": "code",
   "execution_count": null,
   "id": "5e59a644-f765-4ddf-8b0e-0707b895c561",
   "metadata": {},
   "outputs": [],
   "source": [
    "cursor = db.inspections.find({})\n",
    "trips = list(cursor)\n",
    "trips[:3]"
   ]
  },
  {
   "cell_type": "markdown",
   "id": "d979b96b-b1e4-4f5f-8483-8d2d826966fa",
   "metadata": {},
   "source": [
    "#### Q1: Find all trips taken by passengers born in 1988.\n",
    "\n",
    "- equivalent to `SELECT * FROM <TABLE> WHERE <SOME COLUMN> = <SOME VALUE>` SQL query"
   ]
  },
  {
   "cell_type": "code",
   "execution_count": null,
   "id": "3fcd65dd-4105-4a2f-bd4c-bfb5fc9efdc0",
   "metadata": {},
   "outputs": [],
   "source": [
    "trips = db.trips.find({\n",
    "    'birth year': 1988\n",
    "})\n",
    "trips = list(trips)\n",
    "trips[:3]"
   ]
  },
  {
   "cell_type": "markdown",
   "id": "9ea9816c-4a50-4dcc-b086-7b863c382f85",
   "metadata": {},
   "source": [
    "#### Q2: Find all inspection sectors.\n",
    "\n",
    "- equivalent to `SELECT <SPECIFIC COLUMN> FROM <TABLE>` SQL query"
   ]
  },
  {
   "cell_type": "code",
   "execution_count": null,
   "id": "83e368ec-48a0-42cd-b395-08aadc2bbe25",
   "metadata": {},
   "outputs": [],
   "source": [
    "cursor = db.inspections.find({}, {\"sector\": 1})\n",
    "inspections = list(cursor)\n",
    "inspections[:5]"
   ]
  },
  {
   "cell_type": "markdown",
   "id": "d1cd4115-95ea-42ac-95cf-7cb55cc46c44",
   "metadata": {},
   "source": [
    "What if you don't want your output to be cluttered with \"_id\" field values?"
   ]
  },
  {
   "cell_type": "code",
   "execution_count": null,
   "id": "9da090cb-9c91-4b37-a919-9f4e39f8a3ed",
   "metadata": {},
   "outputs": [],
   "source": [
    "cursor = db.inspections.find({}, {\n",
    "    \"_id\": 0, \n",
    "    \"sector\": 1\n",
    "})\n",
    "inspections = list(cursor)\n",
    "inspections[:10]"
   ]
  },
  {
   "cell_type": "markdown",
   "id": "6ec10fbe-e974-4bbc-9e6e-89de2413bef0",
   "metadata": {},
   "source": [
    "#### Q3: Find all inspections that occurred in \"Home Improvement Contractor - 100\" and \"Home Improvement Salesperson - 101\" sectors.\n",
    "\n",
    "- equivalent to `SELECT * FROM <TABLE NAME> WHERE <SOME COLUMN> in (<VALUE1>, <VALUE2>)`"
   ]
  },
  {
   "cell_type": "code",
   "execution_count": null,
   "id": "6b0ecce2-bb56-4646-ac62-51d4e7431044",
   "metadata": {},
   "outputs": [],
   "source": [
    "cursor = db.inspections.find({\n",
    "    \"sector\": {\n",
    "        \"$in\": [\"Home Improvement Contractor - 100\", \n",
    "                \"Home Improvement Salesperson - 101\"]\n",
    "    }\n",
    "})\n",
    "home_inspections = list(cursor)\n",
    "home_inspections[:3]"
   ]
  },
  {
   "cell_type": "markdown",
   "id": "b9a0e46f-4334-4b50-87fa-a828d5430328",
   "metadata": {},
   "source": [
    "#### Q4: Find all trips that have duration between 200 and 4000 taken by gender 1.\n",
    "\n",
    "- equivalent to:\n",
    "```\n",
    "    SELECT * FROM <TABLE NAME>\n",
    "    WHERE <SOME COLUMN1> = <SOME VALUE> AND\n",
    "        <SOME COLUMN 2> >= <SOME VALUE1> AND <SOME COLUMN2> <= <SOME VALUE 2>\n",
    "```"
   ]
  },
  {
   "cell_type": "code",
   "execution_count": null,
   "id": "daf2ab59-347e-4443-8318-5ce097af750d",
   "metadata": {},
   "outputs": [],
   "source": [
    "cursor = db.trips.find({\n",
    "    \"tripduration\": {\"$gte\": 200, \"$lte\": 4000}, \n",
    "    \"gender\": 1\n",
    "})\n",
    "trips = list(cursor)\n",
    "trips[:5]"
   ]
  },
  {
   "cell_type": "markdown",
   "id": "ebf92604-058b-486e-9152-52269b7a37f2",
   "metadata": {},
   "source": [
    "#### Q5: Find all inspections that either occurred in Manhattan or Brooklyn.\n",
    "\n",
    "- equivalent to:\n",
    "```\n",
    "    SELECT * FROM <TABLE NAME>\n",
    "    WHERE <SOME COLUMN1> = <SOME VALUE> OR\n",
    "        <SOME COLUMN 2> >= <SOME VALUE1> AND <SOME COLUMN2> <= <SOME VALUE 2>\n",
    "```"
   ]
  },
  {
   "cell_type": "code",
   "execution_count": null,
   "id": "9502e172-1972-4780-b2ed-46719b275dd5",
   "metadata": {},
   "outputs": [],
   "source": [
    "cursor = db.inspections.find({\n",
    "    \"$or\": [\n",
    "        { \"address.city\": \"MANHTTAN\" },\n",
    "        { \"address.city\": \"BROOKLYN\" }\n",
    "    ]\n",
    "})\n",
    "\n",
    "ny_la_inspections = list(cursor)\n",
    "ny_la_inspections"
   ]
  },
  {
   "cell_type": "markdown",
   "id": "582ccc10-1e68-4bce-9f61-5e461c366744",
   "metadata": {},
   "source": [
    "### Mongodb comparison operators\n",
    "\n",
    "- `$eq`: Matches values that are equal to a specified value.\n",
    "- `$gt`: Matches values that are greater than a specified value.\n",
    "- `$gte`: Matches values that are greater than or equal to a specified value.\n",
    "- `$in`: Matches any of the values specified in an array.\n",
    "- `$lt`: Matches values that are less than a specified value.\n",
    "- `$lte`: Matches values that are less than or equal to a specified value.\n",
    "- `$ne`: Matches all values that are not equal to a specified value.\n",
    "- `$nin`: Matches none of the values specified in an array.\n",
    "\n",
    "Documentation: https://www.mongodb.com/docs/manual/reference/operator/query-comparison/"
   ]
  },
  {
   "cell_type": "markdown",
   "id": "a57e7505-9f09-4f8b-9fa7-bf074c0fe679",
   "metadata": {},
   "source": [
    "### `limit()` method\n",
    "\n",
    "- specify the maximum number of documents the cursor will return\n",
    "- documentation: https://www.mongodb.com/docs/manual/reference/method/cursor.limit/#mongodb-method-cursor.limit\n",
    "\n",
    "#### Q6: Find the first five trips.\n",
    "\n",
    "- equivalent to: `SELECT * FROM <TABLE NAME> LIMIT <N>`"
   ]
  },
  {
   "cell_type": "code",
   "execution_count": null,
   "id": "5672abf5-f436-448b-8659-2f7fafdd22b7",
   "metadata": {},
   "outputs": [],
   "source": [
    "five_trips = list(db.trips.find().limit(5))\n",
    "five_trips"
   ]
  },
  {
   "cell_type": "markdown",
   "id": "48594c64-5c3e-4edf-bdcd-7baeff395fa4",
   "metadata": {},
   "source": [
    "### Sorting using `sort` method\n",
    "\n",
    "### `sort()` method\n",
    "\n",
    "- Specify in the sort parameter the field or fields to sort by and a value of 1 or -1 to specify an ascending or descending sort respectively.\n",
    "- documentation: https://www.mongodb.com/docs/manual/reference/method/cursor.sort/#mongodb-method-cursor.sort\n",
    "\n",
    "### `$regex`\n",
    "- documentation: https://www.mongodb.com/docs/manual/reference/operator/query/regex/\n",
    "\n",
    "#### Q7: Find all inspections that occurred in 2015 and sort them by ascending order of `id`.\n",
    "\n",
    "- equivalent to: `SELECT * FROM <TABLE NAME> WHERE <SOME COL> LIKE <SOME SEARCH TERM> ORDER BY <SOME COL> ASC`"
   ]
  },
  {
   "cell_type": "code",
   "execution_count": null,
   "id": "3148f809-7ca2-4589-ba2d-f7d9c3d45f86",
   "metadata": {},
   "outputs": [],
   "source": [
    "inspections_2015 = db.inspections.find({\n",
    "    \"date\": {\"$regex\": \"2015\"}\n",
    "}).sort(\"id\", 1)  # 1 for ascending order\n",
    "list(inspections_2015)"
   ]
  },
  {
   "cell_type": "markdown",
   "id": "6e30ea59-f76a-4647-8905-0a00dfce282c",
   "metadata": {},
   "source": [
    "Sort the same using descending order."
   ]
  },
  {
   "cell_type": "code",
   "execution_count": null,
   "id": "86e42e7f-1297-4d16-88e3-85a555deca4a",
   "metadata": {},
   "outputs": [],
   "source": [
    "inspections_2015 = db.inspections.find({\n",
    "    \"date\": {\"$regex\": \"2015\"}\n",
    "}).sort(\"id\", -1)  # 1 for ascending order\n",
    "list(inspections_2015)"
   ]
  },
  {
   "cell_type": "markdown",
   "id": "8d6c89c2-60d1-4384-90aa-86f6b0f613eb",
   "metadata": {},
   "source": [
    "#### Q8: Find all inspections on all incorporated businesses."
   ]
  },
  {
   "cell_type": "code",
   "execution_count": null,
   "id": "91edc325-7151-46ea-89a0-a12ca755823b",
   "metadata": {},
   "outputs": [],
   "source": [
    "inc_inspections = db.inspections.find({\n",
    "    \"business_name\": {\"$regex\": \"INC$|INC\\\\.$\"}\n",
    "})\n",
    "list(inc_inspections)"
   ]
  },
  {
   "cell_type": "markdown",
   "id": "4f8d877d-c450-45c0-8103-7f6b4bec26b2",
   "metadata": {},
   "source": [
    "### `findOne(query, projection, options)`\n",
    "\n",
    "- Fetches the first document that matches the query\n",
    "- documentation: https://www.mongodb.com/docs/manual/reference/method/db.collection.findOne/\n",
    "- **IMPORTANT**: In Python API, you must replace camelcase with `_`. That is, method name is `find_one`.\n",
    "\n",
    "#### Q9: Find the first trip."
   ]
  },
  {
   "cell_type": "code",
   "execution_count": null,
   "id": "2470ac16-a9d4-4778-bc8e-a79da4d1546c",
   "metadata": {},
   "outputs": [],
   "source": [
    "trip = db.trips.find_one()\n",
    "trip"
   ]
  },
  {
   "cell_type": "markdown",
   "id": "e2246483-632b-4716-b6f8-c059eb592c23",
   "metadata": {},
   "source": [
    "### MongoDB shell `mongosh`\n",
    "\n",
    "```\n",
    "docker exec -it <container name> mongosh\n",
    "show dbs\n",
    "use sample_training\n",
    "show collections\n",
    "db.trips.find().limit(5).pretty()\n",
    "```"
   ]
  },
  {
   "cell_type": "markdown",
   "id": "0eb1c126-8ec5-4092-9c73-5d3492e01722",
   "metadata": {},
   "source": [
    "### `db.collection.countDocuments(query, options)`\n",
    "\n",
    "- Returns an integer for the number of documents that match the query of the collection or view.\n",
    "- documentation: https://www.mongodb.com/docs/manual/reference/method/db.collection.countDocuments/\n",
    "\n",
    "#### Q10: How many trips are in the trips collection?"
   ]
  },
  {
   "cell_type": "code",
   "execution_count": null,
   "id": "2f591a6b-3851-4ea9-9c20-346a4d22e017",
   "metadata": {},
   "outputs": [],
   "source": [
    "db.trips.count_documents({})"
   ]
  },
  {
   "cell_type": "markdown",
   "id": "b3e118d6-f3dd-445c-8213-230862af49a3",
   "metadata": {},
   "source": [
    "#### Q11: How many trips were taken by people born after the year 1988?"
   ]
  },
  {
   "cell_type": "code",
   "execution_count": null,
   "id": "31b77154-9196-4b76-8e17-0076aa455eeb",
   "metadata": {},
   "outputs": [],
   "source": [
    "db.trips.count_documents({ \"birth year\": { \"$gt\": 1988 } })"
   ]
  }
 ],
 "metadata": {
  "kernelspec": {
   "display_name": "Python 3 (ipykernel)",
   "language": "python",
   "name": "python3"
  },
  "language_info": {
   "codemirror_mode": {
    "name": "ipython",
    "version": 3
   },
   "file_extension": ".py",
   "mimetype": "text/x-python",
   "name": "python",
   "nbconvert_exporter": "python",
   "pygments_lexer": "ipython3",
   "version": "3.10.12"
  }
 },
 "nbformat": 4,
 "nbformat_minor": 5
}
