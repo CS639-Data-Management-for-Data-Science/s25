{
 "cells": [
  {
   "cell_type": "code",
   "execution_count": null,
   "id": "dfbb7190-37fc-4f77-bfad-ce72237d92bd",
   "metadata": {},
   "outputs": [],
   "source": [
    "import pandas as pd\n",
    "import numpy as np\n",
    "import matplotlib.pyplot as plt\n",
    "import os"
   ]
  },
  {
   "cell_type": "markdown",
   "id": "32ab9956-1d5b-4a31-809b-7a21ea86160b",
   "metadata": {},
   "source": [
    "### Retailrocket recommender system dataset\n",
    "\n",
    "Source: https://www.kaggle.com/retailrocket/ecommerce-dataset"
   ]
  },
  {
   "cell_type": "markdown",
   "id": "35f6d898-108e-46e4-8ea2-0628fc5375ea",
   "metadata": {},
   "source": [
    "Load the dataset files."
   ]
  },
  {
   "cell_type": "code",
   "execution_count": null,
   "id": "bcca2cd5-7f27-485d-80b7-68d1e24f4c3f",
   "metadata": {},
   "outputs": [],
   "source": [
    "events = \n",
    "item_properties = pd.read_csv(os.path.join('data', 'item_properties_part1.csv'))\n",
    "category_tree = pd.read_csv(os.path.join('data', 'category_tree.csv'))"
   ]
  },
  {
   "cell_type": "code",
   "execution_count": null,
   "id": "01fd0ab3-0f87-4cae-ae6a-28cf289498f1",
   "metadata": {},
   "outputs": [],
   "source": [
    "events"
   ]
  },
  {
   "cell_type": "code",
   "execution_count": null,
   "id": "8f3deb63-562e-43cb-a981-aa74bf7405d2",
   "metadata": {},
   "outputs": [],
   "source": [
    "item_properties"
   ]
  },
  {
   "cell_type": "code",
   "execution_count": null,
   "id": "827fffa1-1b9d-4fb8-bb33-4eee8fc7302b",
   "metadata": {},
   "outputs": [],
   "source": [
    "category_tree"
   ]
  },
  {
   "cell_type": "markdown",
   "id": "d247313f-9bcf-4acb-8c3d-ae91f8763e6f",
   "metadata": {},
   "source": [
    "## Exploratory Data Analysis (EDA)\n",
    "\n",
    "EDA is about understanding the data and forming hypotheses about it. \n",
    "\n",
    "- Visualizing Data: Histograms, scatter plots, box plots, etc., to understand distributions and relationships.\n",
    "- Summary Statistics: Calculating mean, median, mode, standard deviation, and correlation to gain insights into the dataset.\n",
    "- Detecting Outliers: Identifying values that deviate significantly from the rest of the data.\n",
    "- Assessing Data Types and Structure: Checking data types, unique values, and identifying missing values."
   ]
  },
  {
   "cell_type": "markdown",
   "id": "147aefbf-6d7a-4d02-99b4-17d9fe30da97",
   "metadata": {},
   "source": [
    "#### Q1: Convert timestamp into corresponding date."
   ]
  },
  {
   "cell_type": "code",
   "execution_count": null,
   "id": "004d909b-d7fe-44dc-8405-7aa29fbec036",
   "metadata": {},
   "outputs": [],
   "source": [
    "# Convert timestamp to datetime (milliseconds to seconds)\n"
   ]
  },
  {
   "cell_type": "code",
   "execution_count": null,
   "id": "8f2ccdb9-a11c-4069-8855-7d06f30bec55",
   "metadata": {},
   "outputs": [],
   "source": []
  },
  {
   "cell_type": "markdown",
   "id": "bc85172a-2a44-47ac-88c6-5edd3c2949a5",
   "metadata": {},
   "source": [
    "#### Q2: Compute total count of each event type (`views`, `addtocart`, `transaction`) per item per day."
   ]
  },
  {
   "cell_type": "code",
   "execution_count": null,
   "id": "76a669c4-8400-4955-91fb-24ae345a3370",
   "metadata": {},
   "outputs": [],
   "source": []
  },
  {
   "cell_type": "code",
   "execution_count": null,
   "id": "4aea8fc8-69ca-4b1d-a3d9-fe57a2537505",
   "metadata": {},
   "outputs": [],
   "source": []
  },
  {
   "cell_type": "code",
   "execution_count": null,
   "id": "8782bbbd-5b63-45a4-9dff-0c24ba4a7203",
   "metadata": {},
   "outputs": [],
   "source": []
  },
  {
   "cell_type": "markdown",
   "id": "84ec2f34-f9fc-4e5a-bff2-82bd372830f6",
   "metadata": {},
   "source": [
    "#### Q3: Compute top 10 items with the highest number of `view` events."
   ]
  },
  {
   "cell_type": "code",
   "execution_count": null,
   "id": "1fa1dd5a-b748-4cc2-908d-b22299beec5c",
   "metadata": {},
   "outputs": [],
   "source": []
  },
  {
   "cell_type": "code",
   "execution_count": null,
   "id": "7fd1fa49-25de-476b-bfba-7fd94a83b1d9",
   "metadata": {},
   "outputs": [],
   "source": []
  },
  {
   "cell_type": "markdown",
   "id": "9eb44c1a-5290-4d5f-adce-c95cb602d570",
   "metadata": {},
   "source": [
    "#### Q4: What is the distribution of event types (view, transaction, etc.) in the events dataset?"
   ]
  },
  {
   "cell_type": "code",
   "execution_count": null,
   "id": "cdb9f9ef-1478-4805-838b-305a19b8f277",
   "metadata": {},
   "outputs": [],
   "source": []
  },
  {
   "cell_type": "markdown",
   "id": "c1ee88c2-0d10-4961-ba24-5d81e6479a09",
   "metadata": {},
   "source": [
    "#### Q5: How many different items are in the dataset?"
   ]
  },
  {
   "cell_type": "code",
   "execution_count": null,
   "id": "0940fd68-86b0-4e95-b370-2771e8576762",
   "metadata": {},
   "outputs": [],
   "source": []
  },
  {
   "cell_type": "markdown",
   "id": "d4ec7f50-75e2-4143-a15e-32980ef2bd8e",
   "metadata": {},
   "source": [
    "#### Q6: What is the average number of events per visitor?"
   ]
  },
  {
   "cell_type": "code",
   "execution_count": null,
   "id": "e4889241-1217-4142-be69-3e1df8a4d3c3",
   "metadata": {},
   "outputs": [],
   "source": []
  },
  {
   "cell_type": "markdown",
   "id": "688568dd-b76b-42f2-8703-31426d296305",
   "metadata": {},
   "source": [
    "#### Q7: How many unique transactions are in the dataset?"
   ]
  },
  {
   "cell_type": "code",
   "execution_count": null,
   "id": "b798978d-1591-4be5-af6d-6e9872528d0e",
   "metadata": {},
   "outputs": [],
   "source": []
  },
  {
   "cell_type": "markdown",
   "id": "d4360373-d38d-4daa-b142-839837f3b6ed",
   "metadata": {},
   "source": [
    "#### Q8: What is the distribution of transactions?"
   ]
  },
  {
   "cell_type": "code",
   "execution_count": null,
   "id": "1df04faa-7875-4275-83f7-142631c543c3",
   "metadata": {},
   "outputs": [],
   "source": []
  },
  {
   "cell_type": "markdown",
   "id": "efeecc7f-b5c4-4204-8c26-0e8d665913c3",
   "metadata": {},
   "source": [
    "#### Q9: How many events happen on average per day?"
   ]
  },
  {
   "cell_type": "code",
   "execution_count": null,
   "id": "5e52d353-e1d0-4c31-a2f7-d117bf7daeb8",
   "metadata": {},
   "outputs": [],
   "source": []
  },
  {
   "cell_type": "markdown",
   "id": "1d310082-90a3-4256-b0c5-f006a0e8282c",
   "metadata": {},
   "source": [
    "#### Q10: Left join `events` with `item_properties`."
   ]
  },
  {
   "cell_type": "code",
   "execution_count": null,
   "id": "b4c73737-de62-4a1a-8b07-3bad2af7e699",
   "metadata": {},
   "outputs": [],
   "source": []
  },
  {
   "cell_type": "markdown",
   "id": "af90dbac-976b-4af2-a754-83da7f48d1e1",
   "metadata": {},
   "source": [
    "#### Q11: Convert `parentid` column to `int32` type."
   ]
  },
  {
   "cell_type": "code",
   "execution_count": null,
   "id": "6152bc87-407a-46f7-90ab-2fd7251dc7e8",
   "metadata": {},
   "outputs": [],
   "source": [
    "category_tree"
   ]
  },
  {
   "cell_type": "code",
   "execution_count": null,
   "id": "c611e0bf-3ec2-4edb-bab6-ace49200fdb6",
   "metadata": {},
   "outputs": [],
   "source": [
    "category_tree_v2 = \n",
    "category_tree_v3 = \n",
    "category_tree_v4 = "
   ]
  }
 ],
 "metadata": {
  "kernelspec": {
   "display_name": "Python 3 (ipykernel)",
   "language": "python",
   "name": "python3"
  },
  "language_info": {
   "codemirror_mode": {
    "name": "ipython",
    "version": 3
   },
   "file_extension": ".py",
   "mimetype": "text/x-python",
   "name": "python",
   "nbconvert_exporter": "python",
   "pygments_lexer": "ipython3",
   "version": "3.10.12"
  }
 },
 "nbformat": 4,
 "nbformat_minor": 5
}
