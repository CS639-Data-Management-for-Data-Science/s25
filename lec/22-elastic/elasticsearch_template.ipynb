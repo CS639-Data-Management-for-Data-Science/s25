{
 "cells": [
  {
   "cell_type": "markdown",
   "id": "b9bff378-38b4-47fe-857d-1e2f1b52f3a1",
   "metadata": {},
   "source": [
    "# Elasticsearch"
   ]
  },
  {
   "cell_type": "code",
   "execution_count": null,
   "id": "f124a0ca-ea67-44c9-a651-189f2e838c50",
   "metadata": {},
   "outputs": [],
   "source": [
    "import os\n",
    "from elasticsearch import Elasticsearch, helpers, NotFoundError\n",
    "import json\n",
    "from datetime import datetime"
   ]
  },
  {
   "cell_type": "code",
   "execution_count": null,
   "id": "012cc7c4-d944-44d6-8e59-58fc25b4577b",
   "metadata": {},
   "outputs": [],
   "source": [
    "USER = \"elastic\"\n",
    "PWD = \"mXwp5dz4\"\n",
    "API_KEY = \"a1JVeVo1VUJBdUJsalpERXYwNXg6RnpOeEZvUnRTTC0xZVJDQ0ZacHhRdw==\""
   ]
  },
  {
   "cell_type": "code",
   "execution_count": null,
   "id": "112640aa-1a76-40e0-961e-dc53ae61cf14",
   "metadata": {},
   "outputs": [],
   "source": [
    "client = Elasticsearch(\"http://localhost:9200\", \\\n",
    "                      basic_auth=(USER, PWD))"
   ]
  },
  {
   "cell_type": "code",
   "execution_count": null,
   "id": "b39352a9-d558-421b-a072-204fb28eaf19",
   "metadata": {},
   "outputs": [],
   "source": [
    "client.info()"
   ]
  },
  {
   "cell_type": "code",
   "execution_count": null,
   "id": "913adb39-a450-44e8-875b-3b3bd2524d86",
   "metadata": {},
   "outputs": [],
   "source": [
    "nyc_index = \"nyc_restaurants\"\n",
    "nyc_wiki_index = \"nyc_restaurants_wiki\""
   ]
  },
  {
   "cell_type": "markdown",
   "id": "5e570d38-5db8-498f-b05c-4918f947b8c4",
   "metadata": {},
   "source": [
    "### New York City Restaurants JSON dataset"
   ]
  },
  {
   "cell_type": "markdown",
   "id": "5b3aabe8-ecc6-45fd-abf8-e500036e0959",
   "metadata": {},
   "source": [
    "### Boolean operators\n",
    "\n",
    "- `must` operator: AND\n",
    "- `should` operator: OR\n",
    "- `must_not` operator: NOT"
   ]
  },
  {
   "cell_type": "markdown",
   "id": "1c291788-561a-4be7-ad34-eaeec67292d9",
   "metadata": {},
   "source": [
    "#### Q1: Find all Italian restaurants that were inspected in Manhattan."
   ]
  },
  {
   "cell_type": "code",
   "execution_count": null,
   "id": "3e6d8399-dbfa-45a8-a43e-18e87be28cc3",
   "metadata": {},
   "outputs": [],
   "source": [
    "query = {\n",
    "    \"query\": {\n",
    "        \"bool\": {\n",
    "            \"must\": [\n",
    "                {\"match\": {\"CUISINE DESCRIPTION\": \"Italian\"}},\n",
    "                {\"match\": {\"BORO\": \"Manhattan\"}}\n",
    "            ]\n",
    "        }\n",
    "    }\n",
    "}\n",
    "\n",
    "response = client.search(index=nyc_index, body=query)\n",
    "print(response['hits']['total']['value'])\n",
    "for hit in response['hits']['hits']:\n",
    "    print(hit['_source'])"
   ]
  },
  {
   "cell_type": "markdown",
   "id": "46536850-943e-4eb5-89cc-93cddfd685ad",
   "metadata": {},
   "source": [
    "#### Q2: Find all inspected restaurants that have Italian or Mexican in their \"CUISINE DESCRIPTION\"."
   ]
  },
  {
   "cell_type": "code",
   "execution_count": null,
   "id": "66378ed5-167a-460f-9bd5-767754c0a5d4",
   "metadata": {},
   "outputs": [],
   "source": [
    "query = {\n",
    "    \n",
    "}\n",
    "\n",
    "response = client.search(index=nyc_index, body=query)\n",
    "print(response['hits']['total']['value'])\n",
    "for hit in response['hits']['hits']:\n",
    "    print(hit['_source'])"
   ]
  },
  {
   "cell_type": "markdown",
   "id": "4d6c3776-9c36-4b70-a2ed-1dc8fbb5fffc",
   "metadata": {},
   "source": [
    "#### Q3: Find all inspected restaurants that are not in Bronx."
   ]
  },
  {
   "cell_type": "code",
   "execution_count": null,
   "id": "eca8515a-2151-4d3d-b1ef-231a484b079e",
   "metadata": {},
   "outputs": [],
   "source": [
    "query = {\n",
    "    \n",
    "}\n",
    "\n",
    "response = client.search(index=nyc_index, body=query)\n",
    "print(response['hits']['total']['value'])\n",
    "for hit in response['hits']['hits']:\n",
    "    print(hit['_source'])"
   ]
  },
  {
   "cell_type": "markdown",
   "id": "886fa56e-a636-4a63-ac16-26aa677b388a",
   "metadata": {},
   "source": [
    "#### Q4: Find all inspected restaurants that have Latin and American in their \"CUISINE DESCRIPTION\"."
   ]
  },
  {
   "cell_type": "code",
   "execution_count": null,
   "id": "e6da4200-8dc0-42e9-b48a-a9e8f0cdf7e7",
   "metadata": {},
   "outputs": [],
   "source": [
    "query = {\n",
    "    \n",
    "}\n",
    "\n",
    "response = client.search(index=nyc_index, body=query)\n",
    "print(response['hits']['total']['value'])\n",
    "for hit in response['hits']['hits']:\n",
    "    print(hit['_source']['DBA'], hit['_source']['CUISINE DESCRIPTION'])"
   ]
  },
  {
   "cell_type": "code",
   "execution_count": null,
   "id": "3955b8a8-9091-4d3f-96b8-07def25a95d4",
   "metadata": {},
   "outputs": [],
   "source": [
    "query = {\n",
    "    \"query\": {\n",
    "        \"match_phrase\": {\n",
    "            \"CUISINE DESCRIPTION\": \"Latin American\"\n",
    "        }\n",
    "    },\n",
    "    \"size\": 200\n",
    "}\n",
    "\n",
    "response = client.search(index=nyc_index, body=query)\n",
    "print(response['hits']['total']['value'])\n",
    "for hit in response['hits']['hits']:\n",
    "    print(hit['_source']['DBA'], hit['_source']['CUISINE DESCRIPTION'])"
   ]
  },
  {
   "cell_type": "markdown",
   "id": "8fd33b5e-7805-49a6-98de-2e71c2513bc1",
   "metadata": {},
   "source": [
    "### Aggregations"
   ]
  },
  {
   "cell_type": "markdown",
   "id": "59cb9c3d-fb43-4615-a58b-b81bacc2acef",
   "metadata": {},
   "source": [
    "#### Q5: How many restaurants are listed in the dataset?"
   ]
  },
  {
   "cell_type": "code",
   "execution_count": null,
   "id": "c880f49f-5e4a-4ae4-bf41-8eae5044a180",
   "metadata": {},
   "outputs": [],
   "source": [
    "query = {\n",
    "    \n",
    "}\n",
    "\n",
    "response = client.search(index=nyc_index, body=query)\n",
    "total_count = response['aggregations']['total_restaurants']['value']\n",
    "print(f\"Total number of restaurants: {total_count}\")"
   ]
  },
  {
   "cell_type": "markdown",
   "id": "fad343a1-3083-4ea7-84e7-72e79eeaf1f9",
   "metadata": {},
   "source": [
    "#### Q6: Find the total score of all restaurant inspections in the dataset."
   ]
  },
  {
   "cell_type": "code",
   "execution_count": null,
   "id": "df4ff2de-c08b-4eb0-bcd6-cba0797d2a32",
   "metadata": {},
   "outputs": [],
   "source": [
    "query = {\n",
    "\n",
    "}\n",
    "\n",
    "response = client.search(index=nyc_index, body=query)\n",
    "print(response['aggregations']['total_score']['value'])"
   ]
  },
  {
   "cell_type": "markdown",
   "id": "6ad1d345-93db-4d68-8a0e-5f2555e84bab",
   "metadata": {},
   "source": [
    "#### Q7: What is the average score of restaurant inspections?"
   ]
  },
  {
   "cell_type": "code",
   "execution_count": null,
   "id": "7343c66b-215b-4c53-a12e-f53a5adacc9e",
   "metadata": {},
   "outputs": [],
   "source": [
    "query = {\n",
    "\n",
    "}\n",
    "\n",
    "response = client.search(index=nyc_index, body=query)\n",
    "print(response['aggregations']['average_score']['value'])"
   ]
  },
  {
   "cell_type": "markdown",
   "id": "14012e37-fa9b-4b10-84b1-30a7781a2fee",
   "metadata": {},
   "source": [
    "#### Q8: What is the minimum score of restaurant inspections?"
   ]
  },
  {
   "cell_type": "code",
   "execution_count": null,
   "id": "ae790da0-43d3-4e3c-9d44-eacebfc03f5c",
   "metadata": {},
   "outputs": [],
   "source": [
    "query = {\n",
    "\n",
    "}\n",
    "\n",
    "response = client.search(index=nyc_index, body=query)\n",
    "print(response['aggregations']['min_score']['value'])"
   ]
  },
  {
   "cell_type": "markdown",
   "id": "044896e2-3624-4802-b639-ca6b86f4e699",
   "metadata": {},
   "source": [
    "#### Q9: What is the maximum score of restaurant inspections?"
   ]
  },
  {
   "cell_type": "code",
   "execution_count": null,
   "id": "1e73d68f-d7e8-422a-830e-9ccef0735679",
   "metadata": {},
   "outputs": [],
   "source": [
    "query = {\n",
    "\n",
    "}\n",
    "\n",
    "response = client.search(index=nyc_index, body=query)\n",
    "print(response['aggregations']['max_score']['value'])"
   ]
  },
  {
   "cell_type": "markdown",
   "id": "9ad97ccf-8bbe-4f4a-b213-7645554c6ef5",
   "metadata": {},
   "source": [
    "#### Q10: What are the top 20 most common cuisine types among the inspected restaurants?"
   ]
  },
  {
   "cell_type": "code",
   "execution_count": null,
   "id": "5cd96de6-d2e5-4bc5-bb38-0622dd5aee4a",
   "metadata": {},
   "outputs": [],
   "source": [
    "query = {\n",
    "\n",
    "}\n",
    "\n",
    "response = client.search(index=nyc_index, body=query)\n",
    "for bucket in response['aggregations']['cuisine_count']['buckets']:\n",
    "    print(bucket['key'], \":\", bucket['doc_count'])"
   ]
  },
  {
   "cell_type": "markdown",
   "id": "498b23ba-d39a-4c2a-8e27-27790fa7ec92",
   "metadata": {},
   "source": [
    "#### Q11: How many restaurants fall into each inspection score range (intervals of 5)?"
   ]
  },
  {
   "cell_type": "code",
   "execution_count": null,
   "id": "b4f56369-71e2-4b16-93ef-b18d531f84a1",
   "metadata": {},
   "outputs": [],
   "source": [
    "query = {\n",
    "\n",
    "}\n",
    "\n",
    "response = client.search(index=nyc_index, body=query)\n",
    "for bucket in response['aggregations']['score_histogram']['buckets']:\n",
    "    print(bucket['key'], \":\", bucket['doc_count'])"
   ]
  },
  {
   "cell_type": "markdown",
   "id": "52c9388f-e9be-4119-8f97-c7eec0a468f0",
   "metadata": {},
   "source": [
    "#### Q12: How many unique cuisine types have been inspected?"
   ]
  },
  {
   "cell_type": "code",
   "execution_count": null,
   "id": "a4e8ed6e-b17c-4efe-afbc-015c4f1f9c0e",
   "metadata": {},
   "outputs": [],
   "source": [
    "query = {\n",
    "\n",
    "}\n",
    "\n",
    "response = client.search(index=nyc_index, body=query)\n",
    "print(response['aggregations']['unique_cuisines']['value'])"
   ]
  },
  {
   "cell_type": "markdown",
   "id": "06d461e3-a4ba-4f54-932a-0dde3419d65e",
   "metadata": {},
   "source": [
    "### Wikidump dataset"
   ]
  },
  {
   "cell_type": "markdown",
   "id": "3581d7ea-179e-4de6-bd43-0d87cbef7a9d",
   "metadata": {},
   "source": [
    "#### Q13: Find all wikidump documents that mention \"India\"."
   ]
  },
  {
   "cell_type": "code",
   "execution_count": null,
   "id": "08fcb29b-c046-4449-aab4-21db9c76997c",
   "metadata": {},
   "outputs": [],
   "source": [
    "query = {\n",
    "    \"query\": {\n",
    "        \"match\": {\n",
    "            \"wiki\": \"India\"\n",
    "            }\n",
    "    },\n",
    "    \"_source\": [\"wiki\"],\n",
    "    \"size\": 1000\n",
    "}\n",
    "\n",
    "response = client.search(index=???, body=query)\n",
    "\n",
    "print(response['hits']['total']['value'])\n",
    "\n",
    "for hit in response['hits']['hits']:\n",
    "    print(hit['_source'])\n",
    "    print('__________________')"
   ]
  },
  {
   "cell_type": "markdown",
   "id": "94d1a282-b19d-4306-9bde-9988d8ed3191",
   "metadata": {},
   "source": [
    "### Nested fields\n",
    "\n",
    "- documentation: https://www.elastic.co/guide/en/elasticsearch/reference/current/query-dsl-nested-query.html"
   ]
  },
  {
   "cell_type": "code",
   "execution_count": null,
   "id": "cdbacc06-fa56-4d99-82c9-04f1f2308778",
   "metadata": {},
   "outputs": [],
   "source": [
    "try:\n",
    "    client.indices.delete(index=\"test-index\")\n",
    "except NotFoundError as e:\n",
    "    print(\"Index doesn't exist!\")"
   ]
  },
  {
   "cell_type": "code",
   "execution_count": null,
   "id": "a95db54c-ff14-4036-992b-1e8f08012cd4",
   "metadata": {},
   "outputs": [],
   "source": [
    "doc1 = {\n",
    "    \"group\": \"nogroup\",\n",
    "    \"user\": [\n",
    "        {\n",
    "            \"first\": \"Jon\",\n",
    "            \"last\": \"Snow\"\n",
    "        }\n",
    "    ]\n",
    "}\n",
    "\n",
    "doc2 = {\n",
    "    \"group\": \"Starks\",\n",
    "    \"user\": [\n",
    "        {\n",
    "            \"first\": \"Eddard\",\n",
    "            \"last\": \"Stark\"\n",
    "        },\n",
    "        {\n",
    "            \"first\": \"Arya\",\n",
    "            \"last\": \"Stark\"\n",
    "        },\n",
    "        {\n",
    "            \"first\": \"Sansa\",\n",
    "            \"last\": \"Stark\"\n",
    "        }\n",
    "    ]\n",
    "}\n",
    "\n",
    "doc3 = {\n",
    "    \"group\": \"Arryns\",\n",
    "    \"user\": [\n",
    "        {\n",
    "            \"first\": \"Jon\",\n",
    "            \"last\": \"Arryn\"\n",
    "        },\n",
    "        {\n",
    "            \"first\": \"Lysa\",\n",
    "            \"last\": \"Arryn\"\n",
    "        }\n",
    "    ]\n",
    "}\n",
    "\n",
    "resp = client.index(index=\"test-index\", id=1, document=doc1)\n",
    "resp = client.index(index=\"test-index\", id=2, document=doc2)\n",
    "resp = client.index(index=\"test-index\", id=2, document=doc3)\n",
    "print(resp)"
   ]
  },
  {
   "cell_type": "code",
   "execution_count": null,
   "id": "fc2492fe-a424-462e-a79b-2fddab097a74",
   "metadata": {},
   "outputs": [],
   "source": [
    "query = {\n",
    "\n",
    "}\n",
    "response = client.search(index=\"test-index\", body=query)\n",
    "response"
   ]
  },
  {
   "cell_type": "markdown",
   "id": "bc421d1e-3f8f-4829-9cc1-ef5a6956eb5a",
   "metadata": {},
   "source": [
    "### Geo queries: `geo_distance`\n",
    "\n",
    "- documentation: https://www.elastic.co/guide/en/elasticsearch/reference/current/geo-queries.html"
   ]
  },
  {
   "cell_type": "code",
   "execution_count": null,
   "id": "9f8694f9-4ed2-4328-9964-f94c27e26009",
   "metadata": {},
   "outputs": [],
   "source": [
    "try:\n",
    "    client.indices.delete(index=\"nyc_restaurants_geo\")\n",
    "except NotFoundError as e:\n",
    "    print(\"Index doesn't exist!\")"
   ]
  },
  {
   "cell_type": "code",
   "execution_count": null,
   "id": "070dd878-c7a4-4784-98ef-3e7aa86a9338",
   "metadata": {},
   "outputs": [],
   "source": [
    "geo_mapping = {\n",
    "    \"mappings\": {\n",
    "        \"properties\": {\n",
    "            \"location\": {\"type\": \"geo_point\"},\n",
    "            \"Latitude\": {\"type\": \"float\"},\n",
    "            \"Longitude\": {\"type\": \"float\"}\n",
    "        }\n",
    "    }\n",
    "}\n",
    "\n",
    "client.indices.create(index=\"nyc_restaurants_geo\", body=geo_mapping)\n",
    "\n",
    "reindex_body = {\n",
    "    \"source\": {\"index\": \"nyc_restaurants\"},\n",
    "    \"dest\": {\"index\": \"nyc_restaurants_geo\"},\n",
    "    \"script\": {\n",
    "        \"source\": \"ctx._source['location'] = [ctx._source['Longitude'], ctx._source['Latitude']]\"\n",
    "    }\n",
    "}\n",
    "client.reindex(body=reindex_body)"
   ]
  },
  {
   "cell_type": "markdown",
   "id": "15b61c14-8a1e-4a17-84c0-096e834c43a3",
   "metadata": {},
   "source": [
    "#### Q15: Find all inspected restaurants within 5 km of Central Park (NYC) and plot them."
   ]
  },
  {
   "cell_type": "code",
   "execution_count": null,
   "id": "b6db5427-e400-47bb-bacd-7b96fab896ab",
   "metadata": {},
   "outputs": [],
   "source": [
    "query = {\n",
    "    \"query\": {\n",
    "        \"geo_distance\": {\n",
    "            \"distance\": \"5km\",\n",
    "            \"location\": { \n",
    "                \"lat\": 40.7851,\n",
    "                \"lon\": -73.9654\n",
    "            }\n",
    "        }\n",
    "    },\n",
    "    \"_source\": [\"DBA\", \"CUISINE DESCRIPTION\", \"location\"],\n",
    "    \"size\": 600\n",
    "}\n",
    "\n",
    "response = client.search(index=\"nyc_restaurants_geo\", body=query)\n",
    "print(response['hits']['total']['value'])\n",
    "# for hit in response['hits']['hits']:\n",
    "#     print(f\"Restaurant: {hit['_source']['DBA']}, Cuisine: {hit['_source']['CUISINE DESCRIPTION']}, Location: {hit['_source']['location']}\")"
   ]
  }
 ],
 "metadata": {
  "kernelspec": {
   "display_name": "Python 3 (ipykernel)",
   "language": "python",
   "name": "python3"
  },
  "language_info": {
   "codemirror_mode": {
    "name": "ipython",
    "version": 3
   },
   "file_extension": ".py",
   "mimetype": "text/x-python",
   "name": "python",
   "nbconvert_exporter": "python",
   "pygments_lexer": "ipython3",
   "version": "3.10.12"
  }
 },
 "nbformat": 4,
 "nbformat_minor": 5
}
