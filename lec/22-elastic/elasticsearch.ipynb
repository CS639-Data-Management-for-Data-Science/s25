{
 "cells": [
  {
   "cell_type": "markdown",
   "id": "b9bff378-38b4-47fe-857d-1e2f1b52f3a1",
   "metadata": {},
   "source": [
    "# Elasticsearch"
   ]
  },
  {
   "cell_type": "code",
   "execution_count": null,
   "id": "f124a0ca-ea67-44c9-a651-189f2e838c50",
   "metadata": {},
   "outputs": [],
   "source": [
    "import os\n",
    "from elasticsearch import Elasticsearch, helpers, NotFoundError\n",
    "import json\n",
    "from datetime import datetime"
   ]
  },
  {
   "cell_type": "code",
   "execution_count": null,
   "id": "012cc7c4-d944-44d6-8e59-58fc25b4577b",
   "metadata": {},
   "outputs": [],
   "source": [
    "USER = \"elastic\"\n",
    "PWD = \"mXwp5dz4\"\n",
    "API_KEY = \"a1JVeVo1VUJBdUJsalpERXYwNXg6RnpOeEZvUnRTTC0xZVJDQ0ZacHhRdw==\""
   ]
  },
  {
   "cell_type": "code",
   "execution_count": null,
   "id": "112640aa-1a76-40e0-961e-dc53ae61cf14",
   "metadata": {},
   "outputs": [],
   "source": [
    "client = Elasticsearch(\"http://localhost:9200\", \\\n",
    "                       basic_auth=(USER, PWD))  "
   ]
  },
  {
   "cell_type": "code",
   "execution_count": null,
   "id": "d59cbd16-772c-498a-a267-c780427cad7e",
   "metadata": {},
   "outputs": [],
   "source": [
    "client.info()"
   ]
  },
  {
   "cell_type": "code",
   "execution_count": null,
   "id": "8fd89914-1fb2-43bd-b082-09de98b3c24d",
   "metadata": {},
   "outputs": [],
   "source": [
    "nyc_index = \"nyc_restaurants\"\n",
    "nyc_wiki_index = \"nyc_restaurants_wiki\""
   ]
  },
  {
   "cell_type": "markdown",
   "id": "5e570d38-5db8-498f-b05c-4918f947b8c4",
   "metadata": {},
   "source": [
    "### New York City Restaurants JSON dataset"
   ]
  },
  {
   "cell_type": "markdown",
   "id": "a7e37f55-9b64-4589-870e-3f0c3402f87b",
   "metadata": {},
   "source": [
    "### Boolean operators\n",
    "\n",
    "- `must` operator: AND\n",
    "- `should` operator: OR\n",
    "- `must_not` operator: NOT"
   ]
  },
  {
   "cell_type": "markdown",
   "id": "1c291788-561a-4be7-ad34-eaeec67292d9",
   "metadata": {},
   "source": [
    "#### Q1: Find all Italian restaurants that were inspected in Manhattan."
   ]
  },
  {
   "cell_type": "code",
   "execution_count": null,
   "id": "3e6d8399-dbfa-45a8-a43e-18e87be28cc3",
   "metadata": {},
   "outputs": [],
   "source": [
    "query = {\n",
    "    \"query\": {\n",
    "        \"bool\": {\n",
    "            \"must\": [\n",
    "                {\"match\": {\"CUISINE DESCRIPTION\": \"Italian\"}},\n",
    "                {\"match\": {\"BORO\": \"Manhattan\"}},\n",
    "                {\"exists\": {\"field\": \"DBA\"}} \n",
    "            ]\n",
    "        }\n",
    "    },\n",
    "    \"_source\": [\"DBA\", \"BORO\", \"CUISINE DESCRIPTION\"],\n",
    "    \"size\": 54\n",
    "}\n",
    "\n",
    "response = client.search(index=nyc_index, body=query)\n",
    "print(response['hits']['total']['value'])\n",
    "for hit in response['hits']['hits']:\n",
    "    print(hit['_source'])"
   ]
  },
  {
   "cell_type": "markdown",
   "id": "46536850-943e-4eb5-89cc-93cddfd685ad",
   "metadata": {},
   "source": [
    "#### Q2: Find all inspected restaurants that have Italian or Mexican in their \"CUISINE DESCRIPTION\"."
   ]
  },
  {
   "cell_type": "code",
   "execution_count": null,
   "id": "66378ed5-167a-460f-9bd5-767754c0a5d4",
   "metadata": {},
   "outputs": [],
   "source": [
    "query = {\n",
    "    \"query\": {\n",
    "        \"bool\": {\n",
    "            \"should\": [\n",
    "                {\"match\": {\"CUISINE DESCRIPTION\": \"Italian\"}},\n",
    "                {\"match\": {\"CUISINE DESCRIPTION\": \"Mexican\"}}\n",
    "            ],\n",
    "            \"minimum_should_match\": 1\n",
    "        }\n",
    "    },\n",
    "    \"_source\": [\"DBA\", \"BORO\", \"CUISINE DESCRIPTION\"],\n",
    "    \"size\": 200\n",
    "}\n",
    "\n",
    "response = client.search(index=nyc_index, body=query)\n",
    "print(response['hits']['total']['value'])\n",
    "for hit in response['hits']['hits']:\n",
    "    print(hit['_source'])"
   ]
  },
  {
   "cell_type": "markdown",
   "id": "4d6c3776-9c36-4b70-a2ed-1dc8fbb5fffc",
   "metadata": {},
   "source": [
    "#### Q3: Find all inspected restaurants that are not in Bronx."
   ]
  },
  {
   "cell_type": "code",
   "execution_count": null,
   "id": "eca8515a-2151-4d3d-b1ef-231a484b079e",
   "metadata": {},
   "outputs": [],
   "source": [
    "query = {\n",
    "    \"query\": {\n",
    "        \"bool\": {\n",
    "            \"must\": [\n",
    "                {\"exists\": {\"field\": \"BORO\"}}\n",
    "            ],\n",
    "            \"must_not\": [\n",
    "                {\"match\": {\"BORO\": \"Bronx\"}}\n",
    "            ]\n",
    "        }\n",
    "    },\n",
    "    \"_source\": [\"DBA\", \"BORO\"]\n",
    "}\n",
    "\n",
    "response = client.search(index=nyc_index, body=query)\n",
    "print(response['hits']['total']['value'])\n",
    "for hit in response['hits']['hits']:\n",
    "    print(hit['_source'])"
   ]
  },
  {
   "cell_type": "markdown",
   "id": "cb030ce9-bb8d-431c-91e2-8364116a496a",
   "metadata": {},
   "source": [
    "#### Q4: Find all inspected restaurants that have Latin and American in their \"CUISINE DESCRIPTION\"."
   ]
  },
  {
   "cell_type": "code",
   "execution_count": null,
   "id": "4cc33d8e-ab4b-4df6-ba38-a35983124daf",
   "metadata": {},
   "outputs": [],
   "source": [
    "query = {\n",
    "    \"query\": {\n",
    "        \"multi_match\": {\n",
    "            \"query\": \"Latin American\",\n",
    "            \"fields\": [\"CUISINE DESCRIPTION\"],\n",
    "            \"operator\": \"and\"\n",
    "        }\n",
    "    },\n",
    "    \"size\": 200\n",
    "}\n",
    "\n",
    "response = client.search(index=nyc_index, body=query)\n",
    "print(response['hits']['total']['value'])\n",
    "for hit in response['hits']['hits']:\n",
    "    print(hit['_source']['DBA'], hit['_source']['CUISINE DESCRIPTION'])"
   ]
  },
  {
   "cell_type": "code",
   "execution_count": null,
   "id": "e4371e04-ddc7-43bb-b62b-9d8f696d7211",
   "metadata": {},
   "outputs": [],
   "source": [
    "query = {\n",
    "    \"query\": {\n",
    "        \"match_phrase\": {\n",
    "            \"CUISINE DESCRIPTION\": \"Latin American\"\n",
    "        }\n",
    "    },\n",
    "    \"size\": 200\n",
    "}\n",
    "\n",
    "response = client.search(index=nyc_index, body=query)\n",
    "print(response['hits']['total']['value'])\n",
    "for hit in response['hits']['hits']:\n",
    "    print(hit['_source']['DBA'], hit['_source']['CUISINE DESCRIPTION'])"
   ]
  },
  {
   "cell_type": "markdown",
   "id": "ca1fa9e6-809d-4288-9c0d-ffdf34b6e26b",
   "metadata": {},
   "source": [
    "### Aggregations"
   ]
  },
  {
   "cell_type": "markdown",
   "id": "11897f5d-b320-4dfb-9c64-7914e3e8b5d7",
   "metadata": {},
   "source": [
    "#### Q5: How many restaurants are listed in the dataset?"
   ]
  },
  {
   "cell_type": "code",
   "execution_count": null,
   "id": "ff4fc7f7-562f-403b-bda1-59ec3e1f2e35",
   "metadata": {},
   "outputs": [],
   "source": [
    "query = {\n",
    "    \"query\": {\n",
    "        \"match_all\": {} \n",
    "    },\n",
    "    \"size\": 0, \n",
    "    \"aggs\": {\n",
    "        \"total_restaurants\": {\n",
    "            \"value_count\": {\n",
    "                \"field\": \"DBA.keyword\" \n",
    "            }\n",
    "        }\n",
    "    }\n",
    "}\n",
    "\n",
    "response = client.search(index=nyc_index, body=query)\n",
    "total_count = response['aggregations']['total_restaurants']['value']\n",
    "print(f\"Total number of restaurants: {total_count}\")"
   ]
  },
  {
   "cell_type": "markdown",
   "id": "50a3fa7a-84ae-4af7-bc6f-b3ad45d96cb8",
   "metadata": {},
   "source": [
    "#### Q6: Find the total score of all restaurant inspections in the dataset."
   ]
  },
  {
   "cell_type": "code",
   "execution_count": null,
   "id": "1d381682-3b71-4827-ae3b-a4c8bc215f86",
   "metadata": {},
   "outputs": [],
   "source": [
    "query = {\n",
    "    \"size\": 0,\n",
    "    \"aggs\": {\n",
    "        \"total_score\": {\n",
    "            \"sum\": {\n",
    "                \"field\": \"SCORE\"\n",
    "            }\n",
    "        }\n",
    "    }\n",
    "}\n",
    "\n",
    "response = client.search(index=nyc_index, body=query)\n",
    "print(response['aggregations']['total_score']['value'])"
   ]
  },
  {
   "cell_type": "markdown",
   "id": "e1b14d0c-74f3-4739-84ba-6b6b736aa223",
   "metadata": {},
   "source": [
    "#### Q7: What is the average score of restaurant inspections?"
   ]
  },
  {
   "cell_type": "code",
   "execution_count": null,
   "id": "f67f2260-3691-438b-b073-23e086d6d338",
   "metadata": {},
   "outputs": [],
   "source": [
    "query = {\n",
    "    \"size\": 0,\n",
    "    \"aggs\": {\n",
    "        \"average_score\": {\n",
    "            \"avg\": {\n",
    "                \"field\": \"SCORE\"\n",
    "            }\n",
    "        }\n",
    "    }\n",
    "}\n",
    "\n",
    "response = client.search(index=nyc_index, body=query)\n",
    "print(response['aggregations']['average_score']['value'])"
   ]
  },
  {
   "cell_type": "markdown",
   "id": "e465a7b8-201c-4b67-9ac6-bba667e2b8ff",
   "metadata": {},
   "source": [
    "#### Q8: What is the minimum score of restaurant inspections?"
   ]
  },
  {
   "cell_type": "code",
   "execution_count": null,
   "id": "52707945-e945-4bb4-b526-3a894e651283",
   "metadata": {},
   "outputs": [],
   "source": [
    "query = {\n",
    "    \"size\": 0,\n",
    "    \"aggs\": {\n",
    "        \"min_score\": {\n",
    "            \"min\": {\n",
    "                \"field\": \"SCORE\"\n",
    "            }\n",
    "        }\n",
    "    }\n",
    "}\n",
    "\n",
    "response = client.search(index=nyc_index, body=query)\n",
    "print(response['aggregations']['min_score']['value'])"
   ]
  },
  {
   "cell_type": "markdown",
   "id": "011d63eb-643c-46cf-b0aa-b6dfce888fe6",
   "metadata": {},
   "source": [
    "#### Q9: What is the maximum score of restaurant inspections?"
   ]
  },
  {
   "cell_type": "code",
   "execution_count": null,
   "id": "edc914c4-f027-4105-8a35-274c65cd6f6c",
   "metadata": {},
   "outputs": [],
   "source": [
    "query = {\n",
    "    \"size\": 0,\n",
    "    \"aggs\": {\n",
    "        \"max_score\": {\n",
    "            \"max\": {\n",
    "                \"field\": \"SCORE\"\n",
    "            }\n",
    "        }\n",
    "    }\n",
    "}\n",
    "\n",
    "response = client.search(index=nyc_index, body=query)\n",
    "print(response['aggregations']['max_score']['value'])"
   ]
  },
  {
   "cell_type": "markdown",
   "id": "77172d4f-2217-46fe-8982-b9b7f1e589b1",
   "metadata": {},
   "source": [
    "#### Q10: What are the top 20 most common cuisine types among the inspected restaurants?"
   ]
  },
  {
   "cell_type": "code",
   "execution_count": null,
   "id": "c0ae27f9-85ef-485b-a74e-cbe53d8dc5d6",
   "metadata": {},
   "outputs": [],
   "source": [
    "query = {\n",
    "    \"size\": 0,\n",
    "    \"aggs\": {\n",
    "        \"cuisine_count\": {\n",
    "            \"terms\": {\n",
    "                \"field\": \"CUISINE DESCRIPTION.keyword\",\n",
    "                \"size\": 20\n",
    "            }\n",
    "        }\n",
    "    }\n",
    "}\n",
    "\n",
    "response = client.search(index=nyc_index, body=query)\n",
    "for bucket in response['aggregations']['cuisine_count']['buckets']:\n",
    "    print(bucket['key'], \":\", bucket['doc_count'])"
   ]
  },
  {
   "cell_type": "markdown",
   "id": "9fb4f318-572b-4053-a4c0-b2472f5be78d",
   "metadata": {},
   "source": [
    "#### Q11: How many restaurants fall into each inspection score range (intervals of 5)?"
   ]
  },
  {
   "cell_type": "code",
   "execution_count": null,
   "id": "9d6227b9-8583-4f70-94fc-09077eb67057",
   "metadata": {},
   "outputs": [],
   "source": [
    "query = {\n",
    "    \"size\": 0,\n",
    "    \"aggs\": {\n",
    "        \"score_histogram\": {\n",
    "            \"histogram\": {\n",
    "                \"field\": \"SCORE\",\n",
    "                \"interval\": 5\n",
    "            }\n",
    "        }\n",
    "    }\n",
    "}\n",
    "\n",
    "response = client.search(index=nyc_index, body=query)\n",
    "for bucket in response['aggregations']['score_histogram']['buckets']:\n",
    "    print(bucket['key'], \":\", bucket['doc_count'])"
   ]
  },
  {
   "cell_type": "markdown",
   "id": "1270c57f-a4b9-4189-a1e6-5fc7cb32fccb",
   "metadata": {},
   "source": [
    "#### Q12: How many unique cuisine types have been inspected?"
   ]
  },
  {
   "cell_type": "code",
   "execution_count": null,
   "id": "243bac58-b024-472e-b672-635a323a5800",
   "metadata": {},
   "outputs": [],
   "source": [
    "query = {\n",
    "    \"size\": 0,\n",
    "    \"aggs\": {\n",
    "        \"unique_cuisines\": {\n",
    "            \"cardinality\": {\n",
    "                \"field\": \"CUISINE DESCRIPTION.keyword\"\n",
    "            }\n",
    "        }\n",
    "    }\n",
    "}\n",
    "\n",
    "response = client.search(index=nyc_index, body=query)\n",
    "print(response['aggregations']['unique_cuisines']['value'])"
   ]
  },
  {
   "cell_type": "markdown",
   "id": "4df62c13-6c5f-4512-85dc-57adb3f7ac96",
   "metadata": {},
   "source": [
    "### Wikidump dataset"
   ]
  },
  {
   "cell_type": "markdown",
   "id": "cd4de4c3-aaa8-4a48-8a3a-50e8bcee7df6",
   "metadata": {},
   "source": [
    "#### Q13: Find all wikidump documents that mention \"India\"."
   ]
  },
  {
   "cell_type": "code",
   "execution_count": null,
   "id": "643e289c-1c91-41ff-b511-3c62d8888017",
   "metadata": {},
   "outputs": [],
   "source": [
    "query = {\n",
    "    \"query\": {\n",
    "        \"match\": {\n",
    "            \"wiki\": \"India\"\n",
    "            }\n",
    "    },\n",
    "    \"_source\": [\"wiki\"],\n",
    "    \"size\": 1000\n",
    "}\n",
    "\n",
    "response = client.search(index=nyc_wiki_index, body=query)\n",
    "\n",
    "print(response['hits']['total']['value'])\n",
    "\n",
    "for hit in response['hits']['hits']:\n",
    "    print(hit['_source'])\n",
    "    print('__________________')"
   ]
  },
  {
   "cell_type": "markdown",
   "id": "bf580140-f03a-4743-8178-a146b68a3a8e",
   "metadata": {},
   "source": [
    "### Nested fields\n",
    "\n",
    "- documentation: https://www.elastic.co/guide/en/elasticsearch/reference/current/query-dsl-nested-query.html"
   ]
  },
  {
   "cell_type": "code",
   "execution_count": null,
   "id": "89cc3692-93f6-46c8-ae4f-258a270d8819",
   "metadata": {},
   "outputs": [],
   "source": [
    "try:\n",
    "    client.indices.delete(index=\"test-index\")\n",
    "except NotFoundError as e:\n",
    "    print(\"Index doesn't exist!\")"
   ]
  },
  {
   "cell_type": "code",
   "execution_count": null,
   "id": "6d39e28e-30b3-47fe-9601-5e9e94328599",
   "metadata": {},
   "outputs": [],
   "source": [
    "doc1 = {\n",
    "    \"group\": \"nogroup\",\n",
    "    \"user\": [\n",
    "        {\n",
    "            \"first\": \"Jon\",\n",
    "            \"last\": \"Snow\"\n",
    "        }\n",
    "    ]\n",
    "}\n",
    "\n",
    "doc2 = {\n",
    "    \"group\": \"Starks\",\n",
    "    \"user\": [\n",
    "        {\n",
    "            \"first\": \"Eddard\",\n",
    "            \"last\": \"Stark\"\n",
    "        },\n",
    "        {\n",
    "            \"first\": \"Arya\",\n",
    "            \"last\": \"Stark\"\n",
    "        },\n",
    "        {\n",
    "            \"first\": \"Sansa\",\n",
    "            \"last\": \"Stark\"\n",
    "        }\n",
    "    ]\n",
    "}\n",
    "\n",
    "doc3 = {\n",
    "    \"group\": \"Arryns\",\n",
    "    \"user\": [\n",
    "        {\n",
    "            \"first\": \"Jon\",\n",
    "            \"last\": \"Arryn\"\n",
    "        },\n",
    "        {\n",
    "            \"first\": \"Lysa\",\n",
    "            \"last\": \"Arryn\"\n",
    "        }\n",
    "    ]\n",
    "}\n",
    "\n",
    "resp = client.index(index=\"test-index\", id=1, document=doc1)\n",
    "resp = client.index(index=\"test-index\", id=2, document=doc2)\n",
    "resp = client.index(index=\"test-index\", id=2, document=doc3)\n",
    "print(resp)"
   ]
  },
  {
   "cell_type": "code",
   "execution_count": null,
   "id": "154ad7ae-e2e9-4964-8d10-9c78e60bd00d",
   "metadata": {},
   "outputs": [],
   "source": [
    "query = {\n",
    "    \"query\": {\n",
    "        \"match\": {\n",
    "            \"user.first\": \"Jon\"\n",
    "        }\n",
    "    },\n",
    "    \"size\": 1000\n",
    "}\n",
    "response = client.search(index=\"test-index\", body=query)\n",
    "response"
   ]
  },
  {
   "cell_type": "markdown",
   "id": "8c191548-1ef0-47b1-a7c6-1472646b4fc2",
   "metadata": {},
   "source": [
    "### Geo queries: `geo_distance`\n",
    "\n",
    "- documentation: https://www.elastic.co/guide/en/elasticsearch/reference/current/geo-queries.html"
   ]
  },
  {
   "cell_type": "code",
   "execution_count": null,
   "id": "f3f56a2e-0614-4246-b9de-391ec81b97cb",
   "metadata": {},
   "outputs": [],
   "source": [
    "try:\n",
    "    client.indices.delete(index=\"nyc_restaurants_geo\")\n",
    "except NotFoundError as e:\n",
    "    print(\"Index doesn't exist!\")"
   ]
  },
  {
   "cell_type": "code",
   "execution_count": null,
   "id": "6f98a198-33b4-495f-a4d2-034914d42eff",
   "metadata": {},
   "outputs": [],
   "source": [
    "geo_mapping = {\n",
    "    \"mappings\": {\n",
    "        \"properties\": {\n",
    "            \"location\": {\"type\": \"geo_point\"},\n",
    "            \"Latitude\": {\"type\": \"float\"},\n",
    "            \"Longitude\": {\"type\": \"float\"}\n",
    "        }\n",
    "    }\n",
    "}\n",
    "\n",
    "client.indices.create(index=\"nyc_restaurants_geo\", body=geo_mapping)\n",
    "\n",
    "reindex_body = {\n",
    "    \"source\": {\"index\": \"nyc_restaurants\"},\n",
    "    \"dest\": {\"index\": \"nyc_restaurants_geo\"},\n",
    "    \"script\": {\n",
    "        \"source\": \"ctx._source['location'] = [ctx._source['Longitude'], ctx._source['Latitude']]\"\n",
    "    }\n",
    "}\n",
    "client.reindex(body=reindex_body)"
   ]
  },
  {
   "cell_type": "markdown",
   "id": "6e23c40a-053f-4b2c-b7cb-da2415182151",
   "metadata": {},
   "source": [
    "#### Q15: Find all inspected restaurants within 5 km of Central Park (NYC) and plot them."
   ]
  },
  {
   "cell_type": "code",
   "execution_count": null,
   "id": "82911149-f9bf-45ba-96e4-26ce87dd6ed5",
   "metadata": {},
   "outputs": [],
   "source": [
    "query = {\n",
    "    \"query\": {\n",
    "        \"geo_distance\": {\n",
    "            \"distance\": \"5km\",\n",
    "            \"location\": { \n",
    "                \"lat\": 40.7851,\n",
    "                \"lon\": -73.9654\n",
    "            }\n",
    "        }\n",
    "    },\n",
    "    \"_source\": [\"DBA\", \"CUISINE DESCRIPTION\", \"location\"],\n",
    "    \"size\": 600\n",
    "}\n",
    "\n",
    "response = client.search(index=\"nyc_restaurants_geo\", body=query)\n",
    "print(response['hits']['total']['value'])\n",
    "# for hit in response['hits']['hits']:\n",
    "#     print(f\"Restaurant: {hit['_source']['DBA']}, Cuisine: {hit['_source']['CUISINE DESCRIPTION']}, Location: {hit['_source']['location']}\")"
   ]
  }
 ],
 "metadata": {
  "kernelspec": {
   "display_name": "Python 3 (ipykernel)",
   "language": "python",
   "name": "python3"
  },
  "language_info": {
   "codemirror_mode": {
    "name": "ipython",
    "version": 3
   },
   "file_extension": ".py",
   "mimetype": "text/x-python",
   "name": "python",
   "nbconvert_exporter": "python",
   "pygments_lexer": "ipython3",
   "version": "3.10.12"
  }
 },
 "nbformat": 4,
 "nbformat_minor": 5
}
