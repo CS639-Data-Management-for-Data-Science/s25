{
 "cells": [
  {
   "cell_type": "markdown",
   "id": "b9bff378-38b4-47fe-857d-1e2f1b52f3a1",
   "metadata": {},
   "source": [
    "# Elasticsearch"
   ]
  },
  {
   "cell_type": "code",
   "execution_count": null,
   "id": "f124a0ca-ea67-44c9-a651-189f2e838c50",
   "metadata": {},
   "outputs": [],
   "source": [
    "import os\n",
    "from elasticsearch import Elasticsearch, helpers, NotFoundError\n",
    "import json\n",
    "from datetime import datetime"
   ]
  },
  {
   "cell_type": "code",
   "execution_count": null,
   "id": "012cc7c4-d944-44d6-8e59-58fc25b4577b",
   "metadata": {},
   "outputs": [],
   "source": [
    "USER = \"elastic\"\n",
    "PWD = \"mXwp5dz4\"\n",
    "API_KEY = \"a1JVeVo1VUJBdUJsalpERXYwNXg6RnpOeEZvUnRTTC0xZVJDQ0ZacHhRdw==\""
   ]
  },
  {
   "cell_type": "code",
   "execution_count": null,
   "id": "112640aa-1a76-40e0-961e-dc53ae61cf14",
   "metadata": {},
   "outputs": [],
   "source": [
    "client = "
   ]
  },
  {
   "cell_type": "code",
   "execution_count": null,
   "id": "b39352a9-d558-421b-a072-204fb28eaf19",
   "metadata": {},
   "outputs": [],
   "source": [
    "client.??"
   ]
  },
  {
   "cell_type": "code",
   "execution_count": null,
   "id": "736f6c8d-27b1-4eef-8b1d-7c8c23c20caf",
   "metadata": {},
   "outputs": [],
   "source": [
    "client = "
   ]
  },
  {
   "cell_type": "code",
   "execution_count": null,
   "id": "d59cbd16-772c-498a-a267-c780427cad7e",
   "metadata": {},
   "outputs": [],
   "source": [
    "client.info()"
   ]
  },
  {
   "cell_type": "code",
   "execution_count": null,
   "id": "36728d2f-e90f-40c9-ae03-eaf8a7f7f943",
   "metadata": {},
   "outputs": [],
   "source": []
  },
  {
   "cell_type": "code",
   "execution_count": null,
   "id": "f26aa538-7c1e-4d7e-8701-f1c8a4929355",
   "metadata": {},
   "outputs": [],
   "source": [
    "health = client.cluster.health()\n",
    "health.items()"
   ]
  },
  {
   "cell_type": "markdown",
   "id": "29b8aa3e-86db-4dfe-b56a-2a9d9344a5a9",
   "metadata": {},
   "source": [
    "### Elasticsearch Python API\n",
    "\n",
    "- documentation: https://www.elastic.co/guide/en/elasticsearch/client/python-api/current/index.html"
   ]
  },
  {
   "cell_type": "markdown",
   "id": "62e3f6b7-d221-4beb-b8f5-63ee7007b9c2",
   "metadata": {},
   "source": [
    "### Indexing a document"
   ]
  },
  {
   "cell_type": "code",
   "execution_count": null,
   "id": "744d4526-989a-4b75-9d15-3024707104aa",
   "metadata": {},
   "outputs": [],
   "source": [
    "doc = {\n",
    "    'author': 'Meenakshi Syamkumar',\n",
    "    'text': 'Hope you have been enjoying CS639!',\n",
    "    'timestamp': datetime.now(),\n",
    "}\n"
   ]
  },
  {
   "cell_type": "code",
   "execution_count": null,
   "id": "7abee774-abfe-4843-ac91-50558e04b227",
   "metadata": {},
   "outputs": [],
   "source": [
    "doc = {\n",
    "    'author': 'Meenakshi Syamkumar',\n",
    "    'text': 'It is time we learn how to handle unstructured data!',\n",
    "    'timestamp': datetime.now(),\n",
    "}\n"
   ]
  },
  {
   "cell_type": "markdown",
   "id": "e313e752-8413-416a-8b23-f83007cc6c83",
   "metadata": {},
   "source": [
    "### Getting a document"
   ]
  },
  {
   "cell_type": "code",
   "execution_count": null,
   "id": "a1ffef39-b626-4cbc-8fa9-57ad14e808ec",
   "metadata": {},
   "outputs": [],
   "source": [
    "resp = \n",
    "print(resp)"
   ]
  },
  {
   "cell_type": "code",
   "execution_count": null,
   "id": "f0c73440-0045-479f-866e-20cc1164eaac",
   "metadata": {},
   "outputs": [],
   "source": [
    "print()"
   ]
  },
  {
   "cell_type": "code",
   "execution_count": null,
   "id": "69641693-158c-4011-9822-32bd3e462301",
   "metadata": {},
   "outputs": [],
   "source": [
    "resp = client.get(index=\"test-index\", id=2)\n",
    "print(resp)"
   ]
  },
  {
   "cell_type": "markdown",
   "id": "42fcfb2d-75fc-44bd-a097-5e70a62d7ac1",
   "metadata": {},
   "source": [
    "### Searching for all matching documents\n",
    "\n",
    "- documentation: https://www.elastic.co/guide/en/elasticsearch/reference/current/query-dsl-match-all-query.html"
   ]
  },
  {
   "cell_type": "code",
   "execution_count": null,
   "id": "a18b496b-1737-46a7-84b6-ffd32a5080b1",
   "metadata": {},
   "outputs": [],
   "source": [
    "resp = \n",
    "resp"
   ]
  },
  {
   "cell_type": "markdown",
   "id": "1913c85b-5ecc-448c-ad6d-145f3fc930f3",
   "metadata": {},
   "source": [
    "### Deleting a document"
   ]
  },
  {
   "cell_type": "code",
   "execution_count": null,
   "id": "c2e365ca-2a3d-4e7c-8d67-4f3a2bbdf424",
   "metadata": {},
   "outputs": [],
   "source": [
    "client."
   ]
  },
  {
   "cell_type": "code",
   "execution_count": null,
   "id": "82150ca3-e514-42eb-a03c-17d4b1b6a186",
   "metadata": {},
   "outputs": [],
   "source": [
    "resp = client.\n",
    "resp"
   ]
  },
  {
   "cell_type": "markdown",
   "id": "5e570d38-5db8-498f-b05c-4918f947b8c4",
   "metadata": {},
   "source": [
    "### New York City Restaurants JSON dataset"
   ]
  },
  {
   "cell_type": "code",
   "execution_count": null,
   "id": "01c4af69-0f2b-454b-8020-e7fbd847e0c1",
   "metadata": {},
   "outputs": [],
   "source": [
    "nyc_index = \"nyc_restaurants\""
   ]
  },
  {
   "cell_type": "code",
   "execution_count": null,
   "id": "54060472-0daa-4191-b000-d70082724a05",
   "metadata": {},
   "outputs": [],
   "source": []
  },
  {
   "cell_type": "code",
   "execution_count": null,
   "id": "9e44300a-7994-44c1-9631-49f3a738355d",
   "metadata": {},
   "outputs": [],
   "source": [
    "client.indices.create(index=nyc_index)"
   ]
  },
  {
   "cell_type": "code",
   "execution_count": null,
   "id": "6d86a187-8148-4623-807d-9b430bbeaa11",
   "metadata": {},
   "outputs": [],
   "source": [
    "json_data_dir = \"data/json\"\n",
    "json_files = [f for f in os.listdir(json_data_dir) if \".json\" in f]\n",
    "json_files"
   ]
  },
  {
   "cell_type": "markdown",
   "id": "7edcefa5-47b8-4199-943e-6c055db65c06",
   "metadata": {},
   "source": [
    "### Bulk loading JSON using `helpers.bulk` function\n",
    "\n",
    "```\n",
    "operations = [\n",
    "    {\"index\": \"my_index\", \"_source\": {\"field1\": \"value1\", \"field2\": \"value2\"}},\n",
    "    {\"index\": \"my_index\", \"_source\": {\"field1\": \"value3\", \"field2\": \"value4\"}},\n",
    "    ...\n",
    "]\n",
    "response = helpers.bulk(client, operations)\n",
    "```\n",
    "documentation: https://elasticsearch-py.readthedocs.io/en/latest/helpers.html"
   ]
  },
  {
   "cell_type": "code",
   "execution_count": null,
   "id": "776a3027-09df-449e-b283-3ccca6e46350",
   "metadata": {},
   "outputs": [],
   "source": [
    "try:\n",
    "    client.indices.delete(index=nyc_index)\n",
    "except NotFoundError as e:\n",
    "    print(\"Index doesn't exist!\")"
   ]
  },
  {
   "cell_type": "code",
   "execution_count": null,
   "id": "6575c2fd-ac5e-4463-bd86-b1213a9dbf54",
   "metadata": {},
   "outputs": [],
   "source": [
    "client.indices.create(index=nyc_index)"
   ]
  },
  {
   "cell_type": "code",
   "execution_count": null,
   "id": "c047484d-4845-4fe5-9784-45e23f047824",
   "metadata": {},
   "outputs": [],
   "source": []
  },
  {
   "cell_type": "markdown",
   "id": "7b4208b8-f918-492c-95ec-e57c1d03a98e",
   "metadata": {},
   "source": [
    "### `get_mappings` method\n",
    "\n",
    "- Retrieves the mapping definition of an index or indices.\n",
    "- The mapping defines how the documents and fields within the index are structured, specifying data types (like text, keyword, integer, etc.) and configurations like analyzers and index settings."
   ]
  },
  {
   "cell_type": "code",
   "execution_count": null,
   "id": "284b6529-a06e-44fe-8861-38da8aa45570",
   "metadata": {},
   "outputs": [],
   "source": [
    "client.\n",
    "print(json.dumps(dict(mapping), indent=4))"
   ]
  },
  {
   "cell_type": "markdown",
   "id": "04de5852-0694-4c06-8836-47ecc0c7804c",
   "metadata": {},
   "source": [
    "### Bulk loading TXT using `helpers.bulk` function"
   ]
  },
  {
   "cell_type": "code",
   "execution_count": null,
   "id": "dcd6e633-6f3f-42c4-8a00-02ee7fb1f386",
   "metadata": {},
   "outputs": [],
   "source": [
    "txt_data_dir = \"data/text\"\n",
    "txt_files = [f for f in os.listdir(txt_data_dir) if \".txt\" in f]\n",
    "txt_files"
   ]
  },
  {
   "cell_type": "code",
   "execution_count": null,
   "id": "2700a856-f979-4765-b433-1ec2c1e9047a",
   "metadata": {},
   "outputs": [],
   "source": [
    "nyc_wiki_index = \"nyc_restaurants_wiki\""
   ]
  },
  {
   "cell_type": "code",
   "execution_count": null,
   "id": "d03487af-d77e-4b59-864c-43e36f0600fb",
   "metadata": {},
   "outputs": [],
   "source": []
  },
  {
   "cell_type": "code",
   "execution_count": null,
   "id": "405a5d6f-d819-4cab-828f-72a7d3ac7798",
   "metadata": {},
   "outputs": [],
   "source": [
    "mapping = \n",
    "print(json.dumps(dict(mapping), indent=4))"
   ]
  },
  {
   "cell_type": "markdown",
   "id": "7195111c-f447-4532-9a0d-9e810613e9e1",
   "metadata": {},
   "source": [
    "#### Query to match all documents"
   ]
  },
  {
   "cell_type": "code",
   "execution_count": null,
   "id": "a0c04227-78eb-4c88-9b18-beace8786d53",
   "metadata": {},
   "outputs": [],
   "source": [
    "query = {\n",
    "    \n",
    "}\n",
    "\n",
    "resp = \n",
    "resp"
   ]
  },
  {
   "cell_type": "code",
   "execution_count": null,
   "id": "b13f46ed-4f01-4249-add6-49ec7abc823c",
   "metadata": {},
   "outputs": [],
   "source": [
    "query = {\n",
    "    \n",
    "}\n",
    "\n",
    "resp = client.search(index=nyc_wiki_index, body=query)\n",
    "resp"
   ]
  },
  {
   "cell_type": "markdown",
   "id": "e70c7520-7e48-4750-8b58-87b3721d7b44",
   "metadata": {},
   "source": [
    "### Full Query DSL (Domain Specific Language)"
   ]
  },
  {
   "cell_type": "markdown",
   "id": "f439b45d-1d0f-4dc5-b129-fe7a45e27fd8",
   "metadata": {},
   "source": [
    "### `search` method\n",
    "\n",
    "- Allows you to execute a search query and get back search hits that match the query. You can provide search queries using the q query string parameter or request body.\n",
    "- documentation: https://www.elastic.co/guide/en/elasticsearch/reference/current/search-search.html"
   ]
  },
  {
   "cell_type": "markdown",
   "id": "2829be55-afd9-417b-ace7-3186308de54a",
   "metadata": {},
   "source": [
    "#### (Simple search) Q1: Find all restaurants in Manhattan that were subject to inspection."
   ]
  },
  {
   "cell_type": "code",
   "execution_count": null,
   "id": "b2d2a416-3e3f-4588-ab3e-520420806030",
   "metadata": {},
   "outputs": [],
   "source": [
    "response = client.search(\n",
    "    index=nyc_index,\n",
    "    body=\n",
    ")\n",
    "\n",
    "for hit in response['hits']['hits']:\n",
    "    print(hit['_source']['DBA'], hit['_source']['BORO'], \\\n",
    "         hit['_source']['BUILDING'], hit['_source']['STREET'])"
   ]
  },
  {
   "cell_type": "markdown",
   "id": "bdd2c9f4-8973-4f52-bd08-abd4c86e0350",
   "metadata": {},
   "source": [
    "### Controlling size of the `hits` and the `_source` fields"
   ]
  },
  {
   "cell_type": "code",
   "execution_count": null,
   "id": "e98c5b91-b89a-45d1-b1df-c0fa542bf405",
   "metadata": {},
   "outputs": [],
   "source": [
    "response = client.search(\n",
    "    index=nyc_index,\n",
    "    body=\n",
    ")\n",
    "\n",
    "print(response['hits']['total']['value'])\n",
    "\n",
    "# for hit in response['hits']['hits']:\n",
    "#     # print(hit['_source']['DBA'], hit['_source']['BORO'], \\\n",
    "#     #      hit['_source']['BUILDING'], hit['_source']['STREET'])\n",
    "#     print(hit['_source'])"
   ]
  },
  {
   "cell_type": "markdown",
   "id": "6d3b3068-ccf7-4ce4-975a-eb2964b2acb7",
   "metadata": {},
   "source": [
    "#### (Simple search) Q2: Find all inspected \"Pizza\" restaurants."
   ]
  },
  {
   "cell_type": "code",
   "execution_count": null,
   "id": "b6bfd7e4-8cc0-41d2-8d1b-7dfe0a11ebf6",
   "metadata": {},
   "outputs": [],
   "source": [
    "response = client.search(\n",
    "    index=nyc_index,\n",
    "    body=\n",
    ")\n",
    "\n",
    "for hit in response['hits']['hits']:\n",
    "    print(hit['_source']['DBA'])"
   ]
  },
  {
   "cell_type": "markdown",
   "id": "a9ef23c7-0885-4232-8182-1b92b8e34a47",
   "metadata": {},
   "source": [
    "#### (Fuzzy search) Q3: Find all inspected restaurants whose names are similar to \"Mamma Mia\"."
   ]
  },
  {
   "cell_type": "code",
   "execution_count": null,
   "id": "c2c2583c-4fb8-4def-a2da-99d53e2b9618",
   "metadata": {},
   "outputs": [],
   "source": [
    "response = client.search(\n",
    "    index=nyc_index,\n",
    "    body=\n",
    ")\n",
    "\n",
    "for hit in response['hits']['hits']:\n",
    "    print(hit['_source']['DBA'])\n",
    "\n"
   ]
  },
  {
   "cell_type": "markdown",
   "id": "96922b79-7afe-4ae1-a487-25702233165d",
   "metadata": {},
   "source": [
    "#### (Phrase match search) Q4: Find all inspected restaurants whose violations that have the phrase \"food worker\"."
   ]
  },
  {
   "cell_type": "code",
   "execution_count": null,
   "id": "868a85f6-4d55-43d7-8b38-d5369053ffd3",
   "metadata": {},
   "outputs": [],
   "source": [
    "response = client.search(\n",
    "    index=nyc_index,\n",
    "    body=\n",
    ")\n",
    "\n",
    "for hit in response['hits']['hits']:\n",
    "    print(hit['_source']['DBA'], \\\n",
    "         hit['_source']['VIOLATION DESCRIPTION'])"
   ]
  },
  {
   "cell_type": "markdown",
   "id": "8774442d-7fbc-4c0b-ae7a-7224f343145b",
   "metadata": {},
   "source": [
    "#### (Multi field match search) Q5: Find all restaurants that have \"Pizza\" or \"Pasta\" in either their name or their \"CUISINE DESCRIPTION\"."
   ]
  },
  {
   "cell_type": "code",
   "execution_count": null,
   "id": "31789ae5-74e9-41e8-a540-299280664985",
   "metadata": {},
   "outputs": [],
   "source": [
    "response = client.search(\n",
    "    index=\"nyc_restaurants\",\n",
    "    body=\n",
    ")\n",
    "\n",
    "for hit in response['hits']['hits']:\n",
    "    print(f\"{hit['_source']['DBA']}: {hit['_source']['CUISINE DESCRIPTION']}\")"
   ]
  },
  {
   "cell_type": "markdown",
   "id": "7af20360-5e61-4a96-8183-656b32310b43",
   "metadata": {},
   "source": [
    "#### Q6: Find all inspected restaurants that have Italian or Mexican in their \"CUISINE DESCRIPTION\"."
   ]
  },
  {
   "cell_type": "markdown",
   "id": "ae68741d-0983-4b1a-8b60-da98ca2d9737",
   "metadata": {},
   "source": [
    "Using `multi_match`."
   ]
  },
  {
   "cell_type": "code",
   "execution_count": null,
   "id": "7fe36bcb-e5fa-4d8d-8d8c-6a31664439fe",
   "metadata": {},
   "outputs": [],
   "source": [
    "query = {\n",
    "    \n",
    "}\n",
    "\n",
    "response = client.search(index=nyc_index, body=query)\n",
    "print(response['hits']['total']['value'])\n",
    "for hit in response['hits']['hits']:\n",
    "    print(hit['_source']['DBA'], hit['_source']['CUISINE DESCRIPTION'])"
   ]
  },
  {
   "cell_type": "markdown",
   "id": "35d798df-3a3b-498f-ab2b-a999e5dfe66e",
   "metadata": {},
   "source": [
    "Using `simple_query_string`."
   ]
  },
  {
   "cell_type": "code",
   "execution_count": null,
   "id": "8a61691b-5e1a-418b-be16-6ae391fac712",
   "metadata": {},
   "outputs": [],
   "source": [
    "query = {\n",
    "    \n",
    "}\n",
    "response = client.search(index=nyc_index, body=query)\n",
    "print(response['hits']['total']['value'])\n",
    "\n",
    "for hit in response['hits']['hits']:\n",
    "    print(hit['_source']['DBA'], \":\", hit['_source']['CUISINE DESCRIPTION'])\n"
   ]
  },
  {
   "cell_type": "markdown",
   "id": "564db554-f6b1-40c9-97a1-927f1ea998e0",
   "metadata": {},
   "source": [
    "### Boosting\n",
    "\n",
    "- Boosting is the process by which you can modify the relevance of a document.\n",
    "- There are two different types of boosting: boost at indexing or boost while querying.\n",
    "- Reading: https://weng.gitbooks.io/elasticsearch-in-action/content/chapter6_searching_with_relevancy/63boosting.html "
   ]
  },
  {
   "cell_type": "markdown",
   "id": "51a451db-ed02-4050-bcb8-e046f1471bbe",
   "metadata": {},
   "source": [
    "#### Q7: Find all inspected restaurants that have Italian or Mexican in their \"CUISINE DESCRIPTION\" with higher scoring for Mexican (10.0)."
   ]
  },
  {
   "cell_type": "code",
   "execution_count": null,
   "id": "e68377a0-4f29-4719-baa8-9829768f4938",
   "metadata": {},
   "outputs": [],
   "source": [
    "query = {\n",
    "    \n",
    "}\n",
    "response = client.search(index=nyc_index, body=query)\n",
    "print(response['hits']['total']['value'])\n",
    "\n",
    "for hit in response['hits']['hits']:\n",
    "    print(hit['_source']['DBA'], \":\", hit['_source']['CUISINE DESCRIPTION'])\n"
   ]
  },
  {
   "cell_type": "markdown",
   "id": "f258d5d0-e8d3-491a-828a-2cea32797eb6",
   "metadata": {},
   "source": [
    "### Why does Italian still get ranked higher than Mexican?\n",
    "\n",
    "1. Term Frequency: If the term \"Italian\" appears more frequently across documents, Elasticsearch’s default ranking algorithm (BM25) may still give it higher weight despite the boost.\n",
    "\n",
    "2. Document Length: If documents mentioning \"Mexican\" are much longer, Elasticsearch may consider the match to be less significant, while shorter documents mentioning \"Italian\" may rank higher.\n",
    "\n",
    "3. Field Analysis: The field `VIOLATION DESCRIPTION` might be tokenized in a way that affects how terms are matched and scored. For example, stemming or normalization could influence relevance.\n",
    "\n",
    "4. Scoring Nuances: Elasticsearch's scoring formula (BM25) factors in other elements like field length, inverse document frequency (IDF), and term frequency (TF), which could make \"Italian\" rank higher if it fits better with these parameters in the indexed documents.\n",
    "\n",
    "### How can we re-write the query to make sure `Mexican` gets boosted?\n",
    "\n",
    "### Disjunction max query\n",
    "\n",
    "- Returns documents matching one or more wrapped queries, called query clauses or clauses.\n",
    "- If a returned document matches multiple query clauses, the dis_max query assigns the document the highest relevance score from any matching clause, plus a tie breaking increment for any additional matching subqueries.\n",
    "- documentation: https://www.elastic.co/guide/en/elasticsearch/reference/current/query-dsl-dis-max-query.html "
   ]
  },
  {
   "cell_type": "code",
   "execution_count": null,
   "id": "9991017b-2a49-43aa-91d0-9fb58456df7e",
   "metadata": {},
   "outputs": [],
   "source": [
    "query = {\n",
    "    \n",
    "}\n",
    "\n",
    "response = client.search(index=nyc_index, body=query)\n",
    "print(response['hits']['total']['value'])\n",
    "for hit in response['hits']['hits']:\n",
    "    print(hit['_source']['DBA'], \":\", hit['_source']['CUISINE DESCRIPTION'])\n"
   ]
  },
  {
   "cell_type": "markdown",
   "id": "9aba19c1-53d8-4b09-b8fc-a93555e1cb25",
   "metadata": {},
   "source": [
    "### Highlighting \n",
    "\n",
    "- During the search process, elasticsearch extracts the text from the fields you want to highlight.\n",
    "- It then marks the matching terms in the retrieved documents, usually by wrapping them in HTML tags (like `<em>` or `<strong>`), making them visually distinct."
   ]
  },
  {
   "cell_type": "markdown",
   "id": "22de9178-f55b-4e44-ae38-5af37f889390",
   "metadata": {},
   "source": [
    "#### Q8: Find all inspected restaurants that have Mexican in \"CUISINE DESCRIPTION\" and highlight the \"CUISINE DESCRIPTION\" field in the results."
   ]
  },
  {
   "cell_type": "code",
   "execution_count": null,
   "id": "bfd2bc68-308f-4e23-b106-403144385e78",
   "metadata": {},
   "outputs": [],
   "source": [
    "query = {\n",
    "\n",
    "}\n",
    "\n",
    "response = client.search(index=nyc_index, body=query)\n",
    "print(response)"
   ]
  },
  {
   "cell_type": "code",
   "execution_count": null,
   "id": "1e5c6865-94bc-4a24-9210-d0ea1097289b",
   "metadata": {},
   "outputs": [],
   "source": [
    "query = {\n",
    "    \"query\": {\n",
    "        \"match_phrase\": {\n",
    "            \"CUISINE DESCRIPTION\": \"Mexican\"\n",
    "        }\n",
    "    },\n",
    "    \"_source\": [\"DBA\", \"CUISINE DESCRIPTION\"],\n",
    "    \"highlight\": {\n",
    "        \"fields\": {\n",
    "            \"CUISINE DESCRIPTION\": {\n",
    "                \"pre_tags\": [\"<strong>\"], \n",
    "                \"post_tags\": [\"</strong>\"]\n",
    "            }\n",
    "        }\n",
    "    }\n",
    "}\n",
    "\n",
    "response = client.search(index=nyc_index, body=query)\n",
    "print(response)"
   ]
  },
  {
   "cell_type": "markdown",
   "id": "b9685471-f78a-4230-87e1-2f9594666b47",
   "metadata": {},
   "source": [
    "### Benefits of Highlighting\n",
    "- Improved User Experience: Highlighting helps users quickly identify relevant sections of text that match their search terms, making it easier to evaluate the results.\n",
    "- Enhanced Readability: By drawing attention to specific keywords or phrases, you improve the overall readability of search results.\n",
    "- Customization: You can customize how highlighting appears (e.g., using different tags or styles) to fit the design of your application."
   ]
  },
  {
   "cell_type": "markdown",
   "id": "5b3aabe8-ecc6-45fd-abf8-e500036e0959",
   "metadata": {},
   "source": [
    "### Boolean operators\n",
    "\n",
    "- `must` operator: AND\n",
    "- `should` operator: OR\n",
    "- `must_not` operator: NOT"
   ]
  },
  {
   "cell_type": "markdown",
   "id": "1c291788-561a-4be7-ad34-eaeec67292d9",
   "metadata": {},
   "source": [
    "#### Q9: Find all Italian restaurants that were inspected in Manhattan."
   ]
  },
  {
   "cell_type": "code",
   "execution_count": null,
   "id": "3e6d8399-dbfa-45a8-a43e-18e87be28cc3",
   "metadata": {},
   "outputs": [],
   "source": [
    "query = {\n",
    "    \n",
    "}\n",
    "\n",
    "response = client.search(index=nyc_index, body=query)\n",
    "print(response['hits']['total']['value'])\n",
    "for hit in response['hits']['hits']:\n",
    "    print(hit['_source'])"
   ]
  },
  {
   "cell_type": "markdown",
   "id": "46536850-943e-4eb5-89cc-93cddfd685ad",
   "metadata": {},
   "source": [
    "#### Q10: Find all inspected restaurants that have Italian or Mexican in their \"CUISINE DESCRIPTION\"."
   ]
  },
  {
   "cell_type": "code",
   "execution_count": null,
   "id": "66378ed5-167a-460f-9bd5-767754c0a5d4",
   "metadata": {},
   "outputs": [],
   "source": [
    "query = {\n",
    "    \n",
    "}\n",
    "\n",
    "response = client.search(index=nyc_index, body=query)\n",
    "print(response['hits']['total']['value'])\n",
    "for hit in response['hits']['hits']:\n",
    "    print(hit['_source'])"
   ]
  },
  {
   "cell_type": "markdown",
   "id": "4d6c3776-9c36-4b70-a2ed-1dc8fbb5fffc",
   "metadata": {},
   "source": [
    "#### Q11: Find all inspected restaurants that are not in Bronx."
   ]
  },
  {
   "cell_type": "code",
   "execution_count": null,
   "id": "eca8515a-2151-4d3d-b1ef-231a484b079e",
   "metadata": {},
   "outputs": [],
   "source": [
    "query = {\n",
    "    \n",
    "}\n",
    "\n",
    "response = client.search(index=nyc_index, body=query)\n",
    "print(response['hits']['total']['value'])\n",
    "for hit in response['hits']['hits']:\n",
    "    print(hit['_source'])"
   ]
  },
  {
   "cell_type": "code",
   "execution_count": null,
   "id": "64222902-b1d9-4e28-8d49-1476cbfae658",
   "metadata": {},
   "outputs": [],
   "source": []
  }
 ],
 "metadata": {
  "kernelspec": {
   "display_name": "Python 3 (ipykernel)",
   "language": "python",
   "name": "python3"
  },
  "language_info": {
   "codemirror_mode": {
    "name": "ipython",
    "version": 3
   },
   "file_extension": ".py",
   "mimetype": "text/x-python",
   "name": "python",
   "nbconvert_exporter": "python",
   "pygments_lexer": "ipython3",
   "version": "3.10.12"
  }
 },
 "nbformat": 4,
 "nbformat_minor": 5
}
