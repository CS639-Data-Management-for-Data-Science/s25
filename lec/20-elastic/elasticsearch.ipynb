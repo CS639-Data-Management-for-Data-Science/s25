{
 "cells": [
  {
   "cell_type": "markdown",
   "id": "b9bff378-38b4-47fe-857d-1e2f1b52f3a1",
   "metadata": {},
   "source": [
    "# Elasticsearch"
   ]
  },
  {
   "cell_type": "code",
   "execution_count": 1,
   "id": "f124a0ca-ea67-44c9-a651-189f2e838c50",
   "metadata": {},
   "outputs": [],
   "source": [
    "import os\n",
    "from elasticsearch import Elasticsearch, helpers, NotFoundError\n",
    "import json\n",
    "from datetime import datetime"
   ]
  },
  {
   "cell_type": "code",
   "execution_count": 2,
   "id": "012cc7c4-d944-44d6-8e59-58fc25b4577b",
   "metadata": {},
   "outputs": [],
   "source": [
    "USER = \"elastic\"\n",
    "PWD = \"mXwp5dz4\"\n",
    "API_KEY = \"a1JVeVo1VUJBdUJsalpERXYwNXg6RnpOeEZvUnRTTC0xZVJDQ0ZacHhRdw==\""
   ]
  },
  {
   "cell_type": "code",
   "execution_count": 3,
   "id": "112640aa-1a76-40e0-961e-dc53ae61cf14",
   "metadata": {},
   "outputs": [],
   "source": [
    "client = Elasticsearch(\"http://localhost:9200\", \\\n",
    "                       basic_auth=(USER, PWD))  "
   ]
  },
  {
   "cell_type": "code",
   "execution_count": 4,
   "id": "b39352a9-d558-421b-a072-204fb28eaf19",
   "metadata": {},
   "outputs": [
    {
     "data": {
      "text/plain": [
       "ObjectApiResponse({'name': '7e3a8cddf98a', 'cluster_name': 'docker-cluster', 'cluster_uuid': 'WHZrhP6ETQ-dYdHvchUi6A', 'version': {'number': '8.17.3', 'build_flavor': 'default', 'build_type': 'docker', 'build_hash': 'a091390de485bd4b127884f7e565c0cad59b10d2', 'build_date': '2025-02-28T10:07:26.089129809Z', 'build_snapshot': False, 'lucene_version': '9.12.0', 'minimum_wire_compatibility_version': '7.17.0', 'minimum_index_compatibility_version': '7.0.0'}, 'tagline': 'You Know, for Search'})"
      ]
     },
     "execution_count": 4,
     "metadata": {},
     "output_type": "execute_result"
    }
   ],
   "source": [
    "client.info()"
   ]
  },
  {
   "cell_type": "code",
   "execution_count": 5,
   "id": "736f6c8d-27b1-4eef-8b1d-7c8c23c20caf",
   "metadata": {},
   "outputs": [],
   "source": [
    "client = Elasticsearch(\"http://localhost:9200\", \\\n",
    "                       api_key=API_KEY)  "
   ]
  },
  {
   "cell_type": "code",
   "execution_count": 6,
   "id": "d59cbd16-772c-498a-a267-c780427cad7e",
   "metadata": {},
   "outputs": [
    {
     "data": {
      "text/plain": [
       "ObjectApiResponse({'name': '7e3a8cddf98a', 'cluster_name': 'docker-cluster', 'cluster_uuid': 'WHZrhP6ETQ-dYdHvchUi6A', 'version': {'number': '8.17.3', 'build_flavor': 'default', 'build_type': 'docker', 'build_hash': 'a091390de485bd4b127884f7e565c0cad59b10d2', 'build_date': '2025-02-28T10:07:26.089129809Z', 'build_snapshot': False, 'lucene_version': '9.12.0', 'minimum_wire_compatibility_version': '7.17.0', 'minimum_index_compatibility_version': '7.0.0'}, 'tagline': 'You Know, for Search'})"
      ]
     },
     "execution_count": 6,
     "metadata": {},
     "output_type": "execute_result"
    }
   ],
   "source": [
    "client.info()"
   ]
  },
  {
   "cell_type": "code",
   "execution_count": 7,
   "id": "36728d2f-e90f-40c9-ae03-eaf8a7f7f943",
   "metadata": {},
   "outputs": [
    {
     "data": {
      "text/plain": [
       "ObjectApiResponse({'cluster_name': 'docker-cluster', 'status': 'yellow', 'timed_out': False, 'number_of_nodes': 1, 'number_of_data_nodes': 1, 'active_primary_shards': 31, 'active_shards': 31, 'relocating_shards': 0, 'initializing_shards': 0, 'unassigned_shards': 1, 'unassigned_primary_shards': 0, 'delayed_unassigned_shards': 0, 'number_of_pending_tasks': 0, 'number_of_in_flight_fetch': 0, 'task_max_waiting_in_queue_millis': 0, 'active_shards_percent_as_number': 96.875})"
      ]
     },
     "execution_count": 7,
     "metadata": {},
     "output_type": "execute_result"
    }
   ],
   "source": [
    "client.cluster.health()"
   ]
  },
  {
   "cell_type": "code",
   "execution_count": 8,
   "id": "f26aa538-7c1e-4d7e-8701-f1c8a4929355",
   "metadata": {},
   "outputs": [
    {
     "data": {
      "text/plain": [
       "dict_items([('cluster_name', 'docker-cluster'), ('status', 'yellow'), ('timed_out', False), ('number_of_nodes', 1), ('number_of_data_nodes', 1), ('active_primary_shards', 31), ('active_shards', 31), ('relocating_shards', 0), ('initializing_shards', 0), ('unassigned_shards', 1), ('unassigned_primary_shards', 0), ('delayed_unassigned_shards', 0), ('number_of_pending_tasks', 0), ('number_of_in_flight_fetch', 0), ('task_max_waiting_in_queue_millis', 0), ('active_shards_percent_as_number', 96.875)])"
      ]
     },
     "execution_count": 8,
     "metadata": {},
     "output_type": "execute_result"
    }
   ],
   "source": [
    "health = client.cluster.health()\n",
    "health.items()"
   ]
  },
  {
   "cell_type": "markdown",
   "id": "29b8aa3e-86db-4dfe-b56a-2a9d9344a5a9",
   "metadata": {},
   "source": [
    "### Elasticsearch Python API\n",
    "\n",
    "- documentation: https://www.elastic.co/guide/en/elasticsearch/client/python-api/current/index.html"
   ]
  },
  {
   "cell_type": "markdown",
   "id": "62e3f6b7-d221-4beb-b8f5-63ee7007b9c2",
   "metadata": {},
   "source": [
    "### Indexing a document"
   ]
  },
  {
   "cell_type": "code",
   "execution_count": 9,
   "id": "744d4526-989a-4b75-9d15-3024707104aa",
   "metadata": {},
   "outputs": [
    {
     "name": "stdout",
     "output_type": "stream",
     "text": [
      "created\n"
     ]
    }
   ],
   "source": [
    "doc = {\n",
    "    'author': 'Meenakshi Syamkumar',\n",
    "    'text': 'Hope you have been enjoying CS639!',\n",
    "    'timestamp': datetime.now(),\n",
    "}\n",
    "resp = client.index(index=\"test-index\", id=1, document=doc)\n",
    "print(resp['result'])"
   ]
  },
  {
   "cell_type": "code",
   "execution_count": 10,
   "id": "7abee774-abfe-4843-ac91-50558e04b227",
   "metadata": {},
   "outputs": [
    {
     "name": "stdout",
     "output_type": "stream",
     "text": [
      "created\n"
     ]
    }
   ],
   "source": [
    "doc = {\n",
    "    'author': 'Meenakshi Syamkumar',\n",
    "    'text': 'It is time we learn how to handle unstructured data!',\n",
    "    'timestamp': datetime.now(),\n",
    "}\n",
    "resp = client.index(index=\"test-index\", id=2, document=doc)\n",
    "print(resp['result'])"
   ]
  },
  {
   "cell_type": "markdown",
   "id": "e313e752-8413-416a-8b23-f83007cc6c83",
   "metadata": {},
   "source": [
    "### Getting a document"
   ]
  },
  {
   "cell_type": "code",
   "execution_count": 11,
   "id": "a1ffef39-b626-4cbc-8fa9-57ad14e808ec",
   "metadata": {},
   "outputs": [
    {
     "name": "stdout",
     "output_type": "stream",
     "text": [
      "{'_index': 'test-index', '_id': '1', '_version': 1, '_seq_no': 0, '_primary_term': 1, 'found': True, '_source': {'author': 'Meenakshi Syamkumar', 'text': 'Hope you have been enjoying CS639!', 'timestamp': '2025-03-07T18:51:01.575677'}}\n"
     ]
    }
   ],
   "source": [
    "resp = client.get(index=\"test-index\", id=1)\n",
    "print(resp)"
   ]
  },
  {
   "cell_type": "code",
   "execution_count": 12,
   "id": "f0c73440-0045-479f-866e-20cc1164eaac",
   "metadata": {},
   "outputs": [
    {
     "name": "stdout",
     "output_type": "stream",
     "text": [
      "{'author': 'Meenakshi Syamkumar', 'text': 'Hope you have been enjoying CS639!', 'timestamp': '2025-03-07T18:51:01.575677'}\n"
     ]
    }
   ],
   "source": [
    "print(resp['_source'])"
   ]
  },
  {
   "cell_type": "code",
   "execution_count": 13,
   "id": "69641693-158c-4011-9822-32bd3e462301",
   "metadata": {},
   "outputs": [
    {
     "name": "stdout",
     "output_type": "stream",
     "text": [
      "{'_index': 'test-index', '_id': '2', '_version': 1, '_seq_no': 1, '_primary_term': 1, 'found': True, '_source': {'author': 'Meenakshi Syamkumar', 'text': 'It is time we learn how to handle unstructured data!', 'timestamp': '2025-03-07T18:51:03.354944'}}\n"
     ]
    }
   ],
   "source": [
    "resp = client.get(index=\"test-index\", id=2)\n",
    "print(resp)"
   ]
  },
  {
   "cell_type": "markdown",
   "id": "42fcfb2d-75fc-44bd-a097-5e70a62d7ac1",
   "metadata": {},
   "source": [
    "### Searching for all matching documents\n",
    "\n",
    "- documentation: https://www.elastic.co/guide/en/elasticsearch/reference/current/query-dsl-match-all-query.html"
   ]
  },
  {
   "cell_type": "code",
   "execution_count": 14,
   "id": "a18b496b-1737-46a7-84b6-ffd32a5080b1",
   "metadata": {},
   "outputs": [
    {
     "data": {
      "text/plain": [
       "ObjectApiResponse({'took': 4, 'timed_out': False, '_shards': {'total': 1, 'successful': 1, 'skipped': 0, 'failed': 0}, 'hits': {'total': {'value': 2, 'relation': 'eq'}, 'max_score': 1.0, 'hits': [{'_index': 'test-index', '_id': '1', '_score': 1.0, '_source': {'author': 'Meenakshi Syamkumar', 'text': 'Hope you have been enjoying CS639!', 'timestamp': '2025-03-07T18:51:01.575677'}}, {'_index': 'test-index', '_id': '2', '_score': 1.0, '_source': {'author': 'Meenakshi Syamkumar', 'text': 'It is time we learn how to handle unstructured data!', 'timestamp': '2025-03-07T18:51:03.354944'}}]}})"
      ]
     },
     "execution_count": 14,
     "metadata": {},
     "output_type": "execute_result"
    }
   ],
   "source": [
    "resp = client.search(index=\"test-index\", query={\"match_all\": {}})\n",
    "resp"
   ]
  },
  {
   "cell_type": "markdown",
   "id": "1913c85b-5ecc-448c-ad6d-145f3fc930f3",
   "metadata": {},
   "source": [
    "### Deleting a document"
   ]
  },
  {
   "cell_type": "code",
   "execution_count": 15,
   "id": "c2e365ca-2a3d-4e7c-8d67-4f3a2bbdf424",
   "metadata": {},
   "outputs": [
    {
     "data": {
      "text/plain": [
       "ObjectApiResponse({'_index': 'test-index', '_id': '1', '_version': 2, 'result': 'deleted', '_shards': {'total': 2, 'successful': 1, 'failed': 0}, '_seq_no': 2, '_primary_term': 1})"
      ]
     },
     "execution_count": 15,
     "metadata": {},
     "output_type": "execute_result"
    }
   ],
   "source": [
    "client.delete(index=\"test-index\", id=1)"
   ]
  },
  {
   "cell_type": "code",
   "execution_count": 16,
   "id": "82150ca3-e514-42eb-a03c-17d4b1b6a186",
   "metadata": {},
   "outputs": [
    {
     "data": {
      "text/plain": [
       "ObjectApiResponse({'took': 1, 'timed_out': False, '_shards': {'total': 1, 'successful': 1, 'skipped': 0, 'failed': 0}, 'hits': {'total': {'value': 1, 'relation': 'eq'}, 'max_score': 1.0, 'hits': [{'_index': 'test-index', '_id': '2', '_score': 1.0, '_source': {'author': 'Meenakshi Syamkumar', 'text': 'It is time we learn how to handle unstructured data!', 'timestamp': '2025-03-07T18:51:03.354944'}}]}})"
      ]
     },
     "execution_count": 16,
     "metadata": {},
     "output_type": "execute_result"
    }
   ],
   "source": [
    "resp = client.search(index=\"test-index\", query={\"match_all\": {}})\n",
    "resp"
   ]
  },
  {
   "cell_type": "markdown",
   "id": "5e570d38-5db8-498f-b05c-4918f947b8c4",
   "metadata": {},
   "source": [
    "### New York City Restaurants JSON dataset"
   ]
  },
  {
   "cell_type": "code",
   "execution_count": 17,
   "id": "01c4af69-0f2b-454b-8020-e7fbd847e0c1",
   "metadata": {},
   "outputs": [],
   "source": [
    "nyc_index = \"nyc_restaurants\""
   ]
  },
  {
   "cell_type": "code",
   "execution_count": 18,
   "id": "54060472-0daa-4191-b000-d70082724a05",
   "metadata": {},
   "outputs": [
    {
     "name": "stdout",
     "output_type": "stream",
     "text": [
      "Index doesn't exist!\n"
     ]
    }
   ],
   "source": [
    "try:\n",
    "    client.indices.delete(index=nyc_index)\n",
    "except NotFoundError as e:\n",
    "    print(\"Index doesn't exist!\")"
   ]
  },
  {
   "cell_type": "code",
   "execution_count": 19,
   "id": "9e44300a-7994-44c1-9631-49f3a738355d",
   "metadata": {},
   "outputs": [
    {
     "data": {
      "text/plain": [
       "ObjectApiResponse({'acknowledged': True, 'shards_acknowledged': True, 'index': 'nyc_restaurants'})"
      ]
     },
     "execution_count": 19,
     "metadata": {},
     "output_type": "execute_result"
    }
   ],
   "source": [
    "client.indices.create(index=nyc_index)"
   ]
  },
  {
   "cell_type": "code",
   "execution_count": 20,
   "id": "6d86a187-8148-4623-807d-9b430bbeaa11",
   "metadata": {},
   "outputs": [
    {
     "data": {
      "text/plain": [
       "['New_York_City_Restaurant_Inspection_Results.json']"
      ]
     },
     "execution_count": 20,
     "metadata": {},
     "output_type": "execute_result"
    }
   ],
   "source": [
    "json_data_dir = \"data/json\"\n",
    "json_files = [f for f in os.listdir(json_data_dir) if \".json\" in f]\n",
    "json_files"
   ]
  },
  {
   "cell_type": "markdown",
   "id": "7edcefa5-47b8-4199-943e-6c055db65c06",
   "metadata": {},
   "source": [
    "### Bulk loading JSON using `helpers.bulk` function\n",
    "\n",
    "```\n",
    "operations = [\n",
    "    {\"index\": \"my_index\", \"_source\": {\"field1\": \"value1\", \"field2\": \"value2\"}},\n",
    "    {\"index\": \"my_index\", \"_source\": {\"field1\": \"value3\", \"field2\": \"value4\"}},\n",
    "    ...\n",
    "]\n",
    "response = helpers.bulk(client, operations)\n",
    "```\n",
    "documentation: https://elasticsearch-py.readthedocs.io/en/latest/helpers.html"
   ]
  },
  {
   "cell_type": "code",
   "execution_count": 21,
   "id": "776a3027-09df-449e-b283-3ccca6e46350",
   "metadata": {},
   "outputs": [],
   "source": [
    "try:\n",
    "    client.indices.delete(index=nyc_index)\n",
    "except NotFoundError as e:\n",
    "    print(\"Index doesn't exist!\")"
   ]
  },
  {
   "cell_type": "code",
   "execution_count": 22,
   "id": "6575c2fd-ac5e-4463-bd86-b1213a9dbf54",
   "metadata": {},
   "outputs": [
    {
     "data": {
      "text/plain": [
       "ObjectApiResponse({'acknowledged': True, 'shards_acknowledged': True, 'index': 'nyc_restaurants'})"
      ]
     },
     "execution_count": 22,
     "metadata": {},
     "output_type": "execute_result"
    }
   ],
   "source": [
    "client.indices.create(index=nyc_index)"
   ]
  },
  {
   "cell_type": "code",
   "execution_count": 23,
   "id": "c047484d-4845-4fe5-9784-45e23f047824",
   "metadata": {},
   "outputs": [
    {
     "data": {
      "text/plain": [
       "(2546, [])"
      ]
     },
     "execution_count": 23,
     "metadata": {},
     "output_type": "execute_result"
    }
   ],
   "source": [
    "with open(os.path.join(json_data_dir, \"New_York_City_Restaurant_Inspection_Results.json\"), 'r') as file:\n",
    "    data = json.load(file)\n",
    "\n",
    "restaurants = data[\"restaurants\"]\n",
    "operations = [\n",
    "    {\"_index\": nyc_index, \"_source\": restaurant}\n",
    "    for restaurant in restaurants\n",
    "]\n",
    "\n",
    "helpers.bulk(client, operations)"
   ]
  },
  {
   "cell_type": "markdown",
   "id": "7b4208b8-f918-492c-95ec-e57c1d03a98e",
   "metadata": {},
   "source": [
    "### `get_mappings` method\n",
    "\n",
    "- Retrieves the mapping definition of an index or indices.\n",
    "- The mapping defines how the documents and fields within the index are structured, specifying data types (like text, keyword, integer, etc.) and configurations like analyzers and index settings."
   ]
  },
  {
   "cell_type": "code",
   "execution_count": 29,
   "id": "284b6529-a06e-44fe-8861-38da8aa45570",
   "metadata": {},
   "outputs": [
    {
     "data": {
      "text/plain": [
       "ObjectApiResponse({'nyc_restaurants': {'mappings': {'properties': {'ACTION': {'type': 'text', 'fields': {'keyword': {'type': 'keyword', 'ignore_above': 256}}}, 'BBL': {'type': 'float'}, 'BIN': {'type': 'float'}, 'BORO': {'type': 'text', 'fields': {'keyword': {'type': 'keyword', 'ignore_above': 256}}}, 'BUILDING': {'type': 'text', 'fields': {'keyword': {'type': 'keyword', 'ignore_above': 256}}}, 'CAMIS': {'type': 'long'}, 'CRITICAL FLAG': {'type': 'text', 'fields': {'keyword': {'type': 'keyword', 'ignore_above': 256}}}, 'CUISINE DESCRIPTION': {'type': 'text', 'fields': {'keyword': {'type': 'keyword', 'ignore_above': 256}}}, 'Census Tract': {'type': 'float'}, 'Community Board': {'type': 'float'}, 'Council District': {'type': 'float'}, 'DBA': {'type': 'text', 'fields': {'keyword': {'type': 'keyword', 'ignore_above': 256}}}, 'GRADE': {'type': 'text', 'fields': {'keyword': {'type': 'keyword', 'ignore_above': 256}}}, 'GRADE DATE': {'type': 'text', 'fields': {'keyword': {'type': 'keyword', 'ignore_above': 256}}}, 'INSPECTION DATE': {'type': 'text', 'fields': {'keyword': {'type': 'keyword', 'ignore_above': 256}}}, 'INSPECTION TYPE': {'type': 'text', 'fields': {'keyword': {'type': 'keyword', 'ignore_above': 256}}}, 'Latitude': {'type': 'float'}, 'Longitude': {'type': 'float'}, 'NTA': {'type': 'text', 'fields': {'keyword': {'type': 'keyword', 'ignore_above': 256}}}, 'PHONE': {'type': 'text', 'fields': {'keyword': {'type': 'keyword', 'ignore_above': 256}}}, 'RECORD DATE': {'type': 'text', 'fields': {'keyword': {'type': 'keyword', 'ignore_above': 256}}}, 'SCORE': {'type': 'float'}, 'STREET': {'type': 'text', 'fields': {'keyword': {'type': 'keyword', 'ignore_above': 256}}}, 'VIOLATION CODE': {'type': 'text', 'fields': {'keyword': {'type': 'keyword', 'ignore_above': 256}}}, 'VIOLATION DESCRIPTION': {'type': 'text', 'fields': {'keyword': {'type': 'keyword', 'ignore_above': 256}}}, 'ZIPCODE': {'type': 'float'}}}}})"
      ]
     },
     "execution_count": 29,
     "metadata": {},
     "output_type": "execute_result"
    }
   ],
   "source": [
    "client.indices.get_mapping(index=nyc_index)"
   ]
  },
  {
   "cell_type": "markdown",
   "id": "04de5852-0694-4c06-8836-47ecc0c7804c",
   "metadata": {},
   "source": [
    "### Bulk loading TXT using `helpers.bulk` function"
   ]
  },
  {
   "cell_type": "code",
   "execution_count": 24,
   "id": "dcd6e633-6f3f-42c4-8a00-02ee7fb1f386",
   "metadata": {},
   "outputs": [
    {
     "data": {
      "text/plain": [
       "['Kennedy_Fried_Chicken.txt',\n",
       " 'Category_New_American_restaurants_in_New_York_City.txt',\n",
       " 'Ravagh_Persian_Grill.txt',\n",
       " 'Category_Restaurants_in_Brooklyn.txt',\n",
       " 'List_of_restaurants_in_New_York_City.txt',\n",
       " \"Bickford's_(restaurant).txt\",\n",
       " 'Fatty_Crew.txt',\n",
       " 'Just_Salad.txt',\n",
       " 'Safari_(restaurant).txt',\n",
       " \"Xi'an_Famous_Foods.txt\",\n",
       " 'The_Royal_Canadian_Pancake_Houses.txt',\n",
       " 'La_Piraña_Lechonera.txt',\n",
       " 'Category_European_restaurants_in_New_York_City.txt',\n",
       " 'Category_Restaurants_in_Queens.txt',\n",
       " 'Dig_(restaurant).txt',\n",
       " 'Zaab_Zaab.txt',\n",
       " 'Black_Tap.txt',\n",
       " 'Category_New_York_City_restaurant_stubs.txt',\n",
       " \"Schrafft's_(restaurant_chain).txt\",\n",
       " 'Category_Defunct_restaurants_in_New_York_City.txt',\n",
       " \"Michael_Jordan's_Steak_House.txt\",\n",
       " 'Category_Asian_restaurants_in_New_York_City.txt',\n",
       " 'Category_Restaurants_in_New_York_City_by_type.txt',\n",
       " 'HaSalon.txt',\n",
       " 'Two_Boots.txt',\n",
       " 'Category_Restaurants_in_Manhattan.txt',\n",
       " 'Smith_&_Wollensky.txt',\n",
       " 'Piccolo_Cafe.txt',\n",
       " 'Momofuku_(restaurants).txt',\n",
       " 'Category_Latin_American_restaurants_in_New_York_City.txt',\n",
       " 'Category_Jewish_restaurants_in_New_York_City.txt',\n",
       " 'Golden_Krust.txt',\n",
       " 'TGI_Fridays.txt',\n",
       " 'Lucciola_(restaurant).txt',\n",
       " 'Ghetto_Gastro.txt',\n",
       " 'Coffeed.txt',\n",
       " 'List_of_Michelin-starred_restaurants_in_New_York_City.txt',\n",
       " 'The_Riese_Organization.txt']"
      ]
     },
     "execution_count": 24,
     "metadata": {},
     "output_type": "execute_result"
    }
   ],
   "source": [
    "txt_data_dir = \"data/text\"\n",
    "txt_files = [f for f in os.listdir(txt_data_dir) if \".txt\" in f]\n",
    "txt_files"
   ]
  },
  {
   "cell_type": "code",
   "execution_count": 25,
   "id": "2700a856-f979-4765-b433-1ec2c1e9047a",
   "metadata": {},
   "outputs": [],
   "source": [
    "nyc_wiki_index = \"nyc_restaurants_wiki\""
   ]
  },
  {
   "cell_type": "code",
   "execution_count": 26,
   "id": "d03487af-d77e-4b59-864c-43e36f0600fb",
   "metadata": {},
   "outputs": [
    {
     "data": {
      "text/plain": [
       "(38, [])"
      ]
     },
     "execution_count": 26,
     "metadata": {},
     "output_type": "execute_result"
    }
   ],
   "source": [
    "documents = []\n",
    "for txt in txt_files:\n",
    "    with open(os.path.join(txt_data_dir, txt), \"r\") as f:\n",
    "        data = f.read()\n",
    "        document = {\"wiki\": str(data)}\n",
    "        documents.append(document)\n",
    "helpers.bulk(client, documents, index=nyc_wiki_index)"
   ]
  },
  {
   "cell_type": "code",
   "execution_count": 27,
   "id": "405a5d6f-d819-4cab-828f-72a7d3ac7798",
   "metadata": {},
   "outputs": [
    {
     "name": "stdout",
     "output_type": "stream",
     "text": [
      "{\n",
      "    \"nyc_restaurants_wiki\": {\n",
      "        \"mappings\": {\n",
      "            \"properties\": {\n",
      "                \"wiki\": {\n",
      "                    \"type\": \"text\",\n",
      "                    \"fields\": {\n",
      "                        \"keyword\": {\n",
      "                            \"type\": \"keyword\",\n",
      "                            \"ignore_above\": 256\n",
      "                        }\n",
      "                    }\n",
      "                }\n",
      "            }\n",
      "        }\n",
      "    }\n",
      "}\n"
     ]
    }
   ],
   "source": [
    "mapping = client.indices.get_mapping(index=nyc_wiki_index)\n",
    "print(json.dumps(dict(mapping), indent=4))"
   ]
  },
  {
   "cell_type": "markdown",
   "id": "7195111c-f447-4532-9a0d-9e810613e9e1",
   "metadata": {},
   "source": [
    "#### Query to match all documents"
   ]
  },
  {
   "cell_type": "code",
   "execution_count": 31,
   "id": "a0c04227-78eb-4c88-9b18-beace8786d53",
   "metadata": {},
   "outputs": [],
   "source": [
    "query = {\n",
    "    \"query\": {\n",
    "        \"match_all\": {}\n",
    "    },\n",
    "    \"size\": 2546  \n",
    "}\n",
    "\n",
    "resp = client.search(index=nyc_index, body=query)\n",
    "#resp"
   ]
  },
  {
   "cell_type": "code",
   "execution_count": 33,
   "id": "b13f46ed-4f01-4249-add6-49ec7abc823c",
   "metadata": {},
   "outputs": [],
   "source": [
    "query = {\n",
    "    \"query\": {\n",
    "        \"match_all\": {}\n",
    "    },\n",
    "    \"size\": 2546  \n",
    "}\n",
    "\n",
    "resp = client.search(index=nyc_wiki_index, body=query)\n",
    "#resp"
   ]
  },
  {
   "cell_type": "markdown",
   "id": "e70c7520-7e48-4750-8b58-87b3721d7b44",
   "metadata": {},
   "source": [
    "### Full Query DSL (Domain Specific Language)"
   ]
  },
  {
   "cell_type": "markdown",
   "id": "f439b45d-1d0f-4dc5-b129-fe7a45e27fd8",
   "metadata": {},
   "source": [
    "### `search` method\n",
    "\n",
    "- Allows you to execute a search query and get back search hits that match the query. You can provide search queries using the q query string parameter or request body.\n",
    "- documentation: https://www.elastic.co/guide/en/elasticsearch/reference/current/search-search.html"
   ]
  },
  {
   "cell_type": "markdown",
   "id": "2829be55-afd9-417b-ace7-3186308de54a",
   "metadata": {},
   "source": [
    "#### (Simple search) Q1: Find all restaurants in Manhattan that were subject to inspection."
   ]
  },
  {
   "cell_type": "code",
   "execution_count": 34,
   "id": "b2d2a416-3e3f-4588-ab3e-520420806030",
   "metadata": {},
   "outputs": [
    {
     "name": "stdout",
     "output_type": "stream",
     "text": [
      "BOCCA DI BACCO Manhattan 167 9 AVENUE\n",
      "SOL MEXICAN COCINA Manhattan 220 5 AVENUE\n",
      "FIRECRACKER WINGS Manhattan 430 2 AVENUE\n",
      "31 LILY'S Manhattan 31 OLIVER STREET\n",
      "SPICY MOON VEGETARIAN SZECHUAN Manhattan 68 WEST    3 STREET\n",
      "K-BAP Manhattan 62 WEST   56 STREET\n",
      "ST GEORGE TAVERN RESTAURANT & BAR Manhattan 103 WASHINGTON STREET\n",
      "SOM BO Manhattan 143 8 AVENUE\n",
      "GAMMEEOK Manhattan 9 WEST   32 STREET\n",
      "ABITINO'S PIZZA Manhattan 707 2 AVENUE\n"
     ]
    }
   ],
   "source": [
    "response = client.search(\n",
    "    index=nyc_index,\n",
    "    body={\n",
    "        \"query\": {\n",
    "            \"match\": {\n",
    "                \"BORO\": \"Manhattan\"\n",
    "            }\n",
    "        }\n",
    "    }\n",
    ")\n",
    "\n",
    "for hit in response['hits']['hits']:\n",
    "    print(hit['_source']['DBA'], hit['_source']['BORO'], \\\n",
    "         hit['_source']['BUILDING'], hit['_source']['STREET'])"
   ]
  },
  {
   "cell_type": "markdown",
   "id": "bdd2c9f4-8973-4f52-bd08-abd4c86e0350",
   "metadata": {},
   "source": [
    "### Controlling size of the `hits` and the `_source` fields"
   ]
  },
  {
   "cell_type": "code",
   "execution_count": 36,
   "id": "e98c5b91-b89a-45d1-b1df-c0fa542bf405",
   "metadata": {},
   "outputs": [
    {
     "name": "stdout",
     "output_type": "stream",
     "text": [
      "931\n"
     ]
    }
   ],
   "source": [
    "response = client.search(\n",
    "    index=nyc_index,\n",
    "    body={\n",
    "        \"query\": {\n",
    "            \"match\": {\n",
    "                \"BORO\": \"Manhattan\"\n",
    "            }\n",
    "        },\n",
    "        \"_source\": [\"DBA\", \"BORO\", \"BUILDING\", \"STREET\"],\n",
    "        \"size\": 1000\n",
    "    }\n",
    ")\n",
    "\n",
    "print(response['hits']['total']['value'])\n",
    "\n",
    "# for hit in response['hits']['hits']:\n",
    "#     # print(hit['_source']['DBA'], hit['_source']['BORO'], \\\n",
    "#     #      hit['_source']['BUILDING'], hit['_source']['STREET'])\n",
    "#     print(hit['_source'])"
   ]
  },
  {
   "cell_type": "markdown",
   "id": "6d3b3068-ccf7-4ce4-975a-eb2964b2acb7",
   "metadata": {},
   "source": [
    "#### (Simple search) Q2: Find all inspected \"Pizza\" restaurants."
   ]
  },
  {
   "cell_type": "code",
   "execution_count": 37,
   "id": "b6bfd7e4-8cc0-41d2-8d1b-7dfe0a11ebf6",
   "metadata": {},
   "outputs": [
    {
     "name": "stdout",
     "output_type": "stream",
     "text": [
      "HOUSE PIZZA\n",
      "MR. PIZZA\n",
      "ABITINO'S PIZZA\n",
      "PIZZA ART\n",
      "Jet's Pizza\n",
      "MASPETH PIZZA\n",
      "DREAM PIZZA\n",
      "Luv Pizza\n",
      "NAPOLI PIZZA\n",
      "VALENTINE'S PIZZA\n"
     ]
    }
   ],
   "source": [
    "response = client.search(\n",
    "    index=nyc_index,\n",
    "    body={\n",
    "        \"query\": {\n",
    "            \"match\": {\n",
    "                \"DBA\": \"Pizza\"\n",
    "            }\n",
    "        }\n",
    "    }\n",
    ")\n",
    "\n",
    "for hit in response['hits']['hits']:\n",
    "    print(hit['_source']['DBA'])"
   ]
  },
  {
   "cell_type": "markdown",
   "id": "a9ef23c7-0885-4232-8182-1b92b8e34a47",
   "metadata": {},
   "source": [
    "#### (Fuzzy search) Q3: Find all inspected restaurants whose names are similar to \"Mamma Mia\"."
   ]
  },
  {
   "cell_type": "code",
   "execution_count": 38,
   "id": "c2c2583c-4fb8-4def-a2da-99d53e2b9618",
   "metadata": {},
   "outputs": [
    {
     "name": "stdout",
     "output_type": "stream",
     "text": [
      "MIRA SUSHI, FRESH MIX\n",
      "TACO MIX\n",
      "CAFE MIX\n",
      "MAMA BELLA\n",
      "MAMA TACO\n",
      "MAMA SUSHI\n",
      "EMPANADA MAMA\n",
      "VIA PONTE PIZZERIA\n",
      "EL RINCONCITO MIX\n",
      "GIA LAM II\n"
     ]
    }
   ],
   "source": [
    "response = client.search(\n",
    "    index=nyc_index,\n",
    "    body={\n",
    "        \"query\": {\n",
    "            \"match\": {\n",
    "                \"DBA\": {\n",
    "                    \"query\": \"Mamma Mia\",\n",
    "                    \"fuzziness\": \"AUTO\"\n",
    "                }\n",
    "            }\n",
    "        }\n",
    "    }\n",
    ")\n",
    "\n",
    "for hit in response['hits']['hits']:\n",
    "    print(hit['_source']['DBA'])"
   ]
  },
  {
   "cell_type": "markdown",
   "id": "96922b79-7afe-4ae1-a487-25702233165d",
   "metadata": {},
   "source": [
    "#### (Phrase match search) Q4: Find all inspected restaurants whose violations that have the phrase \"food worker\"."
   ]
  },
  {
   "cell_type": "code",
   "execution_count": 44,
   "id": "868a85f6-4d55-43d7-8b38-d5369053ffd3",
   "metadata": {},
   "outputs": [
    {
     "name": "stdout",
     "output_type": "stream",
     "text": [
      "MAISONETTA Food worker does not use proper utensil to eliminate bare hand contact with food that will not receive adequate additional heat treatment.\n",
      "(LEWIS DRUG STORE) LOCANDA VINI E OLII Food worker does not use proper utensil to eliminate bare hand contact with food that will not receive adequate additional heat treatment.\n",
      "NEW LONG RIVER Food worker/food vendor does not use utensil or other barrier to eliminate bare hand contact with food that will not receive adequate additional heat treatment.\n",
      "WILD IVY Food worker/food vendor does not use utensil or other barrier to eliminate bare hand contact with food that will not receive adequate additional heat treatment.\n",
      "MACOLETTA BRICK OVEN PIZZERIA Food worker/food vendor does not use utensil or other barrier to eliminate bare hand contact with food that will not receive adequate additional heat treatment.\n",
      "GIA LAM II Food worker/food vendor does not use utensil or other barrier to eliminate bare hand contact with food that will not receive adequate additional heat treatment.\n",
      "LITTLE SOUP DUMPLING Food worker/food vendor does not use utensil or other barrier to eliminate bare hand contact with food that will not receive adequate additional heat treatment.\n",
      "LORD'S Food worker/food vendor does not use utensil or other barrier to eliminate bare hand contact with food that will not receive adequate additional heat treatment.\n",
      "RAVEN PUB Food worker/food vendor does not use utensil or other barrier to eliminate bare hand contact with food that will not receive adequate additional heat treatment.\n",
      "MSMA PUEBLA Food worker/food vendor does not use utensil or other barrier to eliminate bare hand contact with food that will not receive adequate additional heat treatment.\n"
     ]
    }
   ],
   "source": [
    "response = client.search(\n",
    "    index=nyc_index,\n",
    "    body={\n",
    "        \"query\": {\n",
    "            \"match_phrase\": {\n",
    "                \"VIOLATION DESCRIPTION\": \"food worker\"\n",
    "            }\n",
    "        }\n",
    "    }\n",
    ")\n",
    "\n",
    "for hit in response['hits']['hits']:\n",
    "    print(hit['_source']['DBA'], \\\n",
    "         hit['_source']['VIOLATION DESCRIPTION'])"
   ]
  },
  {
   "cell_type": "markdown",
   "id": "8774442d-7fbc-4c0b-ae7a-7224f343145b",
   "metadata": {},
   "source": [
    "#### (Multi field match search) Q5: Find all restaurants that have \"Pizza\" or \"Pasta\" in either their name or their \"CUISINE DESCRIPTION\"."
   ]
  },
  {
   "cell_type": "code",
   "execution_count": 45,
   "id": "31789ae5-74e9-41e8-a540-299280664985",
   "metadata": {},
   "outputs": [
    {
     "name": "stdout",
     "output_type": "stream",
     "text": [
      "LALLISTA PIZZA & PASTA: Pizza\n",
      "HOUSE PIZZA: Pizza\n",
      "MR. PIZZA: Pizza\n",
      "ABITINO'S PIZZA: Pizza\n",
      "PIZZA ART: Pizza\n",
      "Jet's Pizza: Pizza\n",
      "MASPETH PIZZA: Pizza\n",
      "DREAM PIZZA: Pizza\n",
      "Luv Pizza: Pizza\n",
      "NAPOLI PIZZA: Pizza\n"
     ]
    }
   ],
   "source": [
    "response = client.search(\n",
    "    index=\"nyc_restaurants\",\n",
    "    body={\n",
    "        \"query\": {\n",
    "            \"multi_match\": {\n",
    "                \"query\": \"Pizza Pasta\",\n",
    "                \"fields\": [\"DBA\", \"CUISINE DESCRIPTION\"],\n",
    "                \"type\": \"most_fields\" \n",
    "            }\n",
    "        }\n",
    "    }\n",
    ")\n",
    "\n",
    "for hit in response['hits']['hits']:\n",
    "    print(f\"{hit['_source']['DBA']}: {hit['_source']['CUISINE DESCRIPTION']}\")"
   ]
  },
  {
   "cell_type": "markdown",
   "id": "7af20360-5e61-4a96-8183-656b32310b43",
   "metadata": {},
   "source": [
    "#### Q6: Find all inspected restaurants that have Italian or Mexican in their \"CUISINE DESCRIPTION\"."
   ]
  },
  {
   "cell_type": "markdown",
   "id": "ae68741d-0983-4b1a-8b60-da98ca2d9737",
   "metadata": {},
   "source": [
    "Using `multi_match`."
   ]
  },
  {
   "cell_type": "code",
   "execution_count": 46,
   "id": "7fe36bcb-e5fa-4d8d-8d8c-6a31664439fe",
   "metadata": {},
   "outputs": [
    {
     "name": "stdout",
     "output_type": "stream",
     "text": [
      "191\n",
      "BOCCA DI BACCO Italian\n",
      "CAMILLO Italian\n",
      "ONE FIFTH Italian\n",
      "SALUGGI'S EAST Italian\n",
      "ARTE CAFE & EL COCO Italian\n",
      "OLIO E PIU Italian\n",
      "NONNA BEPPA Italian\n",
      "OBICA MOZZARELLA BAR Italian\n",
      "MANGIA Italian\n",
      "PATRIZIA OF MASPETH Italian\n",
      "SERAFINA VINO E CUCINA Italian\n",
      "LA LANTERNA DI VITTORIO Italian\n",
      "GABRIEL'S BAR & RESTAURANT Italian\n",
      "VERDE CAFE & LOUNGE Italian\n",
      "TRATTORIA L'INCONTRO Italian\n",
      "CHELSEA RISTORANTE Italian\n",
      "PEPE ROSSO TO GO Italian\n",
      "FORSYTHIA Italian\n",
      "IL MULINO PRIME Italian\n",
      "LONGO BROS Italian\n",
      "PISILLO ITALIAN PANINI Italian\n",
      "PROVINI CAFE Italian\n",
      "ALITALIA MICHELANGELO LOUNGE Italian\n",
      "TRE Italian\n",
      "SALUGGI'S EAST Italian\n",
      "MARIO'S RESTAURANT Italian\n",
      "OTTAVA/ ST EVES (471 12 STREET) Italian\n",
      "BECCO Italian\n",
      "BRIOSO RISTORANTE Italian\n",
      "ENZO'S OF ARTHUR AVE Italian\n",
      "OSTERIA NONNINO Italian\n",
      "PICCOLA STRADA RESTAURANT Italian\n",
      "SAM'S PLACE Italian\n",
      "NINOS RESTAURANT Italian\n",
      "ILMULINO Italian\n",
      "DA UMBERTO RESTAURANT Italian\n",
      "MANGIA Italian\n",
      "DA ANDREA Italian\n",
      "(LEWIS DRUG STORE) LOCANDA VINI E OLII Italian\n",
      "PAZZA NOTTE Italian\n",
      "PIZZARTE Italian\n",
      "SPEEDY ROMEO Italian\n",
      "FUMO Italian\n",
      "ALICE Italian\n",
      "FELICE Italian\n",
      "BICE CUCINA Italian\n",
      "PATSY'S PIZZERIA Italian\n",
      "VINNY'S OF CARROLL GARDEN RESTAURANT & LUNCHEONETT Italian\n",
      "DA TOMMASSO Italian\n",
      "ORTOMARE RISTORANTE PIZZERIA Italian\n",
      "BICE CUCINA Italian\n",
      "LINCONTRO BY ROCCO Italian\n",
      "SERAFINA LUDLOW Italian\n",
      "BAR CAMILLO Italian\n",
      "VINNY'S OF CARROLL GARDEN RESTAURANT & LUNCHEONETT Italian\n",
      "FRANK'S PIZZERIA, DA FRANCO AND TONY RESTAURANT Italian\n",
      "MASSERIA CAFFE Italian\n",
      "SETTE MEZZO Italian\n",
      "ORSO Italian\n",
      "TOSCANA 49 Italian\n",
      "FASANO Italian\n",
      "MASSERIA CAFFE Italian\n",
      "OSTERIA SANTINA Italian\n",
      "HARRY'S ITALIAN Italian\n",
      "LUIGI'S CATERING Italian\n",
      "EPISTROPHY CAFE Italian\n",
      "GIANO Italian\n",
      "PEPOLINO Italian\n",
      "SAN GENNARO Italian\n",
      "ANTONIO'S TRATTORIA Italian\n",
      "SIENA CAFE Italian\n",
      "TESTO Italian\n",
      "PICCOLA CUCINA Italian\n",
      "FRESCO Italian\n",
      "PETALUMA Italian\n",
      "WILD Italian\n",
      "IL CORTILE RESTAURANT Italian\n",
      "DA NONNA ROSA Italian\n",
      "PEPE GIALLO Italian\n",
      "SOL MEXICAN COCINA Mexican\n",
      "MITI MITI TAPERIA Mexican\n",
      "IXTA Mexican\n",
      "EL TRI MX RESTAURANT & BAR CORP Mexican\n",
      "NOCHE MEXICANA II Mexican\n",
      "EL MAGUEY Mexican\n",
      "BIRRIA LES TACOS Mexican\n",
      "TACQUERIA FORT GREENE Mexican\n",
      "ANEJO TRIBECA Mexican\n",
      "QUESADILLAS DONA MATY Mexican\n",
      "CILANTRO EAST Mexican\n",
      "SUPER BURRITO Mexican\n",
      "ROSIE'S Mexican\n",
      "FONDA Mexican\n",
      "RANCHO ESTRELLA RESTAURANT Mexican\n",
      "LA PATRONA Mexican\n",
      "FLORES BRUNCH Mexican\n",
      "EL AGUACATE BAR RESTAURANT Mexican\n",
      "ALEGRIA BAR & RESTAURANT Mexican\n",
      "WUARACHE RESTAURANT Mexican\n",
      "ENERGY JUICE BAR Mexican\n",
      "TAQUERIA EL FOGON Mexican\n",
      "NOCHES MEXICANAS Mexican\n",
      "FONDA OF CHELSEA Mexican\n",
      "EL RANCHO DE MEXICO Mexican\n",
      "MEXICUE Mexican\n",
      "FRIJOLITO'S RESTAURANT Mexican\n",
      "XOCHIMILCO FAMILY REST Mexican\n",
      "MOE'S SOUTHWEST GRILL Mexican\n",
      "TV EYE Mexican\n",
      "CASTRO'S RESTAURANT Mexican\n",
      "MAISONETTA Mexican\n",
      "LA COMADRE MEXICAN RESTAURANT & BAKERY Mexican\n",
      "MITI MITI TAPERIA Mexican\n",
      "DOS TOROS Mexican\n",
      "CAVA MEZZE GRILL Mexican\n",
      "HOMEMADE TAQUERIA Mexican\n",
      "TACOS SAN LUCAS II Mexican\n",
      "LA IGUANA AZUL RESTAURANT Mexican\n",
      "YOLPAQUI TAQUERIA Mexican\n",
      "PONCHE TAQUERIA Mexican\n",
      "LAS CHATAS TAQUERIA & DELI GROCERY Mexican\n",
      "EL TEXANO RESTAURANT Mexican\n",
      "TAQUERIA ACATLAN Mexican\n",
      "ARRIBA ARRIBA Mexican\n",
      "MEZCALS RESTAURANT Mexican\n",
      "LA PATRONA Mexican\n",
      "SERRANO SALSA Mexican\n",
      "OLLIN Mexican\n",
      "HOMEMADE TAQUERIA Mexican\n",
      "SOFIA'S GUAC BAR Mexican\n",
      "EL MEXICANO RESTAURANTE AND CAFE Mexican\n",
      "EL REY DEL TACO Mexican\n",
      "DONA ZITA MEXICAN FOOD Mexican\n",
      "TACO BELL Mexican\n",
      "PABLITO'S TAQUERIA RESTAURANT Mexican\n",
      "ASTORIA TACO FACTORY Mexican\n",
      "TAQUERIA LUPITA II Mexican\n",
      "EL PORTON BAR & RESTAURANT Mexican\n",
      "MIJO Mexican\n",
      "THE RED GRILL MEXICAN RESTAURANT Mexican\n",
      "RINCONCITO FAMILIAR MEXICAN CUISINE Mexican\n",
      "LUPITA RESTAURANT Mexican\n",
      "HOT PEPPERS Mexican\n",
      "EL MERO MERO Mexican\n",
      "FAST & FRESH BURRITO DELI Mexican\n",
      "TACOBEES Mexican\n",
      "PINK TACO Mexican\n",
      "DELICIAS MEXICANAS Mexican\n",
      "ANTOJITOS ACATLAN Mexican\n",
      "TAQUERIA EMILIO 3 Mexican\n",
      "MSMA PUEBLA Mexican\n",
      "VIRTUAL CRAVINGS Mexican\n",
      "TAQUERIA RESTAURANTE MI BARRIO Mexican\n",
      "LA FOGATA Mexican\n",
      "NUEVO MEXICO MEXICAN RESTAURANT Mexican\n",
      "RECUERDOS MEXICANOS Mexican\n",
      "D'ANGELO'S PIZZA, PANCHO'S MEXICAN RESTAURANT Mexican\n",
      "TAQUERIA PANTITLAN Mexican\n",
      "BRASIER Mexican\n",
      "BLUEBERRY Mexican\n",
      "LUCHADORES Mexican\n",
      "FRESCO' S GRAND CANTINA Mexican\n",
      "QDOBA Mexican\n",
      "GIOVANNI'S PIZZA & MEXICAN RESTAURANT Mexican\n",
      "LOLA'S Mexican\n",
      "B'KLYN BURRO Mexican\n",
      "MEXICAN DINER Mexican\n",
      "TULCINGO RESTAURANT Mexican\n",
      "ANGELITOS BAKERY Mexican\n",
      "I X CAFE Mexican\n",
      "SPORTS BAR ATHEN'S GRILL Mexican\n",
      "TORO LOCO Mexican\n",
      "COFFEE TIME Mexican\n",
      "CASA PUBLICA Mexican\n",
      "LA PATRONA Mexican\n",
      "COMPADRES MEXICAN FOOD Mexican\n",
      "PARRILLADAS SUNRISE MEXICAN RESTAURANT BAR Mexican\n",
      "NOCHE DE MARGARITAS RESTAURANT Mexican\n",
      "TACOS EL COYOTE RESTAURANT Mexican\n",
      "ALMA NEGRA Mexican\n",
      "EL PARADOR CAFE Mexican\n",
      "RINCONCITO FAMILIAR MEXICAN CUISINE Mexican\n",
      "AZUL TEQUILA MEXICAN RESTAURANT Mexican\n",
      "EMILY'S BAKERY Mexican\n",
      "PIAXTLA ES MEXICO DELI Mexican\n",
      "TAQUERIA EMILIO Mexican\n",
      "CAFE CON AMOR Mexican\n",
      "BLUE AGAVE Mexican\n",
      "TAQUERIA CHILA Mexican\n",
      "EL VAQUERITO Mexican\n",
      "BLUE MAIZ Mexican\n"
     ]
    }
   ],
   "source": [
    "query = {\n",
    "    \"query\": {\n",
    "        \"multi_match\": {\n",
    "            \"query\": \"Italian Mexican\",\n",
    "            \"fields\": [\"CUISINE DESCRIPTION\"],\n",
    "            \"operator\": \"OR\"\n",
    "        }\n",
    "    },\n",
    "    \"size\": 200\n",
    "}\n",
    "\n",
    "response = client.search(index=nyc_index, body=query)\n",
    "print(response['hits']['total']['value'])\n",
    "for hit in response['hits']['hits']:\n",
    "    print(hit['_source']['DBA'], hit['_source']['CUISINE DESCRIPTION'])"
   ]
  },
  {
   "cell_type": "markdown",
   "id": "35d798df-3a3b-498f-ab2b-a999e5dfe66e",
   "metadata": {},
   "source": [
    "Using `simple_query_string`."
   ]
  },
  {
   "cell_type": "code",
   "execution_count": 47,
   "id": "8a61691b-5e1a-418b-be16-6ae391fac712",
   "metadata": {},
   "outputs": [
    {
     "name": "stdout",
     "output_type": "stream",
     "text": [
      "191\n",
      "BOCCA DI BACCO : Italian\n",
      "CAMILLO : Italian\n",
      "ONE FIFTH : Italian\n",
      "SALUGGI'S EAST : Italian\n",
      "ARTE CAFE & EL COCO : Italian\n",
      "OLIO E PIU : Italian\n",
      "NONNA BEPPA : Italian\n",
      "OBICA MOZZARELLA BAR : Italian\n",
      "MANGIA : Italian\n",
      "PATRIZIA OF MASPETH : Italian\n",
      "SERAFINA VINO E CUCINA : Italian\n",
      "LA LANTERNA DI VITTORIO : Italian\n",
      "GABRIEL'S BAR & RESTAURANT : Italian\n",
      "VERDE CAFE & LOUNGE : Italian\n",
      "TRATTORIA L'INCONTRO : Italian\n",
      "CHELSEA RISTORANTE : Italian\n",
      "PEPE ROSSO TO GO : Italian\n",
      "FORSYTHIA : Italian\n",
      "IL MULINO PRIME : Italian\n",
      "LONGO BROS : Italian\n",
      "PISILLO ITALIAN PANINI : Italian\n",
      "PROVINI CAFE : Italian\n",
      "ALITALIA MICHELANGELO LOUNGE : Italian\n",
      "TRE : Italian\n",
      "SALUGGI'S EAST : Italian\n",
      "MARIO'S RESTAURANT : Italian\n",
      "OTTAVA/ ST EVES (471 12 STREET) : Italian\n",
      "BECCO : Italian\n",
      "BRIOSO RISTORANTE : Italian\n",
      "ENZO'S OF ARTHUR AVE : Italian\n",
      "OSTERIA NONNINO : Italian\n",
      "PICCOLA STRADA RESTAURANT : Italian\n",
      "SAM'S PLACE : Italian\n",
      "NINOS RESTAURANT : Italian\n",
      "ILMULINO : Italian\n",
      "DA UMBERTO RESTAURANT : Italian\n",
      "MANGIA : Italian\n",
      "DA ANDREA : Italian\n",
      "(LEWIS DRUG STORE) LOCANDA VINI E OLII : Italian\n",
      "PAZZA NOTTE : Italian\n",
      "PIZZARTE : Italian\n",
      "SPEEDY ROMEO : Italian\n",
      "FUMO : Italian\n",
      "ALICE : Italian\n",
      "FELICE : Italian\n",
      "BICE CUCINA : Italian\n",
      "PATSY'S PIZZERIA : Italian\n",
      "VINNY'S OF CARROLL GARDEN RESTAURANT & LUNCHEONETT : Italian\n",
      "DA TOMMASSO : Italian\n",
      "ORTOMARE RISTORANTE PIZZERIA : Italian\n",
      "BICE CUCINA : Italian\n",
      "LINCONTRO BY ROCCO : Italian\n",
      "SERAFINA LUDLOW : Italian\n",
      "BAR CAMILLO : Italian\n",
      "VINNY'S OF CARROLL GARDEN RESTAURANT & LUNCHEONETT : Italian\n",
      "FRANK'S PIZZERIA, DA FRANCO AND TONY RESTAURANT : Italian\n",
      "MASSERIA CAFFE : Italian\n",
      "SETTE MEZZO : Italian\n",
      "ORSO : Italian\n",
      "TOSCANA 49 : Italian\n",
      "FASANO : Italian\n",
      "MASSERIA CAFFE : Italian\n",
      "OSTERIA SANTINA : Italian\n",
      "HARRY'S ITALIAN : Italian\n",
      "LUIGI'S CATERING : Italian\n",
      "EPISTROPHY CAFE : Italian\n",
      "GIANO : Italian\n",
      "PEPOLINO : Italian\n",
      "SAN GENNARO : Italian\n",
      "ANTONIO'S TRATTORIA : Italian\n",
      "SIENA CAFE : Italian\n",
      "TESTO : Italian\n",
      "PICCOLA CUCINA : Italian\n",
      "FRESCO : Italian\n",
      "PETALUMA : Italian\n",
      "WILD : Italian\n",
      "IL CORTILE RESTAURANT : Italian\n",
      "DA NONNA ROSA : Italian\n",
      "PEPE GIALLO : Italian\n",
      "SOL MEXICAN COCINA : Mexican\n",
      "MITI MITI TAPERIA : Mexican\n",
      "IXTA : Mexican\n",
      "EL TRI MX RESTAURANT & BAR CORP : Mexican\n",
      "NOCHE MEXICANA II : Mexican\n",
      "EL MAGUEY : Mexican\n",
      "BIRRIA LES TACOS : Mexican\n",
      "TACQUERIA FORT GREENE : Mexican\n",
      "ANEJO TRIBECA : Mexican\n",
      "QUESADILLAS DONA MATY : Mexican\n",
      "CILANTRO EAST : Mexican\n",
      "SUPER BURRITO : Mexican\n",
      "ROSIE'S : Mexican\n",
      "FONDA : Mexican\n",
      "RANCHO ESTRELLA RESTAURANT : Mexican\n",
      "LA PATRONA : Mexican\n",
      "FLORES BRUNCH : Mexican\n",
      "EL AGUACATE BAR RESTAURANT : Mexican\n",
      "ALEGRIA BAR & RESTAURANT : Mexican\n",
      "WUARACHE RESTAURANT : Mexican\n",
      "ENERGY JUICE BAR : Mexican\n",
      "TAQUERIA EL FOGON : Mexican\n",
      "NOCHES MEXICANAS : Mexican\n",
      "FONDA OF CHELSEA : Mexican\n",
      "EL RANCHO DE MEXICO : Mexican\n",
      "MEXICUE : Mexican\n",
      "FRIJOLITO'S RESTAURANT : Mexican\n",
      "XOCHIMILCO FAMILY REST : Mexican\n",
      "MOE'S SOUTHWEST GRILL : Mexican\n",
      "TV EYE : Mexican\n",
      "CASTRO'S RESTAURANT : Mexican\n",
      "MAISONETTA : Mexican\n",
      "LA COMADRE MEXICAN RESTAURANT & BAKERY : Mexican\n",
      "MITI MITI TAPERIA : Mexican\n",
      "DOS TOROS : Mexican\n",
      "CAVA MEZZE GRILL : Mexican\n",
      "HOMEMADE TAQUERIA : Mexican\n",
      "TACOS SAN LUCAS II : Mexican\n",
      "LA IGUANA AZUL RESTAURANT : Mexican\n",
      "YOLPAQUI TAQUERIA : Mexican\n",
      "PONCHE TAQUERIA : Mexican\n",
      "LAS CHATAS TAQUERIA & DELI GROCERY : Mexican\n",
      "EL TEXANO RESTAURANT : Mexican\n",
      "TAQUERIA ACATLAN : Mexican\n",
      "ARRIBA ARRIBA : Mexican\n",
      "MEZCALS RESTAURANT : Mexican\n",
      "LA PATRONA : Mexican\n",
      "SERRANO SALSA : Mexican\n",
      "OLLIN : Mexican\n",
      "HOMEMADE TAQUERIA : Mexican\n",
      "SOFIA'S GUAC BAR : Mexican\n",
      "EL MEXICANO RESTAURANTE AND CAFE : Mexican\n",
      "EL REY DEL TACO : Mexican\n",
      "DONA ZITA MEXICAN FOOD : Mexican\n",
      "TACO BELL : Mexican\n",
      "PABLITO'S TAQUERIA RESTAURANT : Mexican\n",
      "ASTORIA TACO FACTORY : Mexican\n",
      "TAQUERIA LUPITA II : Mexican\n",
      "EL PORTON BAR & RESTAURANT : Mexican\n",
      "MIJO : Mexican\n",
      "THE RED GRILL MEXICAN RESTAURANT : Mexican\n",
      "RINCONCITO FAMILIAR MEXICAN CUISINE : Mexican\n",
      "LUPITA RESTAURANT : Mexican\n",
      "HOT PEPPERS : Mexican\n",
      "EL MERO MERO : Mexican\n",
      "FAST & FRESH BURRITO DELI : Mexican\n",
      "TACOBEES : Mexican\n",
      "PINK TACO : Mexican\n",
      "DELICIAS MEXICANAS : Mexican\n",
      "ANTOJITOS ACATLAN : Mexican\n",
      "TAQUERIA EMILIO 3 : Mexican\n",
      "MSMA PUEBLA : Mexican\n",
      "VIRTUAL CRAVINGS : Mexican\n",
      "TAQUERIA RESTAURANTE MI BARRIO : Mexican\n",
      "LA FOGATA : Mexican\n",
      "NUEVO MEXICO MEXICAN RESTAURANT : Mexican\n",
      "RECUERDOS MEXICANOS : Mexican\n",
      "D'ANGELO'S PIZZA, PANCHO'S MEXICAN RESTAURANT : Mexican\n",
      "TAQUERIA PANTITLAN : Mexican\n",
      "BRASIER : Mexican\n",
      "BLUEBERRY : Mexican\n",
      "LUCHADORES : Mexican\n",
      "FRESCO' S GRAND CANTINA : Mexican\n",
      "QDOBA : Mexican\n",
      "GIOVANNI'S PIZZA & MEXICAN RESTAURANT : Mexican\n",
      "LOLA'S : Mexican\n",
      "B'KLYN BURRO : Mexican\n",
      "MEXICAN DINER : Mexican\n",
      "TULCINGO RESTAURANT : Mexican\n",
      "ANGELITOS BAKERY : Mexican\n",
      "I X CAFE : Mexican\n",
      "SPORTS BAR ATHEN'S GRILL : Mexican\n",
      "TORO LOCO : Mexican\n",
      "COFFEE TIME : Mexican\n",
      "CASA PUBLICA : Mexican\n",
      "LA PATRONA : Mexican\n",
      "COMPADRES MEXICAN FOOD : Mexican\n",
      "PARRILLADAS SUNRISE MEXICAN RESTAURANT BAR : Mexican\n",
      "NOCHE DE MARGARITAS RESTAURANT : Mexican\n",
      "TACOS EL COYOTE RESTAURANT : Mexican\n",
      "ALMA NEGRA : Mexican\n",
      "EL PARADOR CAFE : Mexican\n",
      "RINCONCITO FAMILIAR MEXICAN CUISINE : Mexican\n",
      "AZUL TEQUILA MEXICAN RESTAURANT : Mexican\n",
      "EMILY'S BAKERY : Mexican\n",
      "PIAXTLA ES MEXICO DELI : Mexican\n",
      "TAQUERIA EMILIO : Mexican\n",
      "CAFE CON AMOR : Mexican\n",
      "BLUE AGAVE : Mexican\n",
      "TAQUERIA CHILA : Mexican\n",
      "EL VAQUERITO : Mexican\n",
      "BLUE MAIZ : Mexican\n"
     ]
    }
   ],
   "source": [
    "query = {\n",
    "    \"query\": {\n",
    "        \"simple_query_string\": {\n",
    "            \"query\": \"Italian | Mexican\",\n",
    "            \"fields\": [\"CUISINE DESCRIPTION\"]\n",
    "        }\n",
    "    },\n",
    "    \"size\": 200\n",
    "}\n",
    "response = client.search(index=nyc_index, body=query)\n",
    "print(response['hits']['total']['value'])\n",
    "\n",
    "for hit in response['hits']['hits']:\n",
    "    print(hit['_source']['DBA'], \":\", hit['_source']['CUISINE DESCRIPTION'])\n"
   ]
  },
  {
   "cell_type": "markdown",
   "id": "564db554-f6b1-40c9-97a1-927f1ea998e0",
   "metadata": {},
   "source": [
    "### Boosting\n",
    "\n",
    "- Boosting is the process by which you can modify the relevance of a document.\n",
    "- There are two different types of boosting: boost at indexing or boost while querying.\n",
    "- Reading: https://weng.gitbooks.io/elasticsearch-in-action/content/chapter6_searching_with_relevancy/63boosting.html "
   ]
  },
  {
   "cell_type": "markdown",
   "id": "51a451db-ed02-4050-bcb8-e046f1471bbe",
   "metadata": {},
   "source": [
    "#### Q7: Find all inspected restaurants that have Italian or Mexican in their \"CUISINE DESCRIPTION\" with higher scoring for Mexican (10.0)."
   ]
  },
  {
   "cell_type": "code",
   "execution_count": 48,
   "id": "e68377a0-4f29-4719-baa8-9829768f4938",
   "metadata": {},
   "outputs": [
    {
     "name": "stdout",
     "output_type": "stream",
     "text": [
      "191\n",
      "BOCCA DI BACCO : Italian\n",
      "CAMILLO : Italian\n",
      "ONE FIFTH : Italian\n",
      "SALUGGI'S EAST : Italian\n",
      "ARTE CAFE & EL COCO : Italian\n",
      "OLIO E PIU : Italian\n",
      "NONNA BEPPA : Italian\n",
      "OBICA MOZZARELLA BAR : Italian\n",
      "MANGIA : Italian\n",
      "PATRIZIA OF MASPETH : Italian\n",
      "SERAFINA VINO E CUCINA : Italian\n",
      "LA LANTERNA DI VITTORIO : Italian\n",
      "GABRIEL'S BAR & RESTAURANT : Italian\n",
      "VERDE CAFE & LOUNGE : Italian\n",
      "TRATTORIA L'INCONTRO : Italian\n",
      "CHELSEA RISTORANTE : Italian\n",
      "PEPE ROSSO TO GO : Italian\n",
      "FORSYTHIA : Italian\n",
      "IL MULINO PRIME : Italian\n",
      "LONGO BROS : Italian\n",
      "PISILLO ITALIAN PANINI : Italian\n",
      "PROVINI CAFE : Italian\n",
      "ALITALIA MICHELANGELO LOUNGE : Italian\n",
      "TRE : Italian\n",
      "SALUGGI'S EAST : Italian\n",
      "MARIO'S RESTAURANT : Italian\n",
      "OTTAVA/ ST EVES (471 12 STREET) : Italian\n",
      "BECCO : Italian\n",
      "BRIOSO RISTORANTE : Italian\n",
      "ENZO'S OF ARTHUR AVE : Italian\n",
      "OSTERIA NONNINO : Italian\n",
      "PICCOLA STRADA RESTAURANT : Italian\n",
      "SAM'S PLACE : Italian\n",
      "NINOS RESTAURANT : Italian\n",
      "ILMULINO : Italian\n",
      "DA UMBERTO RESTAURANT : Italian\n",
      "MANGIA : Italian\n",
      "DA ANDREA : Italian\n",
      "(LEWIS DRUG STORE) LOCANDA VINI E OLII : Italian\n",
      "PAZZA NOTTE : Italian\n",
      "PIZZARTE : Italian\n",
      "SPEEDY ROMEO : Italian\n",
      "FUMO : Italian\n",
      "ALICE : Italian\n",
      "FELICE : Italian\n",
      "BICE CUCINA : Italian\n",
      "PATSY'S PIZZERIA : Italian\n",
      "VINNY'S OF CARROLL GARDEN RESTAURANT & LUNCHEONETT : Italian\n",
      "DA TOMMASSO : Italian\n",
      "ORTOMARE RISTORANTE PIZZERIA : Italian\n",
      "BICE CUCINA : Italian\n",
      "LINCONTRO BY ROCCO : Italian\n",
      "SERAFINA LUDLOW : Italian\n",
      "BAR CAMILLO : Italian\n",
      "VINNY'S OF CARROLL GARDEN RESTAURANT & LUNCHEONETT : Italian\n",
      "FRANK'S PIZZERIA, DA FRANCO AND TONY RESTAURANT : Italian\n",
      "MASSERIA CAFFE : Italian\n",
      "SETTE MEZZO : Italian\n",
      "ORSO : Italian\n",
      "TOSCANA 49 : Italian\n",
      "FASANO : Italian\n",
      "MASSERIA CAFFE : Italian\n",
      "OSTERIA SANTINA : Italian\n",
      "HARRY'S ITALIAN : Italian\n",
      "LUIGI'S CATERING : Italian\n",
      "EPISTROPHY CAFE : Italian\n",
      "GIANO : Italian\n",
      "PEPOLINO : Italian\n",
      "SAN GENNARO : Italian\n",
      "ANTONIO'S TRATTORIA : Italian\n",
      "SIENA CAFE : Italian\n",
      "TESTO : Italian\n",
      "PICCOLA CUCINA : Italian\n",
      "FRESCO : Italian\n",
      "PETALUMA : Italian\n",
      "WILD : Italian\n",
      "IL CORTILE RESTAURANT : Italian\n",
      "DA NONNA ROSA : Italian\n",
      "PEPE GIALLO : Italian\n",
      "SOL MEXICAN COCINA : Mexican\n",
      "MITI MITI TAPERIA : Mexican\n",
      "IXTA : Mexican\n",
      "EL TRI MX RESTAURANT & BAR CORP : Mexican\n",
      "NOCHE MEXICANA II : Mexican\n",
      "EL MAGUEY : Mexican\n",
      "BIRRIA LES TACOS : Mexican\n",
      "TACQUERIA FORT GREENE : Mexican\n",
      "ANEJO TRIBECA : Mexican\n",
      "QUESADILLAS DONA MATY : Mexican\n",
      "CILANTRO EAST : Mexican\n",
      "SUPER BURRITO : Mexican\n",
      "ROSIE'S : Mexican\n",
      "FONDA : Mexican\n",
      "RANCHO ESTRELLA RESTAURANT : Mexican\n",
      "LA PATRONA : Mexican\n",
      "FLORES BRUNCH : Mexican\n",
      "EL AGUACATE BAR RESTAURANT : Mexican\n",
      "ALEGRIA BAR & RESTAURANT : Mexican\n",
      "WUARACHE RESTAURANT : Mexican\n",
      "ENERGY JUICE BAR : Mexican\n",
      "TAQUERIA EL FOGON : Mexican\n",
      "NOCHES MEXICANAS : Mexican\n",
      "FONDA OF CHELSEA : Mexican\n",
      "EL RANCHO DE MEXICO : Mexican\n",
      "MEXICUE : Mexican\n",
      "FRIJOLITO'S RESTAURANT : Mexican\n",
      "XOCHIMILCO FAMILY REST : Mexican\n",
      "MOE'S SOUTHWEST GRILL : Mexican\n",
      "TV EYE : Mexican\n",
      "CASTRO'S RESTAURANT : Mexican\n",
      "MAISONETTA : Mexican\n",
      "LA COMADRE MEXICAN RESTAURANT & BAKERY : Mexican\n",
      "MITI MITI TAPERIA : Mexican\n",
      "DOS TOROS : Mexican\n",
      "CAVA MEZZE GRILL : Mexican\n",
      "HOMEMADE TAQUERIA : Mexican\n",
      "TACOS SAN LUCAS II : Mexican\n",
      "LA IGUANA AZUL RESTAURANT : Mexican\n",
      "YOLPAQUI TAQUERIA : Mexican\n",
      "PONCHE TAQUERIA : Mexican\n",
      "LAS CHATAS TAQUERIA & DELI GROCERY : Mexican\n",
      "EL TEXANO RESTAURANT : Mexican\n",
      "TAQUERIA ACATLAN : Mexican\n",
      "ARRIBA ARRIBA : Mexican\n",
      "MEZCALS RESTAURANT : Mexican\n",
      "LA PATRONA : Mexican\n",
      "SERRANO SALSA : Mexican\n",
      "OLLIN : Mexican\n",
      "HOMEMADE TAQUERIA : Mexican\n",
      "SOFIA'S GUAC BAR : Mexican\n",
      "EL MEXICANO RESTAURANTE AND CAFE : Mexican\n",
      "EL REY DEL TACO : Mexican\n",
      "DONA ZITA MEXICAN FOOD : Mexican\n",
      "TACO BELL : Mexican\n",
      "PABLITO'S TAQUERIA RESTAURANT : Mexican\n",
      "ASTORIA TACO FACTORY : Mexican\n",
      "TAQUERIA LUPITA II : Mexican\n",
      "EL PORTON BAR & RESTAURANT : Mexican\n",
      "MIJO : Mexican\n",
      "THE RED GRILL MEXICAN RESTAURANT : Mexican\n",
      "RINCONCITO FAMILIAR MEXICAN CUISINE : Mexican\n",
      "LUPITA RESTAURANT : Mexican\n",
      "HOT PEPPERS : Mexican\n",
      "EL MERO MERO : Mexican\n",
      "FAST & FRESH BURRITO DELI : Mexican\n",
      "TACOBEES : Mexican\n",
      "PINK TACO : Mexican\n",
      "DELICIAS MEXICANAS : Mexican\n",
      "ANTOJITOS ACATLAN : Mexican\n",
      "TAQUERIA EMILIO 3 : Mexican\n",
      "MSMA PUEBLA : Mexican\n",
      "VIRTUAL CRAVINGS : Mexican\n",
      "TAQUERIA RESTAURANTE MI BARRIO : Mexican\n",
      "LA FOGATA : Mexican\n",
      "NUEVO MEXICO MEXICAN RESTAURANT : Mexican\n",
      "RECUERDOS MEXICANOS : Mexican\n",
      "D'ANGELO'S PIZZA, PANCHO'S MEXICAN RESTAURANT : Mexican\n",
      "TAQUERIA PANTITLAN : Mexican\n",
      "BRASIER : Mexican\n",
      "BLUEBERRY : Mexican\n",
      "LUCHADORES : Mexican\n",
      "FRESCO' S GRAND CANTINA : Mexican\n",
      "QDOBA : Mexican\n",
      "GIOVANNI'S PIZZA & MEXICAN RESTAURANT : Mexican\n",
      "LOLA'S : Mexican\n",
      "B'KLYN BURRO : Mexican\n",
      "MEXICAN DINER : Mexican\n",
      "TULCINGO RESTAURANT : Mexican\n",
      "ANGELITOS BAKERY : Mexican\n",
      "I X CAFE : Mexican\n",
      "SPORTS BAR ATHEN'S GRILL : Mexican\n",
      "TORO LOCO : Mexican\n",
      "COFFEE TIME : Mexican\n",
      "CASA PUBLICA : Mexican\n",
      "LA PATRONA : Mexican\n",
      "COMPADRES MEXICAN FOOD : Mexican\n",
      "PARRILLADAS SUNRISE MEXICAN RESTAURANT BAR : Mexican\n",
      "NOCHE DE MARGARITAS RESTAURANT : Mexican\n",
      "TACOS EL COYOTE RESTAURANT : Mexican\n",
      "ALMA NEGRA : Mexican\n",
      "EL PARADOR CAFE : Mexican\n",
      "RINCONCITO FAMILIAR MEXICAN CUISINE : Mexican\n",
      "AZUL TEQUILA MEXICAN RESTAURANT : Mexican\n",
      "EMILY'S BAKERY : Mexican\n",
      "PIAXTLA ES MEXICO DELI : Mexican\n",
      "TAQUERIA EMILIO : Mexican\n",
      "CAFE CON AMOR : Mexican\n",
      "BLUE AGAVE : Mexican\n",
      "TAQUERIA CHILA : Mexican\n",
      "EL VAQUERITO : Mexican\n",
      "BLUE MAIZ : Mexican\n"
     ]
    }
   ],
   "source": [
    "query = {\n",
    "    \"query\": {\n",
    "        \"simple_query_string\": {\n",
    "            \"query\": \"\\\"Mexican\\\"^10.0 \\\"Italian\\\"\",\n",
    "            \"fields\": [\"CUISINE DESCRIPTION\"],\n",
    "            \"default_operator\": \"or\"\n",
    "        }\n",
    "    },\n",
    "    \"size\": 200\n",
    "}\n",
    "response = client.search(index=nyc_index, body=query)\n",
    "print(response['hits']['total']['value'])\n",
    "\n",
    "for hit in response['hits']['hits']:\n",
    "    print(hit['_source']['DBA'], \":\", hit['_source']['CUISINE DESCRIPTION'])\n"
   ]
  },
  {
   "cell_type": "markdown",
   "id": "f258d5d0-e8d3-491a-828a-2cea32797eb6",
   "metadata": {},
   "source": [
    "### Why does Italian still get ranked higher than Mexican?\n",
    "\n",
    "1. Term Frequency: If the term \"Italian\" appears more frequently across documents, Elasticsearch’s default ranking algorithm (BM25) may still give it higher weight despite the boost.\n",
    "\n",
    "2. Document Length: If documents mentioning \"Mexican\" are much longer, Elasticsearch may consider the match to be less significant, while shorter documents mentioning \"Italian\" may rank higher.\n",
    "\n",
    "3. Field Analysis: The field `VIOLATION DESCRIPTION` might be tokenized in a way that affects how terms are matched and scored. For example, stemming or normalization could influence relevance.\n",
    "\n",
    "4. Scoring Nuances: Elasticsearch's scoring formula (BM25) factors in other elements like field length, inverse document frequency (IDF), and term frequency (TF), which could make \"Italian\" rank higher if it fits better with these parameters in the indexed documents.\n",
    "\n",
    "### How can we re-write the query to make sure `Mexican` gets boosted?\n",
    "\n",
    "### Disjunction max query\n",
    "\n",
    "- Returns documents matching one or more wrapped queries, called query clauses or clauses.\n",
    "- If a returned document matches multiple query clauses, the dis_max query assigns the document the highest relevance score from any matching clause, plus a tie breaking increment for any additional matching subqueries.\n",
    "- documentation: https://www.elastic.co/guide/en/elasticsearch/reference/current/query-dsl-dis-max-query.html "
   ]
  },
  {
   "cell_type": "code",
   "execution_count": 49,
   "id": "9991017b-2a49-43aa-91d0-9fb58456df7e",
   "metadata": {},
   "outputs": [
    {
     "name": "stdout",
     "output_type": "stream",
     "text": [
      "191\n",
      "SOL MEXICAN COCINA : Mexican\n",
      "MITI MITI TAPERIA : Mexican\n",
      "IXTA : Mexican\n",
      "EL TRI MX RESTAURANT & BAR CORP : Mexican\n",
      "NOCHE MEXICANA II : Mexican\n",
      "EL MAGUEY : Mexican\n",
      "BIRRIA LES TACOS : Mexican\n",
      "TACQUERIA FORT GREENE : Mexican\n",
      "ANEJO TRIBECA : Mexican\n",
      "QUESADILLAS DONA MATY : Mexican\n",
      "CILANTRO EAST : Mexican\n",
      "SUPER BURRITO : Mexican\n",
      "ROSIE'S : Mexican\n",
      "FONDA : Mexican\n",
      "RANCHO ESTRELLA RESTAURANT : Mexican\n",
      "LA PATRONA : Mexican\n",
      "FLORES BRUNCH : Mexican\n",
      "EL AGUACATE BAR RESTAURANT : Mexican\n",
      "ALEGRIA BAR & RESTAURANT : Mexican\n",
      "WUARACHE RESTAURANT : Mexican\n",
      "ENERGY JUICE BAR : Mexican\n",
      "TAQUERIA EL FOGON : Mexican\n",
      "NOCHES MEXICANAS : Mexican\n",
      "FONDA OF CHELSEA : Mexican\n",
      "EL RANCHO DE MEXICO : Mexican\n",
      "MEXICUE : Mexican\n",
      "FRIJOLITO'S RESTAURANT : Mexican\n",
      "XOCHIMILCO FAMILY REST : Mexican\n",
      "MOE'S SOUTHWEST GRILL : Mexican\n",
      "TV EYE : Mexican\n",
      "CASTRO'S RESTAURANT : Mexican\n",
      "MAISONETTA : Mexican\n",
      "LA COMADRE MEXICAN RESTAURANT & BAKERY : Mexican\n",
      "MITI MITI TAPERIA : Mexican\n",
      "DOS TOROS : Mexican\n",
      "CAVA MEZZE GRILL : Mexican\n",
      "HOMEMADE TAQUERIA : Mexican\n",
      "TACOS SAN LUCAS II : Mexican\n",
      "LA IGUANA AZUL RESTAURANT : Mexican\n",
      "YOLPAQUI TAQUERIA : Mexican\n",
      "PONCHE TAQUERIA : Mexican\n",
      "LAS CHATAS TAQUERIA & DELI GROCERY : Mexican\n",
      "EL TEXANO RESTAURANT : Mexican\n",
      "TAQUERIA ACATLAN : Mexican\n",
      "ARRIBA ARRIBA : Mexican\n",
      "MEZCALS RESTAURANT : Mexican\n",
      "LA PATRONA : Mexican\n",
      "SERRANO SALSA : Mexican\n",
      "OLLIN : Mexican\n",
      "HOMEMADE TAQUERIA : Mexican\n",
      "SOFIA'S GUAC BAR : Mexican\n",
      "EL MEXICANO RESTAURANTE AND CAFE : Mexican\n",
      "EL REY DEL TACO : Mexican\n",
      "DONA ZITA MEXICAN FOOD : Mexican\n",
      "TACO BELL : Mexican\n",
      "PABLITO'S TAQUERIA RESTAURANT : Mexican\n",
      "ASTORIA TACO FACTORY : Mexican\n",
      "TAQUERIA LUPITA II : Mexican\n",
      "EL PORTON BAR & RESTAURANT : Mexican\n",
      "MIJO : Mexican\n",
      "THE RED GRILL MEXICAN RESTAURANT : Mexican\n",
      "RINCONCITO FAMILIAR MEXICAN CUISINE : Mexican\n",
      "LUPITA RESTAURANT : Mexican\n",
      "HOT PEPPERS : Mexican\n",
      "EL MERO MERO : Mexican\n",
      "FAST & FRESH BURRITO DELI : Mexican\n",
      "TACOBEES : Mexican\n",
      "PINK TACO : Mexican\n",
      "DELICIAS MEXICANAS : Mexican\n",
      "ANTOJITOS ACATLAN : Mexican\n",
      "TAQUERIA EMILIO 3 : Mexican\n",
      "MSMA PUEBLA : Mexican\n",
      "VIRTUAL CRAVINGS : Mexican\n",
      "TAQUERIA RESTAURANTE MI BARRIO : Mexican\n",
      "LA FOGATA : Mexican\n",
      "NUEVO MEXICO MEXICAN RESTAURANT : Mexican\n",
      "RECUERDOS MEXICANOS : Mexican\n",
      "D'ANGELO'S PIZZA, PANCHO'S MEXICAN RESTAURANT : Mexican\n",
      "TAQUERIA PANTITLAN : Mexican\n",
      "BRASIER : Mexican\n",
      "BLUEBERRY : Mexican\n",
      "LUCHADORES : Mexican\n",
      "FRESCO' S GRAND CANTINA : Mexican\n",
      "QDOBA : Mexican\n",
      "GIOVANNI'S PIZZA & MEXICAN RESTAURANT : Mexican\n",
      "LOLA'S : Mexican\n",
      "B'KLYN BURRO : Mexican\n",
      "MEXICAN DINER : Mexican\n",
      "TULCINGO RESTAURANT : Mexican\n",
      "ANGELITOS BAKERY : Mexican\n",
      "I X CAFE : Mexican\n",
      "SPORTS BAR ATHEN'S GRILL : Mexican\n",
      "TORO LOCO : Mexican\n",
      "COFFEE TIME : Mexican\n",
      "CASA PUBLICA : Mexican\n",
      "LA PATRONA : Mexican\n",
      "COMPADRES MEXICAN FOOD : Mexican\n",
      "PARRILLADAS SUNRISE MEXICAN RESTAURANT BAR : Mexican\n",
      "NOCHE DE MARGARITAS RESTAURANT : Mexican\n",
      "TACOS EL COYOTE RESTAURANT : Mexican\n",
      "ALMA NEGRA : Mexican\n",
      "EL PARADOR CAFE : Mexican\n",
      "RINCONCITO FAMILIAR MEXICAN CUISINE : Mexican\n",
      "AZUL TEQUILA MEXICAN RESTAURANT : Mexican\n",
      "EMILY'S BAKERY : Mexican\n",
      "PIAXTLA ES MEXICO DELI : Mexican\n",
      "TAQUERIA EMILIO : Mexican\n",
      "CAFE CON AMOR : Mexican\n",
      "BLUE AGAVE : Mexican\n",
      "TAQUERIA CHILA : Mexican\n",
      "EL VAQUERITO : Mexican\n",
      "BLUE MAIZ : Mexican\n",
      "BOCCA DI BACCO : Italian\n",
      "CAMILLO : Italian\n",
      "ONE FIFTH : Italian\n",
      "SALUGGI'S EAST : Italian\n",
      "ARTE CAFE & EL COCO : Italian\n",
      "OLIO E PIU : Italian\n",
      "NONNA BEPPA : Italian\n",
      "OBICA MOZZARELLA BAR : Italian\n",
      "MANGIA : Italian\n",
      "PATRIZIA OF MASPETH : Italian\n",
      "SERAFINA VINO E CUCINA : Italian\n",
      "LA LANTERNA DI VITTORIO : Italian\n",
      "GABRIEL'S BAR & RESTAURANT : Italian\n",
      "VERDE CAFE & LOUNGE : Italian\n",
      "TRATTORIA L'INCONTRO : Italian\n",
      "CHELSEA RISTORANTE : Italian\n",
      "PEPE ROSSO TO GO : Italian\n",
      "FORSYTHIA : Italian\n",
      "IL MULINO PRIME : Italian\n",
      "LONGO BROS : Italian\n",
      "PISILLO ITALIAN PANINI : Italian\n",
      "PROVINI CAFE : Italian\n",
      "ALITALIA MICHELANGELO LOUNGE : Italian\n",
      "TRE : Italian\n",
      "SALUGGI'S EAST : Italian\n",
      "MARIO'S RESTAURANT : Italian\n",
      "OTTAVA/ ST EVES (471 12 STREET) : Italian\n",
      "BECCO : Italian\n",
      "BRIOSO RISTORANTE : Italian\n",
      "ENZO'S OF ARTHUR AVE : Italian\n",
      "OSTERIA NONNINO : Italian\n",
      "PICCOLA STRADA RESTAURANT : Italian\n",
      "SAM'S PLACE : Italian\n",
      "NINOS RESTAURANT : Italian\n",
      "ILMULINO : Italian\n",
      "DA UMBERTO RESTAURANT : Italian\n",
      "MANGIA : Italian\n",
      "DA ANDREA : Italian\n",
      "(LEWIS DRUG STORE) LOCANDA VINI E OLII : Italian\n",
      "PAZZA NOTTE : Italian\n",
      "PIZZARTE : Italian\n",
      "SPEEDY ROMEO : Italian\n",
      "FUMO : Italian\n",
      "ALICE : Italian\n",
      "FELICE : Italian\n",
      "BICE CUCINA : Italian\n",
      "PATSY'S PIZZERIA : Italian\n",
      "VINNY'S OF CARROLL GARDEN RESTAURANT & LUNCHEONETT : Italian\n",
      "DA TOMMASSO : Italian\n",
      "ORTOMARE RISTORANTE PIZZERIA : Italian\n",
      "BICE CUCINA : Italian\n",
      "LINCONTRO BY ROCCO : Italian\n",
      "SERAFINA LUDLOW : Italian\n",
      "BAR CAMILLO : Italian\n",
      "VINNY'S OF CARROLL GARDEN RESTAURANT & LUNCHEONETT : Italian\n",
      "FRANK'S PIZZERIA, DA FRANCO AND TONY RESTAURANT : Italian\n",
      "MASSERIA CAFFE : Italian\n",
      "SETTE MEZZO : Italian\n",
      "ORSO : Italian\n",
      "TOSCANA 49 : Italian\n",
      "FASANO : Italian\n",
      "MASSERIA CAFFE : Italian\n",
      "OSTERIA SANTINA : Italian\n",
      "HARRY'S ITALIAN : Italian\n",
      "LUIGI'S CATERING : Italian\n",
      "EPISTROPHY CAFE : Italian\n",
      "GIANO : Italian\n",
      "PEPOLINO : Italian\n",
      "SAN GENNARO : Italian\n",
      "ANTONIO'S TRATTORIA : Italian\n",
      "SIENA CAFE : Italian\n",
      "TESTO : Italian\n",
      "PICCOLA CUCINA : Italian\n",
      "FRESCO : Italian\n",
      "PETALUMA : Italian\n",
      "WILD : Italian\n",
      "IL CORTILE RESTAURANT : Italian\n",
      "DA NONNA ROSA : Italian\n",
      "PEPE GIALLO : Italian\n"
     ]
    }
   ],
   "source": [
    "query = {\n",
    "    \"query\": {\n",
    "        \"dis_max\": {\n",
    "            \"queries\": [\n",
    "                {\"match\": {\"CUISINE DESCRIPTION\": {\"query\": \"Mexican\", \"boost\": 10.0}}},\n",
    "                {\"match\": {\"CUISINE DESCRIPTION\": {\"query\": \"Italian\"}}}\n",
    "            ]\n",
    "        }\n",
    "    },\n",
    "    \"_source\": [\"DBA\", \"CUISINE DESCRIPTION\"],\n",
    "    \"size\": 200\n",
    "}\n",
    "\n",
    "response = client.search(index=nyc_index, body=query)\n",
    "print(response['hits']['total']['value'])\n",
    "for hit in response['hits']['hits']:\n",
    "    print(hit['_source']['DBA'], \":\", hit['_source']['CUISINE DESCRIPTION'])\n"
   ]
  },
  {
   "cell_type": "markdown",
   "id": "9aba19c1-53d8-4b09-b8fc-a93555e1cb25",
   "metadata": {},
   "source": [
    "### Highlighting \n",
    "\n",
    "- During the search process, elasticsearch extracts the text from the fields you want to highlight.\n",
    "- It then marks the matching terms in the retrieved documents, usually by wrapping them in HTML tags (like `<em>` or `<strong>`), making them visually distinct."
   ]
  },
  {
   "cell_type": "markdown",
   "id": "22de9178-f55b-4e44-ae38-5af37f889390",
   "metadata": {},
   "source": [
    "#### Q8: Find all inspected restaurants that have Mexican in \"CUISINE DESCRIPTION\" and highlight the \"CUISINE DESCRIPTION\" field in the results."
   ]
  },
  {
   "cell_type": "code",
   "execution_count": 50,
   "id": "bfd2bc68-308f-4e23-b106-403144385e78",
   "metadata": {},
   "outputs": [
    {
     "name": "stdout",
     "output_type": "stream",
     "text": [
      "{'took': 423, 'timed_out': False, '_shards': {'total': 1, 'successful': 1, 'skipped': 0, 'failed': 0}, 'hits': {'total': {'value': 112, 'relation': 'eq'}, 'max_score': 3.5126777, 'hits': [{'_index': 'nyc_restaurants', '_id': '-RXzcZUBAuBljZDEYWSV', '_score': 3.5126777, '_source': {'DBA': 'SOL MEXICAN COCINA', 'CUISINE DESCRIPTION': 'Mexican'}, 'highlight': {'CUISINE DESCRIPTION': ['<em>Mexican</em>']}}, {'_index': 'nyc_restaurants', '_id': 'ARXzcZUBAuBljZDEYWWV', '_score': 3.5126777, '_source': {'DBA': 'MITI MITI TAPERIA', 'CUISINE DESCRIPTION': 'Mexican'}, 'highlight': {'CUISINE DESCRIPTION': ['<em>Mexican</em>']}}, {'_index': 'nyc_restaurants', '_id': 'eBXzcZUBAuBljZDEYWWW', '_score': 3.5126777, '_source': {'DBA': 'IXTA', 'CUISINE DESCRIPTION': 'Mexican'}, 'highlight': {'CUISINE DESCRIPTION': ['<em>Mexican</em>']}}, {'_index': 'nyc_restaurants', '_id': 'kBXzcZUBAuBljZDEYWWW', '_score': 3.5126777, '_source': {'DBA': 'EL TRI MX RESTAURANT & BAR CORP', 'CUISINE DESCRIPTION': 'Mexican'}, 'highlight': {'CUISINE DESCRIPTION': ['<em>Mexican</em>']}}, {'_index': 'nyc_restaurants', '_id': 'pBXzcZUBAuBljZDEYWWW', '_score': 3.5126777, '_source': {'DBA': 'NOCHE MEXICANA II', 'CUISINE DESCRIPTION': 'Mexican'}, 'highlight': {'CUISINE DESCRIPTION': ['<em>Mexican</em>']}}, {'_index': 'nyc_restaurants', '_id': 'uBXzcZUBAuBljZDEYWWW', '_score': 3.5126777, '_source': {'DBA': 'EL MAGUEY', 'CUISINE DESCRIPTION': 'Mexican'}, 'highlight': {'CUISINE DESCRIPTION': ['<em>Mexican</em>']}}, {'_index': 'nyc_restaurants', '_id': 'yhXzcZUBAuBljZDEYWWW', '_score': 3.5126777, '_source': {'DBA': 'BIRRIA LES TACOS', 'CUISINE DESCRIPTION': 'Mexican'}, 'highlight': {'CUISINE DESCRIPTION': ['<em>Mexican</em>']}}, {'_index': 'nyc_restaurants', '_id': 'zhXzcZUBAuBljZDEYWWW', '_score': 3.5126777, '_source': {'DBA': 'TACQUERIA FORT GREENE', 'CUISINE DESCRIPTION': 'Mexican'}, 'highlight': {'CUISINE DESCRIPTION': ['<em>Mexican</em>']}}, {'_index': 'nyc_restaurants', '_id': '5hXzcZUBAuBljZDEYWWW', '_score': 3.5126777, '_source': {'DBA': 'ANEJO TRIBECA', 'CUISINE DESCRIPTION': 'Mexican'}, 'highlight': {'CUISINE DESCRIPTION': ['<em>Mexican</em>']}}, {'_index': 'nyc_restaurants', '_id': '5xXzcZUBAuBljZDEYWWW', '_score': 3.5126777, '_source': {'DBA': 'QUESADILLAS DONA MATY', 'CUISINE DESCRIPTION': 'Mexican'}, 'highlight': {'CUISINE DESCRIPTION': ['<em>Mexican</em>']}}]}}\n"
     ]
    }
   ],
   "source": [
    "query = {\n",
    "    \"query\": {\n",
    "        \"match_phrase\": {\n",
    "            \"CUISINE DESCRIPTION\": \"Mexican\"\n",
    "        }\n",
    "    },\n",
    "    \"_source\": [\"DBA\", \"CUISINE DESCRIPTION\"], \n",
    "    \"highlight\": {\n",
    "        \"fields\": {\n",
    "            \"CUISINE DESCRIPTION\": {} \n",
    "        }\n",
    "    }\n",
    "}\n",
    "\n",
    "response = client.search(index=nyc_index, body=query)\n",
    "print(response)"
   ]
  },
  {
   "cell_type": "code",
   "execution_count": 51,
   "id": "1e5c6865-94bc-4a24-9210-d0ea1097289b",
   "metadata": {},
   "outputs": [
    {
     "name": "stdout",
     "output_type": "stream",
     "text": [
      "{'took': 15, 'timed_out': False, '_shards': {'total': 1, 'successful': 1, 'skipped': 0, 'failed': 0}, 'hits': {'total': {'value': 112, 'relation': 'eq'}, 'max_score': 3.5126777, 'hits': [{'_index': 'nyc_restaurants', '_id': '-RXzcZUBAuBljZDEYWSV', '_score': 3.5126777, '_source': {'DBA': 'SOL MEXICAN COCINA', 'CUISINE DESCRIPTION': 'Mexican'}, 'highlight': {'CUISINE DESCRIPTION': ['<strong>Mexican</strong>']}}, {'_index': 'nyc_restaurants', '_id': 'ARXzcZUBAuBljZDEYWWV', '_score': 3.5126777, '_source': {'DBA': 'MITI MITI TAPERIA', 'CUISINE DESCRIPTION': 'Mexican'}, 'highlight': {'CUISINE DESCRIPTION': ['<strong>Mexican</strong>']}}, {'_index': 'nyc_restaurants', '_id': 'eBXzcZUBAuBljZDEYWWW', '_score': 3.5126777, '_source': {'DBA': 'IXTA', 'CUISINE DESCRIPTION': 'Mexican'}, 'highlight': {'CUISINE DESCRIPTION': ['<strong>Mexican</strong>']}}, {'_index': 'nyc_restaurants', '_id': 'kBXzcZUBAuBljZDEYWWW', '_score': 3.5126777, '_source': {'DBA': 'EL TRI MX RESTAURANT & BAR CORP', 'CUISINE DESCRIPTION': 'Mexican'}, 'highlight': {'CUISINE DESCRIPTION': ['<strong>Mexican</strong>']}}, {'_index': 'nyc_restaurants', '_id': 'pBXzcZUBAuBljZDEYWWW', '_score': 3.5126777, '_source': {'DBA': 'NOCHE MEXICANA II', 'CUISINE DESCRIPTION': 'Mexican'}, 'highlight': {'CUISINE DESCRIPTION': ['<strong>Mexican</strong>']}}, {'_index': 'nyc_restaurants', '_id': 'uBXzcZUBAuBljZDEYWWW', '_score': 3.5126777, '_source': {'DBA': 'EL MAGUEY', 'CUISINE DESCRIPTION': 'Mexican'}, 'highlight': {'CUISINE DESCRIPTION': ['<strong>Mexican</strong>']}}, {'_index': 'nyc_restaurants', '_id': 'yhXzcZUBAuBljZDEYWWW', '_score': 3.5126777, '_source': {'DBA': 'BIRRIA LES TACOS', 'CUISINE DESCRIPTION': 'Mexican'}, 'highlight': {'CUISINE DESCRIPTION': ['<strong>Mexican</strong>']}}, {'_index': 'nyc_restaurants', '_id': 'zhXzcZUBAuBljZDEYWWW', '_score': 3.5126777, '_source': {'DBA': 'TACQUERIA FORT GREENE', 'CUISINE DESCRIPTION': 'Mexican'}, 'highlight': {'CUISINE DESCRIPTION': ['<strong>Mexican</strong>']}}, {'_index': 'nyc_restaurants', '_id': '5hXzcZUBAuBljZDEYWWW', '_score': 3.5126777, '_source': {'DBA': 'ANEJO TRIBECA', 'CUISINE DESCRIPTION': 'Mexican'}, 'highlight': {'CUISINE DESCRIPTION': ['<strong>Mexican</strong>']}}, {'_index': 'nyc_restaurants', '_id': '5xXzcZUBAuBljZDEYWWW', '_score': 3.5126777, '_source': {'DBA': 'QUESADILLAS DONA MATY', 'CUISINE DESCRIPTION': 'Mexican'}, 'highlight': {'CUISINE DESCRIPTION': ['<strong>Mexican</strong>']}}]}}\n"
     ]
    }
   ],
   "source": [
    "query = {\n",
    "    \"query\": {\n",
    "        \"match_phrase\": {\n",
    "            \"CUISINE DESCRIPTION\": \"Mexican\"\n",
    "        }\n",
    "    },\n",
    "    \"_source\": [\"DBA\", \"CUISINE DESCRIPTION\"],\n",
    "    \"highlight\": {\n",
    "        \"fields\": {\n",
    "            \"CUISINE DESCRIPTION\": {\n",
    "                \"pre_tags\": [\"<strong>\"], \n",
    "                \"post_tags\": [\"</strong>\"]\n",
    "            }\n",
    "        }\n",
    "    }\n",
    "}\n",
    "\n",
    "response = client.search(index=nyc_index, body=query)\n",
    "print(response)"
   ]
  },
  {
   "cell_type": "markdown",
   "id": "b9685471-f78a-4230-87e1-2f9594666b47",
   "metadata": {},
   "source": [
    "### Benefits of Highlighting\n",
    "- Improved User Experience: Highlighting helps users quickly identify relevant sections of text that match their search terms, making it easier to evaluate the results.\n",
    "- Enhanced Readability: By drawing attention to specific keywords or phrases, you improve the overall readability of search results.\n",
    "- Customization: You can customize how highlighting appears (e.g., using different tags or styles) to fit the design of your application."
   ]
  },
  {
   "cell_type": "markdown",
   "id": "5b3aabe8-ecc6-45fd-abf8-e500036e0959",
   "metadata": {},
   "source": [
    "### Boolean operators\n",
    "\n",
    "- `must` operator: AND\n",
    "- `should` operator: OR\n",
    "- `must_not` operator: NOT"
   ]
  },
  {
   "cell_type": "markdown",
   "id": "1c291788-561a-4be7-ad34-eaeec67292d9",
   "metadata": {},
   "source": [
    "#### Q9: Find all Italian restaurants that were inspected in Manhattan."
   ]
  },
  {
   "cell_type": "code",
   "execution_count": 52,
   "id": "3e6d8399-dbfa-45a8-a43e-18e87be28cc3",
   "metadata": {},
   "outputs": [
    {
     "name": "stdout",
     "output_type": "stream",
     "text": [
      "54\n",
      "{'DBA': 'BOCCA DI BACCO', 'BORO': 'Manhattan', 'CUISINE DESCRIPTION': 'Italian'}\n",
      "{'DBA': 'ONE FIFTH', 'BORO': 'Manhattan', 'CUISINE DESCRIPTION': 'Italian'}\n",
      "{'DBA': \"SALUGGI'S EAST\", 'BORO': 'Manhattan', 'CUISINE DESCRIPTION': 'Italian'}\n",
      "{'DBA': 'ARTE CAFE & EL COCO', 'BORO': 'Manhattan', 'CUISINE DESCRIPTION': 'Italian'}\n",
      "{'DBA': 'OLIO E PIU', 'BORO': 'Manhattan', 'CUISINE DESCRIPTION': 'Italian'}\n",
      "{'DBA': 'NONNA BEPPA', 'BORO': 'Manhattan', 'CUISINE DESCRIPTION': 'Italian'}\n",
      "{'DBA': 'OBICA MOZZARELLA BAR', 'BORO': 'Manhattan', 'CUISINE DESCRIPTION': 'Italian'}\n",
      "{'DBA': 'MANGIA', 'BORO': 'Manhattan', 'CUISINE DESCRIPTION': 'Italian'}\n",
      "{'DBA': 'SERAFINA VINO E CUCINA', 'BORO': 'Manhattan', 'CUISINE DESCRIPTION': 'Italian'}\n",
      "{'DBA': 'LA LANTERNA DI VITTORIO', 'BORO': 'Manhattan', 'CUISINE DESCRIPTION': 'Italian'}\n",
      "{'DBA': \"GABRIEL'S BAR & RESTAURANT\", 'BORO': 'Manhattan', 'CUISINE DESCRIPTION': 'Italian'}\n",
      "{'DBA': 'CHELSEA RISTORANTE', 'BORO': 'Manhattan', 'CUISINE DESCRIPTION': 'Italian'}\n",
      "{'DBA': 'PEPE ROSSO TO GO', 'BORO': 'Manhattan', 'CUISINE DESCRIPTION': 'Italian'}\n",
      "{'DBA': 'FORSYTHIA', 'BORO': 'Manhattan', 'CUISINE DESCRIPTION': 'Italian'}\n",
      "{'DBA': 'IL MULINO PRIME', 'BORO': 'Manhattan', 'CUISINE DESCRIPTION': 'Italian'}\n",
      "{'DBA': 'LONGO BROS', 'BORO': 'Manhattan', 'CUISINE DESCRIPTION': 'Italian'}\n",
      "{'DBA': 'PISILLO ITALIAN PANINI', 'BORO': 'Manhattan', 'CUISINE DESCRIPTION': 'Italian'}\n",
      "{'DBA': 'TRE', 'BORO': 'Manhattan', 'CUISINE DESCRIPTION': 'Italian'}\n",
      "{'DBA': \"SALUGGI'S EAST\", 'BORO': 'Manhattan', 'CUISINE DESCRIPTION': 'Italian'}\n",
      "{'DBA': 'BECCO', 'BORO': 'Manhattan', 'CUISINE DESCRIPTION': 'Italian'}\n",
      "{'DBA': 'OSTERIA NONNINO', 'BORO': 'Manhattan', 'CUISINE DESCRIPTION': 'Italian'}\n",
      "{'DBA': 'PICCOLA STRADA RESTAURANT', 'BORO': 'Manhattan', 'CUISINE DESCRIPTION': 'Italian'}\n",
      "{'DBA': \"SAM'S PLACE\", 'BORO': 'Manhattan', 'CUISINE DESCRIPTION': 'Italian'}\n",
      "{'DBA': 'ILMULINO', 'BORO': 'Manhattan', 'CUISINE DESCRIPTION': 'Italian'}\n",
      "{'DBA': 'DA UMBERTO RESTAURANT', 'BORO': 'Manhattan', 'CUISINE DESCRIPTION': 'Italian'}\n",
      "{'DBA': 'DA ANDREA', 'BORO': 'Manhattan', 'CUISINE DESCRIPTION': 'Italian'}\n",
      "{'DBA': 'PAZZA NOTTE', 'BORO': 'Manhattan', 'CUISINE DESCRIPTION': 'Italian'}\n",
      "{'DBA': 'PIZZARTE', 'BORO': 'Manhattan', 'CUISINE DESCRIPTION': 'Italian'}\n",
      "{'DBA': 'FUMO', 'BORO': 'Manhattan', 'CUISINE DESCRIPTION': 'Italian'}\n",
      "{'DBA': 'ALICE', 'BORO': 'Manhattan', 'CUISINE DESCRIPTION': 'Italian'}\n",
      "{'DBA': 'FELICE', 'BORO': 'Manhattan', 'CUISINE DESCRIPTION': 'Italian'}\n",
      "{'DBA': 'BICE CUCINA', 'BORO': 'Manhattan', 'CUISINE DESCRIPTION': 'Italian'}\n",
      "{'DBA': 'DA TOMMASSO', 'BORO': 'Manhattan', 'CUISINE DESCRIPTION': 'Italian'}\n",
      "{'DBA': 'ORTOMARE RISTORANTE PIZZERIA', 'BORO': 'Manhattan', 'CUISINE DESCRIPTION': 'Italian'}\n",
      "{'DBA': 'BICE CUCINA', 'BORO': 'Manhattan', 'CUISINE DESCRIPTION': 'Italian'}\n",
      "{'DBA': 'LINCONTRO BY ROCCO', 'BORO': 'Manhattan', 'CUISINE DESCRIPTION': 'Italian'}\n",
      "{'DBA': 'SERAFINA LUDLOW', 'BORO': 'Manhattan', 'CUISINE DESCRIPTION': 'Italian'}\n",
      "{'DBA': 'MASSERIA CAFFE', 'BORO': 'Manhattan', 'CUISINE DESCRIPTION': 'Italian'}\n",
      "{'DBA': 'SETTE MEZZO', 'BORO': 'Manhattan', 'CUISINE DESCRIPTION': 'Italian'}\n",
      "{'DBA': 'ORSO', 'BORO': 'Manhattan', 'CUISINE DESCRIPTION': 'Italian'}\n",
      "{'DBA': 'TOSCANA 49', 'BORO': 'Manhattan', 'CUISINE DESCRIPTION': 'Italian'}\n",
      "{'DBA': 'FASANO', 'BORO': 'Manhattan', 'CUISINE DESCRIPTION': 'Italian'}\n",
      "{'DBA': 'MASSERIA CAFFE', 'BORO': 'Manhattan', 'CUISINE DESCRIPTION': 'Italian'}\n",
      "{'DBA': \"HARRY'S ITALIAN\", 'BORO': 'Manhattan', 'CUISINE DESCRIPTION': 'Italian'}\n",
      "{'DBA': 'EPISTROPHY CAFE', 'BORO': 'Manhattan', 'CUISINE DESCRIPTION': 'Italian'}\n",
      "{'DBA': 'GIANO', 'BORO': 'Manhattan', 'CUISINE DESCRIPTION': 'Italian'}\n",
      "{'DBA': 'PEPOLINO', 'BORO': 'Manhattan', 'CUISINE DESCRIPTION': 'Italian'}\n",
      "{'DBA': 'SIENA CAFE', 'BORO': 'Manhattan', 'CUISINE DESCRIPTION': 'Italian'}\n",
      "{'DBA': 'PICCOLA CUCINA', 'BORO': 'Manhattan', 'CUISINE DESCRIPTION': 'Italian'}\n",
      "{'DBA': 'FRESCO', 'BORO': 'Manhattan', 'CUISINE DESCRIPTION': 'Italian'}\n",
      "{'DBA': 'PETALUMA', 'BORO': 'Manhattan', 'CUISINE DESCRIPTION': 'Italian'}\n",
      "{'DBA': 'WILD', 'BORO': 'Manhattan', 'CUISINE DESCRIPTION': 'Italian'}\n",
      "{'DBA': 'IL CORTILE RESTAURANT', 'BORO': 'Manhattan', 'CUISINE DESCRIPTION': 'Italian'}\n",
      "{'DBA': 'PEPE GIALLO', 'BORO': 'Manhattan', 'CUISINE DESCRIPTION': 'Italian'}\n"
     ]
    }
   ],
   "source": [
    "query = {\n",
    "    \"query\": {\n",
    "        \"bool\": {\n",
    "            \"must\": [\n",
    "                {\"match\": {\"CUISINE DESCRIPTION\": \"Italian\"}},\n",
    "                {\"match\": {\"BORO\": \"Manhattan\"}}\n",
    "            ]\n",
    "        }\n",
    "    },\n",
    "    \"_source\": [\"DBA\", \"BORO\", \"CUISINE DESCRIPTION\"],\n",
    "    \"size\": 54\n",
    "}\n",
    "\n",
    "response = client.search(index=nyc_index, body=query)\n",
    "print(response['hits']['total']['value'])\n",
    "for hit in response['hits']['hits']:\n",
    "    print(hit['_source'])"
   ]
  },
  {
   "cell_type": "markdown",
   "id": "46536850-943e-4eb5-89cc-93cddfd685ad",
   "metadata": {},
   "source": [
    "#### Q10: Find all inspected restaurants that have Italian or Mexican in their \"CUISINE DESCRIPTION\"."
   ]
  },
  {
   "cell_type": "code",
   "execution_count": 53,
   "id": "66378ed5-167a-460f-9bd5-767754c0a5d4",
   "metadata": {},
   "outputs": [
    {
     "name": "stdout",
     "output_type": "stream",
     "text": [
      "191\n",
      "{'DBA': 'BOCCA DI BACCO', 'BORO': 'Manhattan', 'CUISINE DESCRIPTION': 'Italian'}\n",
      "{'DBA': 'CAMILLO', 'BORO': 'Brooklyn', 'CUISINE DESCRIPTION': 'Italian'}\n",
      "{'DBA': 'ONE FIFTH', 'BORO': 'Manhattan', 'CUISINE DESCRIPTION': 'Italian'}\n",
      "{'DBA': \"SALUGGI'S EAST\", 'BORO': 'Manhattan', 'CUISINE DESCRIPTION': 'Italian'}\n",
      "{'DBA': 'ARTE CAFE & EL COCO', 'BORO': 'Manhattan', 'CUISINE DESCRIPTION': 'Italian'}\n",
      "{'DBA': 'OLIO E PIU', 'BORO': 'Manhattan', 'CUISINE DESCRIPTION': 'Italian'}\n",
      "{'DBA': 'NONNA BEPPA', 'BORO': 'Manhattan', 'CUISINE DESCRIPTION': 'Italian'}\n",
      "{'DBA': 'OBICA MOZZARELLA BAR', 'BORO': 'Manhattan', 'CUISINE DESCRIPTION': 'Italian'}\n",
      "{'DBA': 'MANGIA', 'BORO': 'Manhattan', 'CUISINE DESCRIPTION': 'Italian'}\n",
      "{'DBA': 'PATRIZIA OF MASPETH', 'BORO': 'Queens', 'CUISINE DESCRIPTION': 'Italian'}\n",
      "{'DBA': 'SERAFINA VINO E CUCINA', 'BORO': 'Manhattan', 'CUISINE DESCRIPTION': 'Italian'}\n",
      "{'DBA': 'LA LANTERNA DI VITTORIO', 'BORO': 'Manhattan', 'CUISINE DESCRIPTION': 'Italian'}\n",
      "{'DBA': \"GABRIEL'S BAR & RESTAURANT\", 'BORO': 'Manhattan', 'CUISINE DESCRIPTION': 'Italian'}\n",
      "{'DBA': 'VERDE CAFE & LOUNGE', 'BORO': 'Brooklyn', 'CUISINE DESCRIPTION': 'Italian'}\n",
      "{'DBA': \"TRATTORIA L'INCONTRO\", 'BORO': 'Queens', 'CUISINE DESCRIPTION': 'Italian'}\n",
      "{'DBA': 'CHELSEA RISTORANTE', 'BORO': 'Manhattan', 'CUISINE DESCRIPTION': 'Italian'}\n",
      "{'DBA': 'PEPE ROSSO TO GO', 'BORO': 'Manhattan', 'CUISINE DESCRIPTION': 'Italian'}\n",
      "{'DBA': 'FORSYTHIA', 'BORO': 'Manhattan', 'CUISINE DESCRIPTION': 'Italian'}\n",
      "{'DBA': 'IL MULINO PRIME', 'BORO': 'Manhattan', 'CUISINE DESCRIPTION': 'Italian'}\n",
      "{'DBA': 'LONGO BROS', 'BORO': 'Manhattan', 'CUISINE DESCRIPTION': 'Italian'}\n",
      "{'DBA': 'PISILLO ITALIAN PANINI', 'BORO': 'Manhattan', 'CUISINE DESCRIPTION': 'Italian'}\n",
      "{'DBA': 'PROVINI CAFE', 'BORO': 'Brooklyn', 'CUISINE DESCRIPTION': 'Italian'}\n",
      "{'DBA': 'ALITALIA MICHELANGELO LOUNGE', 'BORO': 'Queens', 'CUISINE DESCRIPTION': 'Italian'}\n",
      "{'DBA': 'TRE', 'BORO': 'Manhattan', 'CUISINE DESCRIPTION': 'Italian'}\n",
      "{'DBA': \"SALUGGI'S EAST\", 'BORO': 'Manhattan', 'CUISINE DESCRIPTION': 'Italian'}\n",
      "{'DBA': \"MARIO'S RESTAURANT\", 'BORO': 'Bronx', 'CUISINE DESCRIPTION': 'Italian'}\n",
      "{'DBA': 'OTTAVA/ ST EVES (471 12 STREET)', 'BORO': 'Brooklyn', 'CUISINE DESCRIPTION': 'Italian'}\n",
      "{'DBA': 'BECCO', 'BORO': 'Manhattan', 'CUISINE DESCRIPTION': 'Italian'}\n",
      "{'DBA': 'BRIOSO RISTORANTE', 'BORO': 'Staten Island', 'CUISINE DESCRIPTION': 'Italian'}\n",
      "{'DBA': \"ENZO'S OF ARTHUR AVE\", 'BORO': 'Bronx', 'CUISINE DESCRIPTION': 'Italian'}\n",
      "{'DBA': 'OSTERIA NONNINO', 'BORO': 'Manhattan', 'CUISINE DESCRIPTION': 'Italian'}\n",
      "{'DBA': 'PICCOLA STRADA RESTAURANT', 'BORO': 'Manhattan', 'CUISINE DESCRIPTION': 'Italian'}\n",
      "{'DBA': \"SAM'S PLACE\", 'BORO': 'Manhattan', 'CUISINE DESCRIPTION': 'Italian'}\n",
      "{'DBA': 'NINOS RESTAURANT', 'BORO': 'Staten Island', 'CUISINE DESCRIPTION': 'Italian'}\n",
      "{'DBA': 'ILMULINO', 'BORO': 'Manhattan', 'CUISINE DESCRIPTION': 'Italian'}\n",
      "{'DBA': 'DA UMBERTO RESTAURANT', 'BORO': 'Manhattan', 'CUISINE DESCRIPTION': 'Italian'}\n",
      "{'DBA': 'MANGIA', 'BORO': 'Staten Island', 'CUISINE DESCRIPTION': 'Italian'}\n",
      "{'DBA': 'DA ANDREA', 'BORO': 'Manhattan', 'CUISINE DESCRIPTION': 'Italian'}\n",
      "{'DBA': '(LEWIS DRUG STORE) LOCANDA VINI E OLII', 'BORO': 'Brooklyn', 'CUISINE DESCRIPTION': 'Italian'}\n",
      "{'DBA': 'PAZZA NOTTE', 'BORO': 'Manhattan', 'CUISINE DESCRIPTION': 'Italian'}\n",
      "{'DBA': 'PIZZARTE', 'BORO': 'Manhattan', 'CUISINE DESCRIPTION': 'Italian'}\n",
      "{'DBA': 'SPEEDY ROMEO', 'BORO': 'Brooklyn', 'CUISINE DESCRIPTION': 'Italian'}\n",
      "{'DBA': 'FUMO', 'BORO': 'Manhattan', 'CUISINE DESCRIPTION': 'Italian'}\n",
      "{'DBA': 'ALICE', 'BORO': 'Manhattan', 'CUISINE DESCRIPTION': 'Italian'}\n",
      "{'DBA': 'FELICE', 'BORO': 'Manhattan', 'CUISINE DESCRIPTION': 'Italian'}\n",
      "{'DBA': 'BICE CUCINA', 'BORO': 'Manhattan', 'CUISINE DESCRIPTION': 'Italian'}\n",
      "{'DBA': \"PATSY'S PIZZERIA\", 'BORO': 'Queens', 'CUISINE DESCRIPTION': 'Italian'}\n",
      "{'DBA': \"VINNY'S OF CARROLL GARDEN RESTAURANT & LUNCHEONETT\", 'BORO': 'Brooklyn', 'CUISINE DESCRIPTION': 'Italian'}\n",
      "{'DBA': 'DA TOMMASSO', 'BORO': 'Manhattan', 'CUISINE DESCRIPTION': 'Italian'}\n",
      "{'DBA': 'ORTOMARE RISTORANTE PIZZERIA', 'BORO': 'Manhattan', 'CUISINE DESCRIPTION': 'Italian'}\n",
      "{'DBA': 'BICE CUCINA', 'BORO': 'Manhattan', 'CUISINE DESCRIPTION': 'Italian'}\n",
      "{'DBA': 'LINCONTRO BY ROCCO', 'BORO': 'Manhattan', 'CUISINE DESCRIPTION': 'Italian'}\n",
      "{'DBA': 'SERAFINA LUDLOW', 'BORO': 'Manhattan', 'CUISINE DESCRIPTION': 'Italian'}\n",
      "{'DBA': 'BAR CAMILLO', 'BORO': 'Brooklyn', 'CUISINE DESCRIPTION': 'Italian'}\n",
      "{'DBA': \"VINNY'S OF CARROLL GARDEN RESTAURANT & LUNCHEONETT\", 'BORO': 'Brooklyn', 'CUISINE DESCRIPTION': 'Italian'}\n",
      "{'DBA': \"FRANK'S PIZZERIA, DA FRANCO AND TONY RESTAURANT\", 'BORO': 'Bronx', 'CUISINE DESCRIPTION': 'Italian'}\n",
      "{'DBA': 'MASSERIA CAFFE', 'BORO': 'Manhattan', 'CUISINE DESCRIPTION': 'Italian'}\n",
      "{'DBA': 'SETTE MEZZO', 'BORO': 'Manhattan', 'CUISINE DESCRIPTION': 'Italian'}\n",
      "{'DBA': 'ORSO', 'BORO': 'Manhattan', 'CUISINE DESCRIPTION': 'Italian'}\n",
      "{'DBA': 'TOSCANA 49', 'BORO': 'Manhattan', 'CUISINE DESCRIPTION': 'Italian'}\n",
      "{'DBA': 'FASANO', 'BORO': 'Manhattan', 'CUISINE DESCRIPTION': 'Italian'}\n",
      "{'DBA': 'MASSERIA CAFFE', 'BORO': 'Manhattan', 'CUISINE DESCRIPTION': 'Italian'}\n",
      "{'DBA': 'OSTERIA SANTINA', 'BORO': 'Staten Island', 'CUISINE DESCRIPTION': 'Italian'}\n",
      "{'DBA': \"HARRY'S ITALIAN\", 'BORO': 'Manhattan', 'CUISINE DESCRIPTION': 'Italian'}\n",
      "{'DBA': \"LUIGI'S CATERING\", 'BORO': 'Queens', 'CUISINE DESCRIPTION': 'Italian'}\n",
      "{'DBA': 'EPISTROPHY CAFE', 'BORO': 'Manhattan', 'CUISINE DESCRIPTION': 'Italian'}\n",
      "{'DBA': 'GIANO', 'BORO': 'Manhattan', 'CUISINE DESCRIPTION': 'Italian'}\n",
      "{'DBA': 'PEPOLINO', 'BORO': 'Manhattan', 'CUISINE DESCRIPTION': 'Italian'}\n",
      "{'DBA': 'SAN GENNARO', 'BORO': 'Bronx', 'CUISINE DESCRIPTION': 'Italian'}\n",
      "{'DBA': \"ANTONIO'S TRATTORIA\", 'BORO': 'Bronx', 'CUISINE DESCRIPTION': 'Italian'}\n",
      "{'DBA': 'SIENA CAFE', 'BORO': 'Manhattan', 'CUISINE DESCRIPTION': 'Italian'}\n",
      "{'DBA': 'TESTO', 'BORO': 'Brooklyn', 'CUISINE DESCRIPTION': 'Italian'}\n",
      "{'DBA': 'PICCOLA CUCINA', 'BORO': 'Manhattan', 'CUISINE DESCRIPTION': 'Italian'}\n",
      "{'DBA': 'FRESCO', 'BORO': 'Manhattan', 'CUISINE DESCRIPTION': 'Italian'}\n",
      "{'DBA': 'PETALUMA', 'BORO': 'Manhattan', 'CUISINE DESCRIPTION': 'Italian'}\n",
      "{'DBA': 'WILD', 'BORO': 'Manhattan', 'CUISINE DESCRIPTION': 'Italian'}\n",
      "{'DBA': 'IL CORTILE RESTAURANT', 'BORO': 'Manhattan', 'CUISINE DESCRIPTION': 'Italian'}\n",
      "{'DBA': 'DA NONNA ROSA', 'BORO': 'Brooklyn', 'CUISINE DESCRIPTION': 'Italian'}\n",
      "{'DBA': 'PEPE GIALLO', 'BORO': 'Manhattan', 'CUISINE DESCRIPTION': 'Italian'}\n",
      "{'DBA': 'SOL MEXICAN COCINA', 'BORO': 'Manhattan', 'CUISINE DESCRIPTION': 'Mexican'}\n",
      "{'DBA': 'MITI MITI TAPERIA', 'BORO': 'Brooklyn', 'CUISINE DESCRIPTION': 'Mexican'}\n",
      "{'DBA': 'IXTA', 'BORO': 'Manhattan', 'CUISINE DESCRIPTION': 'Mexican'}\n",
      "{'DBA': 'EL TRI MX RESTAURANT & BAR CORP', 'BORO': 'Queens', 'CUISINE DESCRIPTION': 'Mexican'}\n",
      "{'DBA': 'NOCHE MEXICANA II', 'BORO': 'Manhattan', 'CUISINE DESCRIPTION': 'Mexican'}\n",
      "{'DBA': 'EL MAGUEY', 'BORO': 'Queens', 'CUISINE DESCRIPTION': 'Mexican'}\n",
      "{'DBA': 'BIRRIA LES TACOS', 'BORO': 'Manhattan', 'CUISINE DESCRIPTION': 'Mexican'}\n",
      "{'DBA': 'TACQUERIA FORT GREENE', 'BORO': 'Brooklyn', 'CUISINE DESCRIPTION': 'Mexican'}\n",
      "{'DBA': 'ANEJO TRIBECA', 'BORO': 'Manhattan', 'CUISINE DESCRIPTION': 'Mexican'}\n",
      "{'DBA': 'QUESADILLAS DONA MATY', 'BORO': 'Manhattan', 'CUISINE DESCRIPTION': 'Mexican'}\n",
      "{'DBA': 'CILANTRO EAST', 'BORO': 'Manhattan', 'CUISINE DESCRIPTION': 'Mexican'}\n",
      "{'DBA': 'SUPER BURRITO', 'BORO': 'Brooklyn', 'CUISINE DESCRIPTION': 'Mexican'}\n",
      "{'DBA': \"ROSIE'S\", 'BORO': 'Manhattan', 'CUISINE DESCRIPTION': 'Mexican'}\n",
      "{'DBA': 'FONDA', 'BORO': 'Manhattan', 'CUISINE DESCRIPTION': 'Mexican'}\n",
      "{'DBA': 'RANCHO ESTRELLA RESTAURANT', 'BORO': 'Bronx', 'CUISINE DESCRIPTION': 'Mexican'}\n",
      "{'DBA': 'LA PATRONA', 'BORO': 'Bronx', 'CUISINE DESCRIPTION': 'Mexican'}\n",
      "{'DBA': 'FLORES BRUNCH', 'BORO': 'Staten Island', 'CUISINE DESCRIPTION': 'Mexican'}\n",
      "{'DBA': 'EL AGUACATE BAR RESTAURANT', 'BORO': 'Bronx', 'CUISINE DESCRIPTION': 'Mexican'}\n",
      "{'DBA': 'ALEGRIA BAR & RESTAURANT', 'BORO': 'Brooklyn', 'CUISINE DESCRIPTION': 'Mexican'}\n",
      "{'DBA': 'WUARACHE RESTAURANT', 'BORO': 'Bronx', 'CUISINE DESCRIPTION': 'Mexican'}\n",
      "{'DBA': 'ENERGY JUICE BAR', 'BORO': 'Brooklyn', 'CUISINE DESCRIPTION': 'Mexican'}\n",
      "{'DBA': 'TAQUERIA EL FOGON', 'BORO': 'Brooklyn', 'CUISINE DESCRIPTION': 'Mexican'}\n",
      "{'DBA': 'NOCHES MEXICANAS', 'BORO': 'Bronx', 'CUISINE DESCRIPTION': 'Mexican'}\n",
      "{'DBA': 'FONDA OF CHELSEA', 'BORO': 'Manhattan', 'CUISINE DESCRIPTION': 'Mexican'}\n",
      "{'DBA': 'EL RANCHO DE MEXICO', 'BORO': 'Bronx', 'CUISINE DESCRIPTION': 'Mexican'}\n",
      "{'DBA': 'MEXICUE', 'BORO': 'Manhattan', 'CUISINE DESCRIPTION': 'Mexican'}\n",
      "{'DBA': \"FRIJOLITO'S RESTAURANT\", 'BORO': 'Manhattan', 'CUISINE DESCRIPTION': 'Mexican'}\n",
      "{'DBA': 'XOCHIMILCO FAMILY REST', 'BORO': 'Bronx', 'CUISINE DESCRIPTION': 'Mexican'}\n",
      "{'DBA': \"MOE'S SOUTHWEST GRILL\", 'BORO': 'Staten Island', 'CUISINE DESCRIPTION': 'Mexican'}\n",
      "{'DBA': 'TV EYE', 'BORO': 'Queens', 'CUISINE DESCRIPTION': 'Mexican'}\n",
      "{'DBA': \"CASTRO'S RESTAURANT\", 'BORO': 'Brooklyn', 'CUISINE DESCRIPTION': 'Mexican'}\n",
      "{'DBA': 'MAISONETTA', 'BORO': 'Bronx', 'CUISINE DESCRIPTION': 'Mexican'}\n",
      "{'DBA': 'LA COMADRE MEXICAN RESTAURANT & BAKERY', 'BORO': 'Queens', 'CUISINE DESCRIPTION': 'Mexican'}\n",
      "{'DBA': 'MITI MITI TAPERIA', 'BORO': 'Brooklyn', 'CUISINE DESCRIPTION': 'Mexican'}\n",
      "{'DBA': 'DOS TOROS', 'BORO': 'Manhattan', 'CUISINE DESCRIPTION': 'Mexican'}\n",
      "{'DBA': 'CAVA MEZZE GRILL', 'BORO': 'Manhattan', 'CUISINE DESCRIPTION': 'Mexican'}\n",
      "{'DBA': 'HOMEMADE TAQUERIA', 'BORO': 'Queens', 'CUISINE DESCRIPTION': 'Mexican'}\n",
      "{'DBA': 'TACOS SAN LUCAS II', 'BORO': 'Bronx', 'CUISINE DESCRIPTION': 'Mexican'}\n",
      "{'DBA': 'LA IGUANA AZUL RESTAURANT', 'BORO': 'Staten Island', 'CUISINE DESCRIPTION': 'Mexican'}\n",
      "{'DBA': 'YOLPAQUI TAQUERIA', 'BORO': 'Staten Island', 'CUISINE DESCRIPTION': 'Mexican'}\n",
      "{'DBA': 'PONCHE TAQUERIA', 'BORO': 'Manhattan', 'CUISINE DESCRIPTION': 'Mexican'}\n",
      "{'DBA': 'LAS CHATAS TAQUERIA & DELI GROCERY', 'BORO': 'Bronx', 'CUISINE DESCRIPTION': 'Mexican'}\n",
      "{'DBA': 'EL TEXANO RESTAURANT', 'BORO': 'Bronx', 'CUISINE DESCRIPTION': 'Mexican'}\n",
      "{'DBA': 'TAQUERIA ACATLAN', 'BORO': 'Brooklyn', 'CUISINE DESCRIPTION': 'Mexican'}\n",
      "{'DBA': 'ARRIBA ARRIBA', 'BORO': 'Manhattan', 'CUISINE DESCRIPTION': 'Mexican'}\n",
      "{'DBA': 'MEZCALS RESTAURANT', 'BORO': 'Brooklyn', 'CUISINE DESCRIPTION': 'Mexican'}\n",
      "{'DBA': 'LA PATRONA', 'BORO': 'Bronx', 'CUISINE DESCRIPTION': 'Mexican'}\n",
      "{'DBA': 'SERRANO SALSA', 'BORO': 'Manhattan', 'CUISINE DESCRIPTION': 'Mexican'}\n",
      "{'DBA': 'OLLIN', 'BORO': 'Manhattan', 'CUISINE DESCRIPTION': 'Mexican'}\n",
      "{'DBA': 'HOMEMADE TAQUERIA', 'BORO': 'Queens', 'CUISINE DESCRIPTION': 'Mexican'}\n",
      "{'DBA': \"SOFIA'S GUAC BAR\", 'BORO': 'Staten Island', 'CUISINE DESCRIPTION': 'Mexican'}\n",
      "{'DBA': 'EL MEXICANO RESTAURANTE AND CAFE', 'BORO': 'Brooklyn', 'CUISINE DESCRIPTION': 'Mexican'}\n",
      "{'DBA': 'EL REY DEL TACO', 'BORO': 'Queens', 'CUISINE DESCRIPTION': 'Mexican'}\n",
      "{'DBA': 'DONA ZITA MEXICAN FOOD', 'BORO': 'Brooklyn', 'CUISINE DESCRIPTION': 'Mexican'}\n",
      "{'DBA': 'TACO BELL', 'BORO': 'Manhattan', 'CUISINE DESCRIPTION': 'Mexican'}\n",
      "{'DBA': \"PABLITO'S TAQUERIA RESTAURANT\", 'BORO': 'Brooklyn', 'CUISINE DESCRIPTION': 'Mexican'}\n",
      "{'DBA': 'ASTORIA TACO FACTORY', 'BORO': 'Queens', 'CUISINE DESCRIPTION': 'Mexican'}\n",
      "{'DBA': 'TAQUERIA LUPITA II', 'BORO': 'Bronx', 'CUISINE DESCRIPTION': 'Mexican'}\n",
      "{'DBA': 'EL PORTON BAR & RESTAURANT', 'BORO': 'Manhattan', 'CUISINE DESCRIPTION': 'Mexican'}\n",
      "{'DBA': 'MIJO', 'BORO': 'Manhattan', 'CUISINE DESCRIPTION': 'Mexican'}\n",
      "{'DBA': 'THE RED GRILL MEXICAN RESTAURANT', 'BORO': 'Manhattan', 'CUISINE DESCRIPTION': 'Mexican'}\n",
      "{'DBA': 'RINCONCITO FAMILIAR MEXICAN CUISINE', 'BORO': 'Brooklyn', 'CUISINE DESCRIPTION': 'Mexican'}\n",
      "{'DBA': 'LUPITA RESTAURANT', 'BORO': 'Manhattan', 'CUISINE DESCRIPTION': 'Mexican'}\n",
      "{'DBA': 'HOT PEPPERS', 'BORO': 'Queens', 'CUISINE DESCRIPTION': 'Mexican'}\n",
      "{'DBA': 'EL MERO MERO', 'BORO': 'Queens', 'CUISINE DESCRIPTION': 'Mexican'}\n",
      "{'DBA': 'FAST & FRESH BURRITO DELI', 'BORO': 'Brooklyn', 'CUISINE DESCRIPTION': 'Mexican'}\n",
      "{'DBA': 'TACOBEES', 'BORO': 'Brooklyn', 'CUISINE DESCRIPTION': 'Mexican'}\n",
      "{'DBA': 'PINK TACO', 'BORO': 'Manhattan', 'CUISINE DESCRIPTION': 'Mexican'}\n",
      "{'DBA': 'DELICIAS MEXICANAS', 'BORO': 'Manhattan', 'CUISINE DESCRIPTION': 'Mexican'}\n",
      "{'DBA': 'ANTOJITOS ACATLAN', 'BORO': 'Brooklyn', 'CUISINE DESCRIPTION': 'Mexican'}\n",
      "{'DBA': 'TAQUERIA EMILIO 3', 'BORO': 'Brooklyn', 'CUISINE DESCRIPTION': 'Mexican'}\n",
      "{'DBA': 'MSMA PUEBLA', 'BORO': 'Bronx', 'CUISINE DESCRIPTION': 'Mexican'}\n",
      "{'DBA': 'VIRTUAL CRAVINGS', 'BORO': 'Brooklyn', 'CUISINE DESCRIPTION': 'Mexican'}\n",
      "{'DBA': 'TAQUERIA RESTAURANTE MI BARRIO', 'BORO': 'Brooklyn', 'CUISINE DESCRIPTION': 'Mexican'}\n",
      "{'DBA': 'LA FOGATA', 'BORO': 'Brooklyn', 'CUISINE DESCRIPTION': 'Mexican'}\n",
      "{'DBA': 'NUEVO MEXICO MEXICAN RESTAURANT', 'BORO': 'Brooklyn', 'CUISINE DESCRIPTION': 'Mexican'}\n",
      "{'DBA': 'RECUERDOS MEXICANOS', 'BORO': 'Staten Island', 'CUISINE DESCRIPTION': 'Mexican'}\n",
      "{'DBA': \"D'ANGELO'S PIZZA, PANCHO'S MEXICAN RESTAURANT\", 'BORO': 'Bronx', 'CUISINE DESCRIPTION': 'Mexican'}\n",
      "{'DBA': 'TAQUERIA PANTITLAN', 'BORO': 'Queens', 'CUISINE DESCRIPTION': 'Mexican'}\n",
      "{'DBA': 'BRASIER', 'BORO': 'Manhattan', 'CUISINE DESCRIPTION': 'Mexican'}\n",
      "{'DBA': 'BLUEBERRY', 'BORO': 'Brooklyn', 'CUISINE DESCRIPTION': 'Mexican'}\n",
      "{'DBA': 'LUCHADORES', 'BORO': 'Manhattan', 'CUISINE DESCRIPTION': 'Mexican'}\n",
      "{'DBA': \"FRESCO' S GRAND CANTINA\", 'BORO': 'Queens', 'CUISINE DESCRIPTION': 'Mexican'}\n",
      "{'DBA': 'QDOBA', 'BORO': 'Staten Island', 'CUISINE DESCRIPTION': 'Mexican'}\n",
      "{'DBA': \"GIOVANNI'S PIZZA & MEXICAN RESTAURANT\", 'BORO': 'Queens', 'CUISINE DESCRIPTION': 'Mexican'}\n",
      "{'DBA': \"LOLA'S\", 'BORO': 'Brooklyn', 'CUISINE DESCRIPTION': 'Mexican'}\n",
      "{'DBA': \"B'KLYN BURRO\", 'BORO': 'Brooklyn', 'CUISINE DESCRIPTION': 'Mexican'}\n",
      "{'DBA': 'MEXICAN DINER', 'BORO': 'Brooklyn', 'CUISINE DESCRIPTION': 'Mexican'}\n",
      "{'DBA': 'TULCINGO RESTAURANT', 'BORO': 'Queens', 'CUISINE DESCRIPTION': 'Mexican'}\n",
      "{'DBA': 'ANGELITOS BAKERY', 'BORO': 'Brooklyn', 'CUISINE DESCRIPTION': 'Mexican'}\n",
      "{'DBA': 'I X CAFE', 'BORO': 'Brooklyn', 'CUISINE DESCRIPTION': 'Mexican'}\n",
      "{'DBA': \"SPORTS BAR ATHEN'S GRILL\", 'BORO': 'Queens', 'CUISINE DESCRIPTION': 'Mexican'}\n",
      "{'DBA': 'TORO LOCO', 'BORO': 'Manhattan', 'CUISINE DESCRIPTION': 'Mexican'}\n",
      "{'DBA': 'COFFEE TIME', 'BORO': 'Brooklyn', 'CUISINE DESCRIPTION': 'Mexican'}\n",
      "{'DBA': 'CASA PUBLICA', 'BORO': 'Brooklyn', 'CUISINE DESCRIPTION': 'Mexican'}\n",
      "{'DBA': 'LA PATRONA', 'BORO': 'Bronx', 'CUISINE DESCRIPTION': 'Mexican'}\n",
      "{'DBA': 'COMPADRES MEXICAN FOOD', 'BORO': 'Queens', 'CUISINE DESCRIPTION': 'Mexican'}\n",
      "{'DBA': 'PARRILLADAS SUNRISE MEXICAN RESTAURANT BAR', 'BORO': 'Queens', 'CUISINE DESCRIPTION': 'Mexican'}\n",
      "{'DBA': 'NOCHE DE MARGARITAS RESTAURANT', 'BORO': 'Manhattan', 'CUISINE DESCRIPTION': 'Mexican'}\n",
      "{'DBA': 'TACOS EL COYOTE RESTAURANT', 'BORO': 'Bronx', 'CUISINE DESCRIPTION': 'Mexican'}\n",
      "{'DBA': 'ALMA NEGRA', 'BORO': 'Brooklyn', 'CUISINE DESCRIPTION': 'Mexican'}\n",
      "{'DBA': 'EL PARADOR CAFE', 'BORO': 'Manhattan', 'CUISINE DESCRIPTION': 'Mexican'}\n",
      "{'DBA': 'RINCONCITO FAMILIAR MEXICAN CUISINE', 'BORO': 'Brooklyn', 'CUISINE DESCRIPTION': 'Mexican'}\n",
      "{'DBA': 'AZUL TEQUILA MEXICAN RESTAURANT', 'BORO': 'Bronx', 'CUISINE DESCRIPTION': 'Mexican'}\n",
      "{'DBA': \"EMILY'S BAKERY\", 'BORO': 'Brooklyn', 'CUISINE DESCRIPTION': 'Mexican'}\n",
      "{'DBA': 'PIAXTLA ES MEXICO DELI', 'BORO': 'Brooklyn', 'CUISINE DESCRIPTION': 'Mexican'}\n",
      "{'DBA': 'TAQUERIA EMILIO', 'BORO': 'Manhattan', 'CUISINE DESCRIPTION': 'Mexican'}\n",
      "{'DBA': 'CAFE CON AMOR', 'BORO': 'Queens', 'CUISINE DESCRIPTION': 'Mexican'}\n",
      "{'DBA': 'BLUE AGAVE', 'BORO': 'Brooklyn', 'CUISINE DESCRIPTION': 'Mexican'}\n",
      "{'DBA': 'TAQUERIA CHILA', 'BORO': 'Queens', 'CUISINE DESCRIPTION': 'Mexican'}\n",
      "{'DBA': 'EL VAQUERITO', 'BORO': 'Queens', 'CUISINE DESCRIPTION': 'Mexican'}\n",
      "{'DBA': 'BLUE MAIZ', 'BORO': 'Manhattan', 'CUISINE DESCRIPTION': 'Mexican'}\n"
     ]
    }
   ],
   "source": [
    "query = {\n",
    "    \"query\": {\n",
    "        \"bool\": {\n",
    "            \"should\": [\n",
    "                {\"match\": {\"CUISINE DESCRIPTION\": \"Italian\"}},\n",
    "                {\"match\": {\"CUISINE DESCRIPTION\": \"Mexican\"}}\n",
    "            ],\n",
    "            \"minimum_should_match\": 1\n",
    "        }\n",
    "    },\n",
    "    \"_source\": [\"DBA\", \"BORO\", \"CUISINE DESCRIPTION\"],\n",
    "    \"size\": 200\n",
    "}\n",
    "\n",
    "response = client.search(index=nyc_index, body=query)\n",
    "print(response['hits']['total']['value'])\n",
    "for hit in response['hits']['hits']:\n",
    "    print(hit['_source'])"
   ]
  },
  {
   "cell_type": "markdown",
   "id": "4d6c3776-9c36-4b70-a2ed-1dc8fbb5fffc",
   "metadata": {},
   "source": [
    "#### Q11: Find all inspected restaurants that are not in Bronx."
   ]
  },
  {
   "cell_type": "code",
   "execution_count": 54,
   "id": "eca8515a-2151-4d3d-b1ef-231a484b079e",
   "metadata": {},
   "outputs": [
    {
     "name": "stdout",
     "output_type": "stream",
     "text": [
      "2285\n",
      "{'DBA': 'BOCCA DI BACCO', 'BORO': 'Manhattan'}\n",
      "{'DBA': 'SOL MEXICAN COCINA', 'BORO': 'Manhattan'}\n",
      "{'DBA': 'PERFECTO PIZZA & COFFEE SHOP', 'BORO': 'Queens'}\n",
      "{'DBA': 'JOOY TEA SHOPPE', 'BORO': 'Brooklyn'}\n",
      "{'DBA': 'MARGEZ GRILL HOUSE', 'BORO': 'Brooklyn'}\n",
      "{'DBA': 'MR. RICE CHINESE RESTAURANT', 'BORO': 'Staten Island'}\n",
      "{'DBA': 'MAD FOR CHICKEN', 'BORO': 'Brooklyn'}\n",
      "{'DBA': 'T-SWIRL CREPE', 'BORO': 'Queens'}\n",
      "{'DBA': 'MITI MITI TAPERIA', 'BORO': 'Brooklyn'}\n",
      "{'DBA': 'FIRECRACKER WINGS', 'BORO': 'Manhattan'}\n"
     ]
    }
   ],
   "source": [
    "query = {\n",
    "    \"query\": {\n",
    "        \"bool\": {\n",
    "            \"must\": [\n",
    "                {\"exists\": {\"field\": \"BORO\"}}\n",
    "            ],\n",
    "            \"must_not\": [\n",
    "                {\"match\": {\"BORO\": \"Bronx\"}}\n",
    "            ]\n",
    "        }\n",
    "    },\n",
    "    \"_source\": [\"DBA\", \"BORO\"]\n",
    "}\n",
    "\n",
    "response = client.search(index=nyc_index, body=query)\n",
    "print(response['hits']['total']['value'])\n",
    "for hit in response['hits']['hits']:\n",
    "    print(hit['_source'])"
   ]
  },
  {
   "cell_type": "code",
   "execution_count": null,
   "id": "64222902-b1d9-4e28-8d49-1476cbfae658",
   "metadata": {},
   "outputs": [],
   "source": []
  }
 ],
 "metadata": {
  "kernelspec": {
   "display_name": "Python 3 (ipykernel)",
   "language": "python",
   "name": "python3"
  },
  "language_info": {
   "codemirror_mode": {
    "name": "ipython",
    "version": 3
   },
   "file_extension": ".py",
   "mimetype": "text/x-python",
   "name": "python",
   "nbconvert_exporter": "python",
   "pygments_lexer": "ipython3",
   "version": "3.10.12"
  }
 },
 "nbformat": 4,
 "nbformat_minor": 5
}
