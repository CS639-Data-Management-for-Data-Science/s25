{
 "cells": [
  {
   "cell_type": "markdown",
   "id": "76b7259f-7636-4a5f-bc1d-14e53c20bc7b",
   "metadata": {},
   "source": [
    "## MongoDB 5"
   ]
  },
  {
   "cell_type": "code",
   "execution_count": null,
   "id": "ecf47526-0bd9-498e-aa07-b9b847c01746",
   "metadata": {},
   "outputs": [],
   "source": [
    "# import statements\n",
    "import os\n",
    "from pymongo import MongoClient\n",
    "import bson\n",
    "from datetime import datetime, timedelta\n",
    "\n",
    "import geopandas as gpd\n",
    "import matplotlib.pyplot as plt\n",
    "from shapely.geometry import Point"
   ]
  },
  {
   "cell_type": "markdown",
   "id": "b2dc037e-0ff1-4924-9186-6efbbf3dc6d7",
   "metadata": {},
   "source": [
    "### Connection establishment"
   ]
  },
  {
   "cell_type": "code",
   "execution_count": null,
   "id": "397cd947-3033-4fa1-b738-264ee76eeaef",
   "metadata": {},
   "outputs": [],
   "source": [
    "client = MongoClient('mongodb://localhost:27017/')"
   ]
  },
  {
   "cell_type": "markdown",
   "id": "b88db426-84b4-47d1-ab4d-0315309accf3",
   "metadata": {},
   "source": [
    "### Dropping a database: `dropDatabase(database)`"
   ]
  },
  {
   "cell_type": "code",
   "execution_count": null,
   "id": "84b092e4-3200-47b9-bb34-11d95dcd27d7",
   "metadata": {},
   "outputs": [],
   "source": [
    "client.drop_database('sample_airbnb')"
   ]
  },
  {
   "cell_type": "code",
   "execution_count": null,
   "id": "c6194705-c390-4290-8fd6-a411250b35a0",
   "metadata": {},
   "outputs": [],
   "source": [
    "db = client.sample_airbnb"
   ]
  },
  {
   "cell_type": "code",
   "execution_count": null,
   "id": "bb3ac0d2-fb9c-4741-9353-bbb33fe99069",
   "metadata": {},
   "outputs": [],
   "source": [
    "# directory where the JSON files are stored\n",
    "json_dir = 'sample_airbnb'\n",
    "json_files = [f for f in os.listdir(json_dir) if f.endswith(\".json\")]\n",
    "collections = [f.replace(\".json\", \"\") for f in json_files]\n",
    "collections"
   ]
  },
  {
   "cell_type": "code",
   "execution_count": null,
   "id": "2842f385-277e-43d5-8553-e162fbb59ccd",
   "metadata": {},
   "outputs": [],
   "source": [
    "for idx, json_file in enumerate(json_files):\n",
    "    with open(os.path.join(json_dir, json_file), 'r') as f:\n",
    "        for line in f:\n",
    "            data = bson.json_util.loads(line.strip())\n",
    "            db[collections[idx]].insert_one(data)\n",
    "        \n",
    "        print(f\"Loaded {json_file} into the '{collections[idx]}' collection.\")"
   ]
  },
  {
   "cell_type": "code",
   "execution_count": null,
   "id": "e185cfb0-4fc8-45dc-b16a-06188ef20b66",
   "metadata": {},
   "outputs": [],
   "source": [
    "db.list_collection_names()"
   ]
  },
  {
   "cell_type": "markdown",
   "id": "fd88fcdc-e55d-4a14-b427-9deb8e8e2733",
   "metadata": {},
   "source": [
    "### Let's review `$elemMatch` operator\n",
    "\n",
    "- `$elemMatch`: Selects documents if at least one element in the array field matches all the specified $elemMatch conditions."
   ]
  },
  {
   "cell_type": "markdown",
   "id": "588d9514-e323-45c5-9725-a7fd42c92e2d",
   "metadata": {},
   "source": [
    "### Q: Find all listing names and amenities where at least one amenity contains \"wifi\" (case-insensitive) and another contains \"Parking\" (case-insensitive)."
   ]
  },
  {
   "cell_type": "code",
   "execution_count": null,
   "id": "ab3c172a-2a12-4de6-81f2-0849c2e284d3",
   "metadata": {},
   "outputs": [],
   "source": [
    "cursor = db.listingsAndReviews.find(\n",
    "    {\n",
    "        \"amenities\": {\n",
    "            \"$elemMatch\": { \"$regex\": \"wifi\", \"$options\": \"i\" },\n",
    "            \"$elemMatch\": { \"$regex\": \"Parking\", \"$options\": \"i\" }\n",
    "        }\n",
    "    },\n",
    "    {\"name\": 1, \"amenities\": 1, \"_id\": 0}\n",
    ")\n",
    "\n",
    "listings = list(cursor)\n",
    "listings[:1]"
   ]
  },
  {
   "cell_type": "markdown",
   "id": "6d7e7e94-a5b5-438b-9864-26df1a6cbb00",
   "metadata": {},
   "source": [
    "### Aggregation Pipelines\n",
    "\n",
    "- An aggregation pipeline consists of one or more stages that process documents:\n",
    "    - Each stage performs an operation on the input documents. For example, a stage can filter documents, group documents, and calculate values.\n",
    "    - The documents that are output from a stage are passed to the next stage.\n",
    "    - An aggregation pipeline can return results for groups of documents. For example, return the total, average, maximum, and minimum values.\n",
    "\n",
    "### `db.collection.aggregate(pipeline, options)`\n",
    "\n",
    "- Calculates aggregate values for the data in a collection or a view.\n",
    "- Returns:\t\n",
    "    - A cursor for the documents produced by the final stage of the aggregation pipeline.\n",
    "    - If the pipeline includes the `explain` option, the query returns a document that provides details on the processing of the aggregation operation.\n",
    "\n",
    "### Building a pipeline\n",
    "\n",
    "### 1. `$match`\n",
    "- Filters documents based on a specified query predicate. Matched documents are passed to the next pipeline stage.\n",
    "- Syntax: `{ $match: { <query predicate> } }`\n",
    "\n",
    "### 2. `$group`\n",
    "- The $group stage separates documents into groups according to a \"group key\". The output is one document for each unique group key.\n",
    "- A group key is often a field, or group of fields. The group key can also be the result of an expression. Use the `_id` field in the `$group` pipeline stage to set the group key. \n",
    "- In the `$group` stage output, the `_id` field is set to the group key for that document.\n",
    "- Syntax:\n",
    "```\n",
    "{\n",
    " $group:\n",
    "   {\n",
    "     _id: <expression>, // Group key\n",
    "     <field1>: { <accumulator1> : <expression1> },\n",
    "     ...\n",
    "   }\n",
    " }\n",
    "```\n",
    "\n",
    "### 3. `$project`\n",
    "- Passes along the documents with the requested fields to the next stage in the pipeline. The specified fields can be existing fields from the input documents or newly computed fields."
   ]
  },
  {
   "cell_type": "markdown",
   "id": "24b7a017-1e42-4c1f-a97c-54e38c1e1834",
   "metadata": {},
   "source": [
    "#### Q: Find the average price (rounded to two decimal places) of all \"Entire home/apt\" (`room_type`) listings. "
   ]
  },
  {
   "cell_type": "markdown",
   "id": "ef864cb5-0f4a-4c2c-8244-5dee61086af3",
   "metadata": {},
   "source": [
    "What kind of grouping do we want to create here? All documents should be part of a single group because we are querying based on a specific room type. How do we mention this? \n",
    "\n",
    "- `_id: None` - meaning that all documents are treated as belonging to a single group, effectively removing the grouping by any field and aggregating over the entire dataset."
   ]
  },
  {
   "cell_type": "markdown",
   "id": "6b7a6eea-c815-41fa-8064-38b23546b9e1",
   "metadata": {},
   "source": [
    "**Recommendation**: test individual stages of the pipeline to make sure you are making progress. You can easily test the `$match` stage by using an equivalent `find` method call."
   ]
  },
  {
   "cell_type": "code",
   "execution_count": null,
   "id": "da210379-a6e3-4a9c-8591-4ff0b558c7ef",
   "metadata": {},
   "outputs": [],
   "source": [
    "pipeline = [\n",
    "    {\"$match\": {\"room_type\": \"Entire home/apt\"}},\n",
    "    {\n",
    "        \"$group\": {\n",
    "            \"_id\": None, # Group all documents\n",
    "            \"average_price\": {\"$avg\": \"$price\"}\n",
    "        }\n",
    "    },\n",
    "    {\n",
    "        \"$project\": {\n",
    "            \"_id\": 0,\n",
    "            \"average_price\": {\"$round\": [\"$average_price\", 2]}\n",
    "        }\n",
    "    }\n",
    "]\n",
    "avg_price = list(db.listingsAndReviews.aggregate(pipeline))\n",
    "avg_price"
   ]
  },
  {
   "cell_type": "code",
   "execution_count": null,
   "id": "b3bfb39f-91e9-4ad3-a84d-5d8fad66fe5b",
   "metadata": {},
   "outputs": [],
   "source": [
    "entire_homes = list(db.listingsAndReviews.find(\n",
    "    {\"room_type\": \"Entire home/apt\"},\n",
    "    {\"name\": 1, \"room_type\": 1, \"_id\": 0}\n",
    "))\n",
    "entire_homes[:10]"
   ]
  },
  {
   "cell_type": "code",
   "execution_count": null,
   "id": "65d116ca-b201-4802-9645-41d16fde0984",
   "metadata": {},
   "outputs": [],
   "source": [
    "pipeline = [\n",
    "    {\"$match\": {\"room_type\": \"Entire home/apt\"}},\n",
    "    {\n",
    "        \"$group\": {\n",
    "            \"_id\": None, # Group all documents\n",
    "            \"average_price\": {\"$avg\": \"$price\"}\n",
    "        }\n",
    "    }\n",
    "]\n",
    "avg_price = list(db.listingsAndReviews.aggregate(pipeline))\n",
    "avg_price"
   ]
  },
  {
   "cell_type": "code",
   "execution_count": null,
   "id": "01ad8d5a-309b-4788-8b35-9cebcd003183",
   "metadata": {},
   "outputs": [],
   "source": [
    "pipeline = [\n",
    "    {\"$match\": {\"room_type\": \"Entire home/apt\"}},\n",
    "    {\n",
    "        \"$group\": {\n",
    "            \"_id\": None, # Group all documents\n",
    "            \"average_price\": {\"$avg\": \"$price\"}\n",
    "        }\n",
    "    },\n",
    "    {\n",
    "        \"$project\": {\n",
    "            \"_id\": 0,\n",
    "            \"average_price\": {\"$round\": [\"$average_price\", 2]}\n",
    "        }\n",
    "    }\n",
    "]\n",
    "avg_price = list(db.listingsAndReviews.aggregate(pipeline))\n",
    "avg_price"
   ]
  },
  {
   "cell_type": "markdown",
   "id": "f8cd9d20-1ed6-46a4-86e8-18f1be891e60",
   "metadata": {},
   "source": [
    "#### Q: Find the average price (rounded to two decimal places) of all `room_type` listings. "
   ]
  },
  {
   "cell_type": "code",
   "execution_count": null,
   "id": "ac145e4c-332a-4c3e-86e5-072eb0682567",
   "metadata": {},
   "outputs": [],
   "source": [
    "pipeline = [\n",
    "    {\n",
    "        \"$group\": {\n",
    "            \"_id\": \"$room_type\",  # Group by room_type\n",
    "            \"average_price\": {\"$avg\": \"$price\"}  \n",
    "        }\n",
    "    }\n",
    "]\n",
    "avg_price = list(db.listingsAndReviews.aggregate(pipeline))\n",
    "avg_price"
   ]
  },
  {
   "cell_type": "code",
   "execution_count": null,
   "id": "49c5b327-1ca1-4eb8-80c1-f3fcab31cf0b",
   "metadata": {},
   "outputs": [],
   "source": [
    "pipeline = [\n",
    "    {\n",
    "        \"$group\": {\n",
    "            \"_id\": \"$room_type\",  # Group by room_type\n",
    "            \"average_price\": {\"$avg\": \"$price\"}  \n",
    "        }\n",
    "    },\n",
    "    {\n",
    "        \"$project\": {\n",
    "            \"_id\": 1,  # Include room_type in the result\n",
    "            \"average_price\": {\"$round\": [\"$average_price\", 2]}  \n",
    "        }\n",
    "    }\n",
    "]\n",
    "avg_price = list(db.listingsAndReviews.aggregate(pipeline))\n",
    "avg_price"
   ]
  },
  {
   "cell_type": "markdown",
   "id": "e4fb8842-cece-4567-858f-7e85ac9239de",
   "metadata": {},
   "source": [
    "#### Q: Find the average price per bedroom for each property type."
   ]
  },
  {
   "cell_type": "code",
   "execution_count": null,
   "id": "578ae67a-fd4c-4efc-9279-b8dd0d8e7fbd",
   "metadata": {},
   "outputs": [],
   "source": [
    "pipeline = [\n",
    "    {\n",
    "        \"$group\": {\n",
    "            \"_id\": { # Group by property_type and bedrooms\n",
    "                \"property_type\": \"$property_type\",\n",
    "                \"bedrooms\": \"$bedrooms\"\n",
    "            },\n",
    "            \"avg_price_per_bedroom\": {\"$avg\": \"$price\"}\n",
    "        }\n",
    "    },\n",
    "    {\n",
    "        \"$project\": {\n",
    "            \"_id\": 1,\n",
    "            \"avg_price_per_bedroom\": {\"$round\": [\"$avg_price_per_bedroom\", 2]}\n",
    "        }    \n",
    "    }\n",
    "]\n",
    "\n",
    "avg_price_per_bedroom = list(db.listingsAndReviews.aggregate(pipeline))\n",
    "avg_price_per_bedroom[:5]"
   ]
  },
  {
   "cell_type": "markdown",
   "id": "4a0914c0-9be4-4adf-b58f-625536dd5644",
   "metadata": {},
   "source": [
    "#### Q: Find the average price per bedroom for each property type, and then calculate the total average price across all property types."
   ]
  },
  {
   "cell_type": "code",
   "execution_count": null,
   "id": "71cfedb9-4e21-4aa6-9b0c-67b67dc82988",
   "metadata": {},
   "outputs": [],
   "source": [
    "pipeline = [\n",
    "    {\n",
    "        \"$group\": {\n",
    "            \"_id\": { # Group by property_type and bedrooms\n",
    "                \"property_type\": \"$property_type\",\n",
    "                \"bedrooms\": \"$bedrooms\"\n",
    "            },\n",
    "            \"avg_price_per_bedroom\": {\"$avg\": \"$price\"}\n",
    "        }\n",
    "    },\n",
    "    {\n",
    "        \"$group\": {\n",
    "            \"_id\": \"$_id.property_type\",\n",
    "            \"avg_price_per_property_type\": {\"$avg\": \"$avg_price_per_bedroom\"}\n",
    "        }\n",
    "    },\n",
    "    {\n",
    "        \"$project\": {\n",
    "            \"_id\": 1,\n",
    "            \"avg_price_per_property_type\": {\"$round\": [\"$avg_price_per_property_type\", 2]}\n",
    "        }    \n",
    "    }\n",
    "]\n",
    "\n",
    "avg_price_per_bedroom = list(db.listingsAndReviews.aggregate(pipeline))\n",
    "avg_price_per_bedroom"
   ]
  },
  {
   "cell_type": "markdown",
   "id": "da090f26-5063-47e4-9b36-9dcbd7668e32",
   "metadata": {},
   "source": [
    "#### Q: Find the top 2 hosts who have the most listings."
   ]
  },
  {
   "cell_type": "markdown",
   "id": "813be3ef-2e7a-4b4a-8ffc-55cd058ed604",
   "metadata": {},
   "source": [
    "How can you explore a complex document?"
   ]
  },
  {
   "cell_type": "code",
   "execution_count": null,
   "id": "85c24849-9e30-4bb7-8bee-1048a4495743",
   "metadata": {},
   "outputs": [],
   "source": [
    "single_listing = list(db.listingsAndReviews.find().limit(1))[0]\n",
    "\n",
    "for field in single_listing:\n",
    "    #print(field)\n",
    "    if \"host\" in field:\n",
    "        print(single_listing[field])"
   ]
  },
  {
   "cell_type": "markdown",
   "id": "db913440-b3d0-411b-a2e6-54cf3b6a1a29",
   "metadata": {},
   "source": [
    "### More pipeline stages\n",
    "\n",
    "4. `$sort`: Reorders the document stream by a specified sort key. Only the order changes; the documents remain unmodified. For each input document, outputs one document.\n",
    "5. `$limit`: Passes the first n documents unmodified to the pipeline where n is the specified limit. For each input document, outputs either one document (for the first n documents) or zero documents (after the first n documents).\n",
    "- documentation: https://www.mongodb.com/docs/manual/reference/operator/aggregation-pipeline/#std-label-aggregation-pipeline-operator-reference"
   ]
  },
  {
   "cell_type": "code",
   "execution_count": null,
   "id": "ade7af75-95cc-44fc-912a-c618b0dc8521",
   "metadata": {},
   "outputs": [],
   "source": [
    "pipeline = [\n",
    "    {\n",
    "        \"$group\": {\n",
    "            \"_id\": \"$host.host_name\",\n",
    "            \"total_listings\": {\"$sum\": 1}\n",
    "        }\n",
    "    }\n",
    "]\n",
    "top_hosts = list(db.listingsAndReviews.aggregate(pipeline))\n",
    "top_hosts[:5]"
   ]
  },
  {
   "cell_type": "code",
   "execution_count": null,
   "id": "88f0c8f8-e529-4e90-a546-88d6a6f1bf13",
   "metadata": {},
   "outputs": [],
   "source": [
    "natalie_listings = list(db.listingsAndReviews.find(\n",
    "    {'host.host_name': 'Natalie'},\n",
    "    {'name': 1, 'host': 1, '_id': 0}\n",
    "))\n",
    "#natalie_listings"
   ]
  },
  {
   "cell_type": "code",
   "execution_count": null,
   "id": "fddece0f-a5c1-42af-a424-6f4821b1280d",
   "metadata": {},
   "outputs": [],
   "source": [
    "pipeline = [\n",
    "    {\n",
    "        \"$group\": {\n",
    "            \"_id\": \"$host.host_name\",\n",
    "            \"total_listings\": {\"$sum\": 1}\n",
    "        }\n",
    "    },\n",
    "    {\"$sort\": {\"total_listings\": -1, \"_id\": 1}},\n",
    "    {\"$limit\": 2}\n",
    "]\n",
    "top_hosts = list(db.listingsAndReviews.aggregate(pipeline))\n",
    "top_hosts"
   ]
  },
  {
   "cell_type": "markdown",
   "id": "993f445c-f9df-46a7-8d4f-ae7ee9605eba",
   "metadata": {},
   "source": [
    "### More pipeline stages\n",
    "\n",
    "6. `$lookup`:\n",
    "   - Performs a left outer join to another collection in the same database to filter in documents from the \"joined\" collection for processing.\n",
    "   - The $lookup stage adds a new array field to each input document.\n",
    "   - The new array field contains the matching documents from the \"joined\" collection. \n",
    "   - Syntax:\n",
    "```\n",
    "{\n",
    "   $lookup:\n",
    "     {\n",
    "       from: <collection to join>,\n",
    "       localField: <field from the input documents>,\n",
    "       foreignField: <field from the documents of the \"from\" collection>,\n",
    "       as: <output array field>\n",
    "     }\n",
    "}\n",
    "```\n",
    "\n",
    "7. `$unwind`: Deconstructs an array field from the input documents to output a document for each element. Each output document replaces the array with an element value. For each input document, outputs n documents where n is the number of array elements and can be zero for an empty array.\n",
    "    - Syntax: `{ $unwind: <field path> }`"
   ]
  },
  {
   "cell_type": "markdown",
   "id": "ae4db76e-b411-4dc1-87c2-c9cb1017db5a",
   "metadata": {},
   "source": [
    "#### Q: List all accounts with customer names and corresponding limits."
   ]
  },
  {
   "cell_type": "code",
   "execution_count": null,
   "id": "1ce453cd-d5e4-472a-ac37-29e522748113",
   "metadata": {},
   "outputs": [],
   "source": [
    "db = client.sample_analytics"
   ]
  },
  {
   "cell_type": "code",
   "execution_count": null,
   "id": "5aa9c379-bb8d-4cb9-aa08-a7b86a26ed05",
   "metadata": {},
   "outputs": [],
   "source": [
    "db.accounts.find_one()"
   ]
  },
  {
   "cell_type": "code",
   "execution_count": null,
   "id": "53da3286-ae92-40ab-b4ba-b5c4cdc04320",
   "metadata": {},
   "outputs": [],
   "source": [
    "db.customers.find_one()"
   ]
  },
  {
   "cell_type": "code",
   "execution_count": null,
   "id": "70151f6c-147d-42c4-a92c-e4ee058a0fdf",
   "metadata": {},
   "outputs": [],
   "source": [
    "pipeline = [\n",
    "    {\n",
    "        '$lookup': {\n",
    "            'from': 'customers',             \n",
    "            'localField': 'account_id',       \n",
    "            'foreignField': 'accounts',  \n",
    "            'as': 'account_details'         \n",
    "        }\n",
    "    }\n",
    "]\n",
    "\n",
    "merged_results = list(db.accounts.aggregate(pipeline))\n",
    "first = merged_results[0]\n",
    "first"
   ]
  },
  {
   "cell_type": "code",
   "execution_count": null,
   "id": "063bf090-6904-4d68-9370-5d6f305ddff3",
   "metadata": {},
   "outputs": [],
   "source": [
    "pipeline = [\n",
    "    {\n",
    "        '$lookup': {\n",
    "            'from': 'customers',             \n",
    "            'localField': 'account_id',       \n",
    "            'foreignField': 'accounts',  \n",
    "            'as': 'account_details'         \n",
    "        }\n",
    "    },\n",
    "    {\n",
    "        '$unwind': '$account_details'       \n",
    "    },\n",
    "]\n",
    "\n",
    "merged_results = list(db.accounts.aggregate(pipeline))\n",
    "first = merged_results[0]\n",
    "first"
   ]
  },
  {
   "cell_type": "code",
   "execution_count": null,
   "id": "2188537d-7c20-40eb-aff5-139f52010358",
   "metadata": {},
   "outputs": [],
   "source": [
    "pipeline = [\n",
    "    {\n",
    "        '$lookup': {\n",
    "            'from': 'customers',             \n",
    "            'localField': 'account_id',       \n",
    "            'foreignField': 'accounts',  \n",
    "            'as': 'account_details'         \n",
    "        }\n",
    "    },\n",
    "    {\n",
    "        '$unwind': '$account_details'       \n",
    "    },\n",
    "    {\n",
    "        '$project': {                       \n",
    "            '_id': 0,                       \n",
    "            'account_details.name': 1,                      \n",
    "            'account_id': 1, \n",
    "            'limit': 1       \n",
    "        }\n",
    "    }\n",
    "]\n",
    "\n",
    "merged_results = list(db.accounts.aggregate(pipeline))\n",
    "first = merged_results[0]\n",
    "print(f\"Customer Name: {first['account_details']['name']}, \\\n",
    "Account ID: {first['account_id']}, \\\n",
    "Limit: {first['limit']}\")"
   ]
  },
  {
   "cell_type": "markdown",
   "id": "66e9196b-25bd-4127-a2db-41df09155d65",
   "metadata": {},
   "source": [
    "Let's try this the other way around with respect to the outer join."
   ]
  },
  {
   "cell_type": "code",
   "execution_count": null,
   "id": "ad4ad18e-d61a-47fe-b110-97e7338f2581",
   "metadata": {},
   "outputs": [],
   "source": [
    "pipeline = [\n",
    "    {\n",
    "        '$lookup': {\n",
    "            'from': 'accounts',             \n",
    "            'localField': 'accounts',       \n",
    "            'foreignField': 'account_id',  \n",
    "            'as': 'account_details'         \n",
    "        }\n",
    "    }\n",
    "]\n",
    "\n",
    "merged_results = list(db.customers.aggregate(pipeline))\n",
    "first = merged_results[0]\n",
    "first"
   ]
  },
  {
   "cell_type": "code",
   "execution_count": null,
   "id": "25d49fa4-e2d3-42f7-91d7-d925e43f00d6",
   "metadata": {},
   "outputs": [],
   "source": [
    "pipeline = [\n",
    "    {\n",
    "        '$lookup': {\n",
    "            'from': 'accounts',             \n",
    "            'localField': 'accounts',       \n",
    "            'foreignField': 'account_id',  \n",
    "            'as': 'account_details'         \n",
    "        }\n",
    "    },\n",
    "    {\n",
    "        '$unwind': '$account_details'       \n",
    "    },\n",
    "    {\n",
    "        '$project': {                       \n",
    "            '_id': 0,                       \n",
    "            'name': 1,                      \n",
    "            'account_details.account_id': 1, \n",
    "            'account_details.limit': 1       \n",
    "        }\n",
    "    }\n",
    "]\n",
    "\n",
    "merged_results = list(db.customers.aggregate(pipeline))\n",
    "\n",
    "first = merged_results[0]\n",
    "print(f\"Customer Name: {first['name']}, \\\n",
    "Account ID: {first['account_details']['account_id']}, \\\n",
    "Limit: {first['account_details']['limit']}\")"
   ]
  },
  {
   "cell_type": "markdown",
   "id": "253b504f-17cf-4f91-8165-73f5b6dea55d",
   "metadata": {},
   "source": [
    "### Intuition behind usage of `$` sign with field name\n",
    "\n",
    "- `$match`: No, when using existing field values. Yes, inside expressions.\n",
    "- `$group`: Yes, when using existing field values. No, when defining new fields.\n",
    "- `$project`: No, when using existing field without changing its name. Yes, when defining new fields or constants.\n",
    "- `$sort`: No, when using existing field values.\n",
    "- `$lookup`: No, when using existing fields (for both collections)\n",
    "- `$unwind`: Yes, when using existing field values. "
   ]
  },
  {
   "cell_type": "markdown",
   "id": "57112f4f-27c0-4776-8ee2-d9a69256527e",
   "metadata": {},
   "source": [
    "### More pipeline stages\n",
    "\n",
    "8. `$addFields`: Adds new fields to documents. Similar to `$project`, `$addFields` reshapes each document in the stream; specifically, by adding new fields to output documents that contain both the existing fields from the input documents and the newly added fields."
   ]
  },
  {
   "cell_type": "markdown",
   "id": "a09f0086-6042-425b-a736-785bf1e30311",
   "metadata": {},
   "source": [
    "### `$cond (aggregation)`\n",
    "\n",
    "- Evaluates a boolean expression to return one of the two specified return expressions.\n",
    "- Syntax:\n",
    "```{ $cond: { if: <boolean-expression>, then: <true-case>, else: <false-case> } }```\n",
    "\n",
    "or\n",
    "\n",
    "```{ $cond: [ <boolean-expression>, <true-case>, <false-case> ] }```"
   ]
  },
  {
   "cell_type": "markdown",
   "id": "1bd01212-8d10-4602-85bf-b145fe33289f",
   "metadata": {},
   "source": [
    "#### Q: Add a field called \"account_status\" with value \"High\" if account limit is greater than 9000 and \"Low\" otherwise."
   ]
  },
  {
   "cell_type": "code",
   "execution_count": null,
   "id": "20ab6593-925f-47fb-8b52-066cf0140e3b",
   "metadata": {},
   "outputs": [],
   "source": [
    "pipeline = [\n",
    "    {\n",
    "        '$addFields': {\n",
    "            'account_status': {             \n",
    "                '$cond': {                  \n",
    "                    'if': { '$gt': ['$limit', 9000] },  \n",
    "                    'then': 'High',         \n",
    "                    'else': 'Low'           \n",
    "                }\n",
    "            }\n",
    "        }\n",
    "    }\n",
    "]\n",
    "\n",
    "accounts = list(db.accounts.aggregate(pipeline))\n",
    "accounts[:2]"
   ]
  },
  {
   "cell_type": "markdown",
   "id": "297bf8d7-d7ab-49e0-9b68-487b5f5375e7",
   "metadata": {},
   "source": [
    "### More about array methods\n",
    "\n",
    "- `$addToSet`: The `$addToSet` operator adds a value to an array unless the value is already present, in which case $addToSet does nothing to that array."
   ]
  },
  {
   "cell_type": "markdown",
   "id": "9dd124c2-1bfd-4a77-aa60-d206e70b27c1",
   "metadata": {},
   "source": [
    "### Geospatial Query Operators\n",
    "\n",
    "- documentation: https://www.mongodb.com/docs/manual/reference/operator/query-geospatial/\n",
    "\n",
    "### Query selectors\n",
    "\n",
    "- `$geoIntersects`: Selects geometries that intersect with a GeoJSON geometry. The 2dsphere index supports `$geoIntersects`.\n",
    "- `$geoWithin`: Selects geometries within a bounding GeoJSON geometry. The 2dsphere and 2d indexes support `$geoWithin`.\n",
    "- `$near`: Returns geospatial objects in proximity to a point. Requires a geospatial index. The 2dsphere and 2d indexes support `$near`.\n",
    "- `$nearSphere`:Returns geospatial objects in proximity to a point on a sphere. Requires a geospatial index. The 2dsphere and 2d indexes support `$nearSphere`.\n",
    "\n",
    "### Geometry Specifiers\n",
    "\n",
    "- `$geometry`: The `$geometry` operator specifies a GeoJSON geometry for use with the following geospatial query operators: `$geoWithin`, `$geoIntersects`, `$near`, and `$nearSphere`. `$geometry` uses EPSG:4326 as the default coordinate reference system (CRS).\n",
    "- `$maxDistance`: Specifies a maximum distance to limit the results of `$near` and `$nearSphere` queries. The 2dsphere and 2d indexes support `$maxDistance`."
   ]
  },
  {
   "cell_type": "markdown",
   "id": "af5dc172-95f9-4068-81dd-7d5fb1221677",
   "metadata": {},
   "source": [
    "Let's go back to analyzing AirBnb dastaset."
   ]
  },
  {
   "cell_type": "code",
   "execution_count": null,
   "id": "eb7e49c1-46ea-456f-abf5-976693682044",
   "metadata": {},
   "outputs": [],
   "source": [
    "db = client.sample_airbnb"
   ]
  },
  {
   "cell_type": "code",
   "execution_count": null,
   "id": "373c7959-217d-4169-98c3-9dc76a9e3867",
   "metadata": {},
   "outputs": [],
   "source": [
    "def plot_listings(listings, map_type, filename):\n",
    "    assert map_type in ['hi', 'nyc']\n",
    "    \n",
    "    gdf = gpd.GeoDataFrame(listings, geometry=gpd.points_from_xy(\n",
    "        [listing['address']['location']['coordinates'][0] for listing in listings],\n",
    "        [listing['address']['location']['coordinates'][1] for listing in listings]\n",
    "    ))\n",
    "\n",
    "    if map_type == 'hi':\n",
    "        geo_map = gpd.read_file(\"hawaii_limits.geojson\")\n",
    "    elif map_type == 'nyc':\n",
    "        geo_map = gpd.read_file(\"nyc_limits.geojson\")\n",
    "    gdf = gdf.set_crs(geo_map.crs)\n",
    "    \n",
    "    ax = geo_map.plot(figsize=(10, 6), color='lightgray', edgecolor='black')\n",
    "    gdf.plot(ax=ax, marker='o', color='red', markersize=5)\n",
    "    plt.title(\"Airbnb Listing Locations\")\n",
    "\n",
    "    plt.grid(True)\n",
    "    plt.savefig(f'{filename}.png')\n",
    "    plt.show()"
   ]
  },
  {
   "cell_type": "markdown",
   "id": "9138ba31-1fd6-40d0-bb3b-d3d88ae6eee4",
   "metadata": {},
   "source": [
    "#### Q: Find all listings located in Hawaii and plot them."
   ]
  },
  {
   "cell_type": "code",
   "execution_count": null,
   "id": "02a88637-3b1f-4970-9e3d-3f4b52019007",
   "metadata": {},
   "outputs": [],
   "source": [
    "db.listingsAndReviews.find_one({\"address.country\": \"United States\"}, {\"address\"})"
   ]
  },
  {
   "cell_type": "code",
   "execution_count": null,
   "id": "9e01e0d9-38b0-44fb-943c-a49c3c024395",
   "metadata": {},
   "outputs": [],
   "source": [
    "hi_listings = list(db.listingsAndReviews.find({\n",
    "    \"address.street\": {\"$regex\": \"HI, United States$\"}\n",
    "}))\n",
    "\n",
    "plot_listings(hi_listings, map_type='hi', filename='airbnb_hi')"
   ]
  },
  {
   "cell_type": "markdown",
   "id": "5f5d7dde-737a-4c1a-bcb2-2efdf2684ba3",
   "metadata": {},
   "source": [
    "### `db.collection.createIndex( { <location field> : \"2dsphere\" } )`\n",
    "\n",
    "- `2dsphere` indexes support queries that calculate geometries on an earth-like sphere.\n",
    "- documentation: https://www.mongodb.com/docs/manual/geospatial-queries/#std-label-index-feature-geospatial"
   ]
  },
  {
   "cell_type": "markdown",
   "id": "d0b61015-a0d2-4736-8b82-3ad9159bf9c1",
   "metadata": {},
   "source": [
    "#### Q: Find listings within 5 km of Central Park (NYC) and plot them."
   ]
  },
  {
   "cell_type": "code",
   "execution_count": null,
   "id": "37fd26dc-2d94-4c46-a2cc-c7a1ea70b285",
   "metadata": {},
   "outputs": [],
   "source": [
    "# Longitude, Latitude for Central Park\n",
    "coordinates = [-73.9654, 40.7851]  \n",
    "\n",
    "# Create a geospatial index on the location field of the listings\n",
    "db.listingsAndReviews.create_index({\"address.location\": \"2dsphere\"})\n",
    "\n",
    "nearest_listings = list(db.listingsAndReviews.find({\n",
    "    \"address.location\": {\n",
    "        \"$near\": {\n",
    "            \"$geometry\": {\n",
    "                \"type\": \"Point\",\n",
    "                \"coordinates\": coordinates\n",
    "            },\n",
    "            \"$maxDistance\": 5000  \n",
    "        }\n",
    "    }\n",
    "}))\n",
    "\n",
    "plot_listings(nearest_listings, map_type='nyc', filename='airbnb_nyc_nearest')"
   ]
  },
  {
   "cell_type": "code",
   "execution_count": null,
   "id": "80751974-94b0-4e17-9ff4-1025ad32cb9d",
   "metadata": {},
   "outputs": [],
   "source": []
  }
 ],
 "metadata": {
  "kernelspec": {
   "display_name": "Python 3 (ipykernel)",
   "language": "python",
   "name": "python3"
  },
  "language_info": {
   "codemirror_mode": {
    "name": "ipython",
    "version": 3
   },
   "file_extension": ".py",
   "mimetype": "text/x-python",
   "name": "python",
   "nbconvert_exporter": "python",
   "pygments_lexer": "ipython3",
   "version": "3.10.12"
  }
 },
 "nbformat": 4,
 "nbformat_minor": 5
}
