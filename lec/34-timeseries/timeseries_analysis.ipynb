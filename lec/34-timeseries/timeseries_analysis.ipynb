{
 "cells": [
  {
   "cell_type": "code",
   "execution_count": null,
   "id": "841975c5-8a37-494c-8cd5-ba17c61b8f45",
   "metadata": {},
   "outputs": [],
   "source": [
    "import sys\n",
    "!{sys.executable} -m pip install tqdm\n",
    "!{sys.executable} -m pip install scikit-learn"
   ]
  },
  {
   "cell_type": "code",
   "execution_count": null,
   "id": "dfbb7190-37fc-4f77-bfad-ce72237d92bd",
   "metadata": {},
   "outputs": [],
   "source": [
    "import pandas as pd\n",
    "import numpy as np\n",
    "import matplotlib.pyplot as plt\n",
    "import plotly.express as px\n",
    "import os\n",
    "from typing import Tuple, List\n",
    "# new import statements\n",
    "from tqdm import tqdm\n",
    "from sklearn.model_selection import train_test_split\n",
    "from sklearn.linear_model import LinearRegression\n",
    "from statsmodels.graphics.tsaplots import plot_acf, plot_pacf"
   ]
  },
  {
   "cell_type": "markdown",
   "id": "32ab9956-1d5b-4a31-809b-7a21ea86160b",
   "metadata": {},
   "source": [
    "### Retailrocket recommender system dataset\n",
    "\n",
    "Source: https://www.kaggle.com/retailrocket/ecommerce-dataset"
   ]
  },
  {
   "cell_type": "markdown",
   "id": "35f6d898-108e-46e4-8ea2-0628fc5375ea",
   "metadata": {},
   "source": [
    "Load the dataset files."
   ]
  },
  {
   "cell_type": "code",
   "execution_count": null,
   "id": "bcca2cd5-7f27-485d-80b7-68d1e24f4c3f",
   "metadata": {},
   "outputs": [],
   "source": [
    "events = pd.read_csv(os.path.join(\\\n",
    "    '..', 'timeseries_lec_data', 'events.csv'))\n",
    "item_properties = pd.read_csv(os.path.join(\\\n",
    "    '..', 'timeseries_lec_data', 'item_properties_part1.csv'))\n",
    "category_tree = pd.read_csv(os.path.join(\\\n",
    "    '..', 'timeseries_lec_data', 'category_tree.csv'))"
   ]
  },
  {
   "cell_type": "code",
   "execution_count": null,
   "id": "e0f8f50a-a2bd-4960-b15b-c72dbdef4c10",
   "metadata": {},
   "outputs": [],
   "source": [
    "events['event_datetime'] = pd.to_datetime(events['timestamp'], unit='ms')\n",
    "events['event_date'] = events['event_datetime'].dt.date\n",
    "events"
   ]
  },
  {
   "cell_type": "code",
   "execution_count": null,
   "id": "01fd0ab3-0f87-4cae-ae6a-28cf289498f1",
   "metadata": {},
   "outputs": [],
   "source": [
    "events"
   ]
  },
  {
   "cell_type": "code",
   "execution_count": null,
   "id": "8f3deb63-562e-43cb-a981-aa74bf7405d2",
   "metadata": {},
   "outputs": [],
   "source": [
    "item_properties"
   ]
  },
  {
   "cell_type": "code",
   "execution_count": null,
   "id": "827fffa1-1b9d-4fb8-bb33-4eee8fc7302b",
   "metadata": {},
   "outputs": [],
   "source": [
    "category_tree"
   ]
  },
  {
   "cell_type": "markdown",
   "id": "3d2ae188-b5fe-4d9e-ae19-d1625f1f2164",
   "metadata": {},
   "source": [
    "#### Q4: [CORRECTION FROM LAST LECTURE] Calculate the monthly count number of events and create a line chart."
   ]
  },
  {
   "cell_type": "code",
   "execution_count": null,
   "id": "01fd908c-bc84-4dc7-a2d8-3c4179e94ead",
   "metadata": {},
   "outputs": [],
   "source": [
    "# Set timestamp as the index, resample to Month-Start, and calculate the count of number of events\n",
    "monthly_avg = events.set_index('event_datetime').resample('MS').size().reset_index(name='event_count')\n",
    "# 'ME' --- Month-End also would work for montly statistics\n",
    "\n",
    "monthly_avg['year'] = monthly_avg['event_datetime'].dt.year\n",
    "\n",
    "fig = px.line(\n",
    "    monthly_avg, \n",
    "    x='event_datetime', \n",
    "    y='event_count', \n",
    "    color='year', \n",
    "    title=\"Monthly total event counts\",\n",
    "    labels={'event_datetime': 'Month', 'event_count': 'Total Events', 'year': 'Year'}\n",
    ")\n",
    "fig.show()"
   ]
  },
  {
   "cell_type": "markdown",
   "id": "8609fde0-d2f4-4e3a-accf-7b4e790b6a26",
   "metadata": {},
   "source": [
    "### One-hot encoding\n",
    "\n",
    "One-hot encoding is a method for converting categorical data (non-numeric data that can take on a limited number of values, e.g., \"view\", \"addtocart\", \"transaction\") into a numerical format that machine learning algorithms can understand\n",
    "\n",
    "#### `pandas get_dummies` function\n",
    "\n",
    "Documentation: https://pandas.pydata.org/docs/reference/api/pandas.get_dummies.html"
   ]
  },
  {
   "cell_type": "markdown",
   "id": "4b621938-193c-44e0-843a-c4dffe967a42",
   "metadata": {},
   "source": [
    "#### Q4: One-hot encode the events data"
   ]
  },
  {
   "cell_type": "markdown",
   "id": "296eff40-a4fb-4f04-b8be-c34ce80c7524",
   "metadata": {},
   "source": [
    "Let's first determine the type of `event` column."
   ]
  },
  {
   "cell_type": "code",
   "execution_count": null,
   "id": "b7e0263b-719d-44d6-8df3-16cfcf081ca3",
   "metadata": {},
   "outputs": [],
   "source": [
    "def one_hot_encoder(df: pd.DataFrame, nan_as_category: bool = True) -> Tuple[pd.DataFrame, List[str]]:\n",
    "    \"\"\"\n",
    "    One-hot encode categorical columns in the given DataFrame.\n",
    "    \n",
    "    Parameters:\n",
    "        df (pd.DataFrame): The input DataFrame.\n",
    "        nan_as_category (bool): Whether to include NaN as a separate category.\n",
    "    \n",
    "    Returns:\n",
    "        Tuple[pd.DataFrame, List[str]]: The transformed DataFrame and the list of new column names.\n",
    "    \"\"\"\n",
    "    original_columns = list(df.columns)\n",
    "    print(original_columns)\n",
    "    \n",
    "    categorical_columns = df.select_dtypes([\"category\", \"object\"]).columns.tolist()\n",
    "    print(categorical_columns)\n",
    "    \n",
    "    df = pd.get_dummies(df, columns=categorical_columns, dummy_na=nan_as_category)\n",
    "    \n",
    "    new_columns = [col for col in df.columns if col not in original_columns]\n",
    "    print(new_columns)\n",
    "        \n",
    "    return df, new_columns"
   ]
  },
  {
   "cell_type": "code",
   "execution_count": null,
   "id": "7878eceb-0fc3-4d50-8f8e-19289ce543e0",
   "metadata": {},
   "outputs": [],
   "source": [
    "events.dtype"
   ]
  },
  {
   "cell_type": "code",
   "execution_count": null,
   "id": "c51d6347-fae6-45eb-8387-0e7a6ca948b3",
   "metadata": {},
   "outputs": [],
   "source": [
    "events.head()"
   ]
  },
  {
   "cell_type": "code",
   "execution_count": null,
   "id": "d514ed45-3502-4bc0-9050-78366719b75e",
   "metadata": {},
   "outputs": [],
   "source": [
    "events_encoded, event_columns = one_hot_encoder(events.drop('event_date', axis=1))\n",
    "events_encoded"
   ]
  },
  {
   "cell_type": "markdown",
   "id": "d9d1e0ed-22ac-4065-a269-a7297f01a02a",
   "metadata": {},
   "source": [
    "## Statistical model for timeseries analysis\n",
    "\n",
    "### 1. Exponential Moving Average (EMA)\n",
    "EMA is a quantitative technique used as a forecasting model for time series analysis. It is a statistical method used to smooth time-series data by giving more weight to recent observations and less weight to older ones. It's useful in scenarios where recent data points are considered more relevant and informative. Typical use case scenarios include financial time-series analysis or e-commerce product popularity prediction.\n",
    "\n",
    "### pandas ewm\n",
    "\n",
    "- Documentation: https://pandas.pydata.org/docs/reference/api/pandas.DataFrame.ewm.html.\n",
    "\n",
    "#### Q5: Use an Exponential Moving Average (EMA) model to calculate the average itemid view counts per category in the events dataset. Calculate the EMA for each category over a specified span."
   ]
  },
  {
   "cell_type": "code",
   "execution_count": null,
   "id": "34fe4c76-1cab-454c-9a3e-260a72daef1b",
   "metadata": {},
   "outputs": [],
   "source": [
    "item_properties"
   ]
  },
  {
   "cell_type": "markdown",
   "id": "96599c59-6124-4c9a-a711-d6b4d822bca3",
   "metadata": {},
   "source": [
    "#### Filter `item_properties` to get only rows where `property` is 'categoryid'."
   ]
  },
  {
   "cell_type": "code",
   "execution_count": null,
   "id": "a1923b59-8f04-42e3-9b29-73b8682c1f16",
   "metadata": {},
   "outputs": [],
   "source": [
    "category_items = item_properties[item_properties['property'] == 'categoryid'][['itemid', 'value']]\n",
    "# 'value' column contains the category IDs, so let's rename value to categoryid\n",
    "category_items.columns = ['itemid', 'categoryid']  \n",
    "category_items"
   ]
  },
  {
   "cell_type": "markdown",
   "id": "43d78301-9d7f-4fbc-8fec-06e769d667a9",
   "metadata": {},
   "source": [
    "#### Type conversion to `int`."
   ]
  },
  {
   "cell_type": "code",
   "execution_count": null,
   "id": "2af22ace-a622-477c-9c29-cb31192eeeaa",
   "metadata": {},
   "outputs": [],
   "source": [
    "category_items['categoryid'] = category_items['categoryid'].astype(int)"
   ]
  },
  {
   "cell_type": "markdown",
   "id": "79be9593-9c2b-4eaf-bf3e-0774127e2351",
   "metadata": {},
   "source": [
    "#### Compute the unique category ids (product families)."
   ]
  },
  {
   "cell_type": "code",
   "execution_count": null,
   "id": "18c774e0-a25e-4e83-b044-866f7327cd6b",
   "metadata": {},
   "outputs": [],
   "source": [
    "categories = category_items['categoryid'].unique()\n",
    "categories"
   ]
  },
  {
   "cell_type": "code",
   "execution_count": null,
   "id": "19ac22c6-badc-4b09-9d4f-d4d3d1a1e3a3",
   "metadata": {},
   "outputs": [],
   "source": [
    "len(categories)"
   ]
  },
  {
   "cell_type": "markdown",
   "id": "cac591f1-30d7-4224-ba7f-b48e9a7e87d3",
   "metadata": {},
   "source": [
    "#### Create a dataframe to store the results"
   ]
  },
  {
   "cell_type": "code",
   "execution_count": null,
   "id": "9dd8d763-3140-436c-b2bc-80e642b339d0",
   "metadata": {},
   "outputs": [],
   "source": [
    "results = pd.DataFrame(columns=[\"timestamp\", \"categoryid\", \"ema\"])\n",
    "results"
   ]
  },
  {
   "cell_type": "markdown",
   "id": "c99f983f-a714-44db-bdac-2b6898bbf5d6",
   "metadata": {},
   "source": [
    "#### tqdm\n",
    "\n",
    "Enables us to view progress meter for any iterable. Very helpful to keep track of programs that run for a long time.\n",
    "Documentation: https://tqdm.github.io/.                                                                                                   "
   ]
  },
  {
   "cell_type": "markdown",
   "id": "e0d955dc-079a-4589-8f12-150d2809c01b",
   "metadata": {},
   "source": [
    "#### Compute EMA for view event counts per timestamp"
   ]
  },
  {
   "cell_type": "code",
   "execution_count": null,
   "id": "4408318e-882e-43b4-9665-a8c942723037",
   "metadata": {},
   "outputs": [],
   "source": [
    "results_list = []\n",
    "\n",
    "for category in tqdm(categories, total=len(categories)):\n",
    "    # get the itemids associated with the current category\n",
    "    category_items_for_category = category_items[category_items['categoryid'] == category]['itemid']\n",
    "    \n",
    "    # filter the events dataset for the current category's items and 'view' events\n",
    "    category_events = events[(events['itemid'].isin(category_items_for_category)) & (events['event'] == 'view')]\n",
    "    \n",
    "    # group by timestamp to get the view counts per timestamp\n",
    "    view_counts = category_events.groupby(\"timestamp\").size()\n",
    "    \n",
    "    # apply the Exponential Moving Average (EMA) with a span of 16 to smooth the view counts\n",
    "    ema_values = view_counts.ewm(span=16, adjust=False).mean()\n",
    "    \n",
    "    # store the results with the EMA values for the category\n",
    "    category_results = pd.DataFrame({\n",
    "        \"timestamp\": ema_values.index,\n",
    "        \"categoryid\": category,\n",
    "        \"ema\": ema_values.values\n",
    "    })\n",
    "    \n",
    "    # append the current category's results to the results list\n",
    "    results_list.append(category_results)\n",
    "\n",
    "# concatenate all the results into a single DataFrame\n",
    "results = pd.concat(results_list, ignore_index=True)"
   ]
  },
  {
   "cell_type": "code",
   "execution_count": null,
   "id": "33895206-1a42-4f86-86b4-48a12017560e",
   "metadata": {},
   "outputs": [],
   "source": [
    "results"
   ]
  },
  {
   "cell_type": "markdown",
   "id": "ebd5e17a-7ad9-4fcc-8cdb-6e19fef27eaa",
   "metadata": {},
   "source": [
    "### 2. ARIMA (Autoregressive Integrated Moving Average) model\n",
    "\n",
    "### Autocorrelation Function (ACF) and Partial Autocorrelation Function (PACF)\n",
    "\n",
    "Autocorrelation and partial autocorrelation are statistical measures that help analyze the relationship between a time series and its lagged values. They help identify patterns, trends, and dependencies in the data, which are crucial for model selection and evaluation.\n",
    "\n",
    "### Autocorrelation\n",
    "\n",
    "- Autocorrelation measures the linear relationship between a time series and its lagged values. In simpler terms, it assesses how much the current value of a series depends on its past values. \n",
    "- Used for identifying the order of a moving average (MA) process.\n",
    "- Represents the overall correlation structure of the time series.\n",
    "- Autocorrelation measures the linear relationship between an observation and its previous observations at different lags.\n",
    "- Use case:\n",
    "    - To identify repeated patterns (seasonality).\n",
    "    - To assess whether a time series is random or has some dependency.\n",
    "    - To decide if a time series has autoregressive (AR) components.\n",
    "\n",
    "### Partial Autocorrelation\n",
    "- Partial autocorrelation removes the influence of intermediate lags, providing a clearer picture of the direct relationship between a variable and its past values. Unlike autocorrelation, partial autocorrelation focuses on the direct correlation at each lag.\n",
    "- Used for identifying the order of an autoregressive (AR) process.\n",
    "- Highlights the direct relationships between observations at specific lags.\n",
    "- Partial Autocorrelation measures the direct linear relationship between an observation and its previous observations at a specific lag, excluding the contributions from intermediate lags.\n",
    "- Use case:\n",
    "    - To determine the order of an autoregressive (AR) process.\n",
    "    - To identify the number of lags that have a significant and direct impact on the current value."
   ]
  },
  {
   "cell_type": "code",
   "execution_count": null,
   "id": "945b8291-ca3a-4bc2-91ba-5438e9d2ded5",
   "metadata": {},
   "outputs": [],
   "source": [
    "grouped_data = (\n",
    "    events_with_categories[events_with_categories['event'] == 'view']\n",
    "    .groupby(['event_datetime', 'categoryid'])\n",
    "    .size()\n",
    "    .reset_index(name='view_count') \n",
    ")\n",
    "grouped_data"
   ]
  },
  {
   "cell_type": "code",
   "execution_count": null,
   "id": "83a7ca5f-cb46-4858-af8f-90759c98c4d0",
   "metadata": {},
   "outputs": [],
   "source": [
    "category_totals = (\n",
    "    grouped_data.groupby('categoryid')['view_count']\n",
    "    .sum()\n",
    "    .reset_index()\n",
    "    .sort_values('view_count', ascending=False)\n",
    ")"
   ]
  },
  {
   "cell_type": "code",
   "execution_count": null,
   "id": "b514f29a-06c6-4bc1-baf1-b37d1a70e6c0",
   "metadata": {},
   "outputs": [],
   "source": [
    "top_categories = category_totals.head(20)['categoryid'].values"
   ]
  },
  {
   "cell_type": "code",
   "execution_count": null,
   "id": "84a7bde4-7d17-4012-93fa-14b89fc73f51",
   "metadata": {},
   "outputs": [],
   "source": [
    "for num, category in enumerate(top_categories):\n",
    "    try:\n",
    "        category_data = grouped_data[grouped_data['categoryid'] == category]\n",
    "        \n",
    "        # Resample to daily view counts\n",
    "        category_daily = (\n",
    "            category_data.set_index('event_datetime')\n",
    "            .resample('D')\n",
    "            .sum()\n",
    "            .fillna(0)  # Fill missing days with 0 view counts\n",
    "        )\n",
    "        \n",
    "        fig, ax = plt.subplots(1, 2, figsize=(15, 5))\n",
    "        \n",
    "        # Plot ACF and PACF\n",
    "        plot_acf(category_daily['view_count'], lags=20, ax=ax[0], title=f\"AUTOCORRELATION\\nCategory: {category}\")\n",
    "        plot_pacf(category_daily['view_count'], lags=20, ax=ax[1], title=f\"PARTIAL AUTOCORRELATION\\nCategory: {category}\")\n",
    "        \n",
    "        plt.show()\n",
    "    except Exception as e:\n",
    "        print(f\"Error processing category {category}: {e}\")\n",
    "        pass\n",
    "\n",
    "plt.close('all')"
   ]
  }
 ],
 "metadata": {
  "kernelspec": {
   "display_name": "Python 3 (ipykernel)",
   "language": "python",
   "name": "python3"
  },
  "language_info": {
   "codemirror_mode": {
    "name": "ipython",
    "version": 3
   },
   "file_extension": ".py",
   "mimetype": "text/x-python",
   "name": "python",
   "nbconvert_exporter": "python",
   "pygments_lexer": "ipython3",
   "version": "3.10.12"
  }
 },
 "nbformat": 4,
 "nbformat_minor": 5
}
