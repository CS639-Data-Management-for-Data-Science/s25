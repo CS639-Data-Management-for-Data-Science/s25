{
 "cells": [
  {
   "cell_type": "code",
   "execution_count": 2,
   "id": "ce9baa39-21e2-498e-8e3c-4ca8e238b69d",
   "metadata": {},
   "outputs": [
    {
     "name": "stdout",
     "output_type": "stream",
     "text": [
      "Archive:  sample_mflix.zip\n",
      "   creating: sample_mflix/\n",
      "  inflating: __MACOSX/._sample_mflix  \n",
      "  inflating: sample_mflix/sessions.json  \n",
      "  inflating: __MACOSX/sample_mflix/._sessions.json  \n",
      "  inflating: sample_mflix/movies.json  \n",
      "  inflating: __MACOSX/sample_mflix/._movies.json  \n",
      "  inflating: sample_mflix/comments.json  \n",
      "  inflating: __MACOSX/sample_mflix/._comments.json  \n",
      "  inflating: sample_mflix/theaters.json  \n",
      "  inflating: __MACOSX/sample_mflix/._theaters.json  \n",
      "  inflating: sample_mflix/users.json  \n",
      "  inflating: __MACOSX/sample_mflix/._users.json  \n"
     ]
    }
   ],
   "source": [
    "!unzip sample_mflix.zip\n"
   ]
  },
  {
   "cell_type": "code",
   "execution_count": null,
   "id": "88c6fee1-4704-4aa3-9770-1b3d8fe999d9",
   "metadata": {},
   "outputs": [],
   "source": []
  }
 ],
 "metadata": {
  "kernelspec": {
   "display_name": "Python 3 (ipykernel)",
   "language": "python",
   "name": "python3"
  },
  "language_info": {
   "codemirror_mode": {
    "name": "ipython",
    "version": 3
   },
   "file_extension": ".py",
   "mimetype": "text/x-python",
   "name": "python",
   "nbconvert_exporter": "python",
   "pygments_lexer": "ipython3",
   "version": "3.10.12"
  }
 },
 "nbformat": 4,
 "nbformat_minor": 5
}
